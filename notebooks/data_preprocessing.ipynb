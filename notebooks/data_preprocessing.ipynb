{
 "cells": [
  {
   "cell_type": "markdown",
   "metadata": {},
   "source": [
    "# Pre-processing and Training Data Development"
   ]
  },
  {
   "cell_type": "code",
   "execution_count": 335,
   "metadata": {},
   "outputs": [],
   "source": [
    "import pandas as pd\n",
    "import numpy as np\n",
    "import matplotlib.pyplot as plt"
   ]
  },
  {
   "cell_type": "markdown",
   "metadata": {},
   "source": [
    "## Load data"
   ]
  },
  {
   "cell_type": "code",
   "execution_count": 336,
   "metadata": {},
   "outputs": [],
   "source": [
    "data = pd.read_csv('../data/interim/energy_weather_explore.csv',index_col=0)"
   ]
  },
  {
   "cell_type": "code",
   "execution_count": 337,
   "metadata": {},
   "outputs": [
    {
     "data": {
      "text/html": [
       "<div>\n",
       "<style scoped>\n",
       "    .dataframe tbody tr th:only-of-type {\n",
       "        vertical-align: middle;\n",
       "    }\n",
       "\n",
       "    .dataframe tbody tr th {\n",
       "        vertical-align: top;\n",
       "    }\n",
       "\n",
       "    .dataframe thead th {\n",
       "        text-align: right;\n",
       "    }\n",
       "</style>\n",
       "<table border=\"1\" class=\"dataframe\">\n",
       "  <thead>\n",
       "    <tr style=\"text-align: right;\">\n",
       "      <th></th>\n",
       "      <th>datetime</th>\n",
       "      <th>energy</th>\n",
       "      <th>humidity</th>\n",
       "      <th>pressure</th>\n",
       "      <th>temperature</th>\n",
       "      <th>weather</th>\n",
       "      <th>wind_direction</th>\n",
       "      <th>wind_speed</th>\n",
       "      <th>year</th>\n",
       "      <th>month</th>\n",
       "      <th>month_name</th>\n",
       "      <th>day</th>\n",
       "      <th>hour</th>\n",
       "      <th>day_name</th>\n",
       "      <th>weekday</th>\n",
       "    </tr>\n",
       "  </thead>\n",
       "  <tbody>\n",
       "    <tr>\n",
       "      <th>0</th>\n",
       "      <td>2012-12-31 01:00:00</td>\n",
       "      <td>10445.0</td>\n",
       "      <td>68.0</td>\n",
       "      <td>1020.0</td>\n",
       "      <td>269.72</td>\n",
       "      <td>overcast clouds</td>\n",
       "      <td>290.0</td>\n",
       "      <td>6.0</td>\n",
       "      <td>2012</td>\n",
       "      <td>12</td>\n",
       "      <td>December</td>\n",
       "      <td>31</td>\n",
       "      <td>1</td>\n",
       "      <td>Monday</td>\n",
       "      <td>0</td>\n",
       "    </tr>\n",
       "    <tr>\n",
       "      <th>1</th>\n",
       "      <td>2012-12-31 02:00:00</td>\n",
       "      <td>9897.0</td>\n",
       "      <td>73.0</td>\n",
       "      <td>1020.0</td>\n",
       "      <td>269.05</td>\n",
       "      <td>overcast clouds</td>\n",
       "      <td>290.0</td>\n",
       "      <td>6.0</td>\n",
       "      <td>2012</td>\n",
       "      <td>12</td>\n",
       "      <td>December</td>\n",
       "      <td>31</td>\n",
       "      <td>2</td>\n",
       "      <td>Monday</td>\n",
       "      <td>0</td>\n",
       "    </tr>\n",
       "    <tr>\n",
       "      <th>2</th>\n",
       "      <td>2012-12-31 03:00:00</td>\n",
       "      <td>9538.0</td>\n",
       "      <td>68.0</td>\n",
       "      <td>1021.0</td>\n",
       "      <td>268.53</td>\n",
       "      <td>overcast clouds</td>\n",
       "      <td>280.0</td>\n",
       "      <td>6.0</td>\n",
       "      <td>2012</td>\n",
       "      <td>12</td>\n",
       "      <td>December</td>\n",
       "      <td>31</td>\n",
       "      <td>3</td>\n",
       "      <td>Monday</td>\n",
       "      <td>0</td>\n",
       "    </tr>\n",
       "    <tr>\n",
       "      <th>3</th>\n",
       "      <td>2012-12-31 04:00:00</td>\n",
       "      <td>9333.0</td>\n",
       "      <td>79.0</td>\n",
       "      <td>1022.0</td>\n",
       "      <td>267.83</td>\n",
       "      <td>overcast clouds</td>\n",
       "      <td>280.0</td>\n",
       "      <td>8.0</td>\n",
       "      <td>2012</td>\n",
       "      <td>12</td>\n",
       "      <td>December</td>\n",
       "      <td>31</td>\n",
       "      <td>4</td>\n",
       "      <td>Monday</td>\n",
       "      <td>0</td>\n",
       "    </tr>\n",
       "    <tr>\n",
       "      <th>4</th>\n",
       "      <td>2012-12-31 05:00:00</td>\n",
       "      <td>9275.0</td>\n",
       "      <td>85.0</td>\n",
       "      <td>1023.0</td>\n",
       "      <td>266.77</td>\n",
       "      <td>overcast clouds</td>\n",
       "      <td>270.0</td>\n",
       "      <td>6.0</td>\n",
       "      <td>2012</td>\n",
       "      <td>12</td>\n",
       "      <td>December</td>\n",
       "      <td>31</td>\n",
       "      <td>5</td>\n",
       "      <td>Monday</td>\n",
       "      <td>0</td>\n",
       "    </tr>\n",
       "  </tbody>\n",
       "</table>\n",
       "</div>"
      ],
      "text/plain": [
       "              datetime   energy  humidity  pressure  temperature  \\\n",
       "0  2012-12-31 01:00:00  10445.0      68.0    1020.0       269.72   \n",
       "1  2012-12-31 02:00:00   9897.0      73.0    1020.0       269.05   \n",
       "2  2012-12-31 03:00:00   9538.0      68.0    1021.0       268.53   \n",
       "3  2012-12-31 04:00:00   9333.0      79.0    1022.0       267.83   \n",
       "4  2012-12-31 05:00:00   9275.0      85.0    1023.0       266.77   \n",
       "\n",
       "           weather  wind_direction  wind_speed  year  month month_name  day  \\\n",
       "0  overcast clouds           290.0         6.0  2012     12   December   31   \n",
       "1  overcast clouds           290.0         6.0  2012     12   December   31   \n",
       "2  overcast clouds           280.0         6.0  2012     12   December   31   \n",
       "3  overcast clouds           280.0         8.0  2012     12   December   31   \n",
       "4  overcast clouds           270.0         6.0  2012     12   December   31   \n",
       "\n",
       "   hour day_name  weekday  \n",
       "0     1   Monday        0  \n",
       "1     2   Monday        0  \n",
       "2     3   Monday        0  \n",
       "3     4   Monday        0  \n",
       "4     5   Monday        0  "
      ]
     },
     "execution_count": 337,
     "metadata": {},
     "output_type": "execute_result"
    }
   ],
   "source": [
    "data.head()"
   ]
  },
  {
   "cell_type": "markdown",
   "metadata": {},
   "source": [
    "## Convert some features to one-hot encoding"
   ]
  },
  {
   "cell_type": "markdown",
   "metadata": {},
   "source": [
    "First, the categorical data for year, month, day, hour, and weather type must be converted to one hot encoding. Here, the first item is not dropped to retain explanability."
   ]
  },
  {
   "cell_type": "code",
   "execution_count": 338,
   "metadata": {},
   "outputs": [],
   "source": [
    "one_hot_year = pd.get_dummies(data.year,prefix='year')\n",
    "data = data.join(one_hot_year)"
   ]
  },
  {
   "cell_type": "code",
   "execution_count": 339,
   "metadata": {},
   "outputs": [],
   "source": [
    "one_hot_month = pd.get_dummies(data.month,prefix='month')\n",
    "data = data.join(one_hot_month)"
   ]
  },
  {
   "cell_type": "code",
   "execution_count": 340,
   "metadata": {},
   "outputs": [],
   "source": [
    "one_hot_day = pd.get_dummies(data.day,prefix='day')\n",
    "data = data.join(one_hot_day)"
   ]
  },
  {
   "cell_type": "code",
   "execution_count": 341,
   "metadata": {},
   "outputs": [],
   "source": [
    "one_hot_hour = pd.get_dummies(data.hour,prefix='hour')\n",
    "data = data.join(one_hot_hour)"
   ]
  },
  {
   "cell_type": "markdown",
   "metadata": {},
   "source": [
    "For weather, there are several types that occur less frequently. Thus, any weather type less than 100 occurances out of 44081 days will be considered as \"others\"."
   ]
  },
  {
   "cell_type": "code",
   "execution_count": 342,
   "metadata": {},
   "outputs": [
    {
     "data": {
      "text/plain": [
       "sky is clear                           10550\n",
       "broken clouds                           7073\n",
       "overcast clouds                         5095\n",
       "scattered clouds                        4379\n",
       "mist                                    4071\n",
       "few clouds                              3760\n",
       "light rain                              3688\n",
       "moderate rain                           1452\n",
       "light snow                               886\n",
       "haze                                     871\n",
       "fog                                      527\n",
       "heavy intensity rain                     501\n",
       "snow                                     241\n",
       "light intensity drizzle                  227\n",
       "heavy snow                               185\n",
       "proximity thunderstorm                   178\n",
       "drizzle                                  143\n",
       "thunderstorm                              78\n",
       "thunderstorm with light rain              60\n",
       "very heavy rain                           29\n",
       "thunderstorm with rain                    27\n",
       "thunderstorm with heavy rain              20\n",
       "proximity thunderstorm with rain          12\n",
       "heavy intensity drizzle                    7\n",
       "freezing rain                              5\n",
       "proximity thunderstorm with drizzle        4\n",
       "light rain and snow                        3\n",
       "dust                                       2\n",
       "thunderstorm with drizzle                  2\n",
       "proximity shower rain                      2\n",
       "squalls                                    1\n",
       "thunderstorm with light drizzle            1\n",
       "smoke                                      1\n",
       "Name: weather, dtype: int64"
      ]
     },
     "execution_count": 342,
     "metadata": {},
     "output_type": "execute_result"
    }
   ],
   "source": [
    "data.weather.value_counts()"
   ]
  },
  {
   "cell_type": "code",
   "execution_count": 343,
   "metadata": {},
   "outputs": [
    {
     "name": "stderr",
     "output_type": "stream",
     "text": [
      "/Users/gritkupgan/anaconda3/lib/python3.7/site-packages/ipykernel_launcher.py:3: SettingWithCopyWarning: \n",
      "A value is trying to be set on a copy of a slice from a DataFrame\n",
      "\n",
      "See the caveats in the documentation: https://pandas.pydata.org/pandas-docs/stable/user_guide/indexing.html#returning-a-view-versus-a-copy\n",
      "  This is separate from the ipykernel package so we can avoid doing imports until\n"
     ]
    }
   ],
   "source": [
    "counts = data.weather.value_counts()\n",
    "mask = data['weather'].isin(counts[counts < 100].index)\n",
    "data['weather'][mask] = 'other'"
   ]
  },
  {
   "cell_type": "code",
   "execution_count": 344,
   "metadata": {},
   "outputs": [],
   "source": [
    "one_hot_weather = pd.get_dummies(data.weather,prefix='weather')\n",
    "data = data.join(one_hot_weather)"
   ]
  },
  {
   "cell_type": "code",
   "execution_count": 345,
   "metadata": {},
   "outputs": [
    {
     "data": {
      "text/html": [
       "<div>\n",
       "<style scoped>\n",
       "    .dataframe tbody tr th:only-of-type {\n",
       "        vertical-align: middle;\n",
       "    }\n",
       "\n",
       "    .dataframe tbody tr th {\n",
       "        vertical-align: top;\n",
       "    }\n",
       "\n",
       "    .dataframe thead th {\n",
       "        text-align: right;\n",
       "    }\n",
       "</style>\n",
       "<table border=\"1\" class=\"dataframe\">\n",
       "  <thead>\n",
       "    <tr style=\"text-align: right;\">\n",
       "      <th></th>\n",
       "      <th>datetime</th>\n",
       "      <th>energy</th>\n",
       "      <th>humidity</th>\n",
       "      <th>pressure</th>\n",
       "      <th>temperature</th>\n",
       "      <th>weather</th>\n",
       "      <th>wind_direction</th>\n",
       "      <th>wind_speed</th>\n",
       "      <th>year</th>\n",
       "      <th>month</th>\n",
       "      <th>...</th>\n",
       "      <th>weather_light rain</th>\n",
       "      <th>weather_light snow</th>\n",
       "      <th>weather_mist</th>\n",
       "      <th>weather_moderate rain</th>\n",
       "      <th>weather_other</th>\n",
       "      <th>weather_overcast clouds</th>\n",
       "      <th>weather_proximity thunderstorm</th>\n",
       "      <th>weather_scattered clouds</th>\n",
       "      <th>weather_sky is clear</th>\n",
       "      <th>weather_snow</th>\n",
       "    </tr>\n",
       "  </thead>\n",
       "  <tbody>\n",
       "    <tr>\n",
       "      <th>0</th>\n",
       "      <td>2012-12-31 01:00:00</td>\n",
       "      <td>10445.0</td>\n",
       "      <td>68.0</td>\n",
       "      <td>1020.0</td>\n",
       "      <td>269.72</td>\n",
       "      <td>overcast clouds</td>\n",
       "      <td>290.0</td>\n",
       "      <td>6.0</td>\n",
       "      <td>2012</td>\n",
       "      <td>12</td>\n",
       "      <td>...</td>\n",
       "      <td>0</td>\n",
       "      <td>0</td>\n",
       "      <td>0</td>\n",
       "      <td>0</td>\n",
       "      <td>0</td>\n",
       "      <td>1</td>\n",
       "      <td>0</td>\n",
       "      <td>0</td>\n",
       "      <td>0</td>\n",
       "      <td>0</td>\n",
       "    </tr>\n",
       "    <tr>\n",
       "      <th>1</th>\n",
       "      <td>2012-12-31 02:00:00</td>\n",
       "      <td>9897.0</td>\n",
       "      <td>73.0</td>\n",
       "      <td>1020.0</td>\n",
       "      <td>269.05</td>\n",
       "      <td>overcast clouds</td>\n",
       "      <td>290.0</td>\n",
       "      <td>6.0</td>\n",
       "      <td>2012</td>\n",
       "      <td>12</td>\n",
       "      <td>...</td>\n",
       "      <td>0</td>\n",
       "      <td>0</td>\n",
       "      <td>0</td>\n",
       "      <td>0</td>\n",
       "      <td>0</td>\n",
       "      <td>1</td>\n",
       "      <td>0</td>\n",
       "      <td>0</td>\n",
       "      <td>0</td>\n",
       "      <td>0</td>\n",
       "    </tr>\n",
       "    <tr>\n",
       "      <th>2</th>\n",
       "      <td>2012-12-31 03:00:00</td>\n",
       "      <td>9538.0</td>\n",
       "      <td>68.0</td>\n",
       "      <td>1021.0</td>\n",
       "      <td>268.53</td>\n",
       "      <td>overcast clouds</td>\n",
       "      <td>280.0</td>\n",
       "      <td>6.0</td>\n",
       "      <td>2012</td>\n",
       "      <td>12</td>\n",
       "      <td>...</td>\n",
       "      <td>0</td>\n",
       "      <td>0</td>\n",
       "      <td>0</td>\n",
       "      <td>0</td>\n",
       "      <td>0</td>\n",
       "      <td>1</td>\n",
       "      <td>0</td>\n",
       "      <td>0</td>\n",
       "      <td>0</td>\n",
       "      <td>0</td>\n",
       "    </tr>\n",
       "    <tr>\n",
       "      <th>3</th>\n",
       "      <td>2012-12-31 04:00:00</td>\n",
       "      <td>9333.0</td>\n",
       "      <td>79.0</td>\n",
       "      <td>1022.0</td>\n",
       "      <td>267.83</td>\n",
       "      <td>overcast clouds</td>\n",
       "      <td>280.0</td>\n",
       "      <td>8.0</td>\n",
       "      <td>2012</td>\n",
       "      <td>12</td>\n",
       "      <td>...</td>\n",
       "      <td>0</td>\n",
       "      <td>0</td>\n",
       "      <td>0</td>\n",
       "      <td>0</td>\n",
       "      <td>0</td>\n",
       "      <td>1</td>\n",
       "      <td>0</td>\n",
       "      <td>0</td>\n",
       "      <td>0</td>\n",
       "      <td>0</td>\n",
       "    </tr>\n",
       "    <tr>\n",
       "      <th>4</th>\n",
       "      <td>2012-12-31 05:00:00</td>\n",
       "      <td>9275.0</td>\n",
       "      <td>85.0</td>\n",
       "      <td>1023.0</td>\n",
       "      <td>266.77</td>\n",
       "      <td>overcast clouds</td>\n",
       "      <td>270.0</td>\n",
       "      <td>6.0</td>\n",
       "      <td>2012</td>\n",
       "      <td>12</td>\n",
       "      <td>...</td>\n",
       "      <td>0</td>\n",
       "      <td>0</td>\n",
       "      <td>0</td>\n",
       "      <td>0</td>\n",
       "      <td>0</td>\n",
       "      <td>1</td>\n",
       "      <td>0</td>\n",
       "      <td>0</td>\n",
       "      <td>0</td>\n",
       "      <td>0</td>\n",
       "    </tr>\n",
       "  </tbody>\n",
       "</table>\n",
       "<p>5 rows × 106 columns</p>\n",
       "</div>"
      ],
      "text/plain": [
       "              datetime   energy  humidity  pressure  temperature  \\\n",
       "0  2012-12-31 01:00:00  10445.0      68.0    1020.0       269.72   \n",
       "1  2012-12-31 02:00:00   9897.0      73.0    1020.0       269.05   \n",
       "2  2012-12-31 03:00:00   9538.0      68.0    1021.0       268.53   \n",
       "3  2012-12-31 04:00:00   9333.0      79.0    1022.0       267.83   \n",
       "4  2012-12-31 05:00:00   9275.0      85.0    1023.0       266.77   \n",
       "\n",
       "           weather  wind_direction  wind_speed  year  month  ...  \\\n",
       "0  overcast clouds           290.0         6.0  2012     12  ...   \n",
       "1  overcast clouds           290.0         6.0  2012     12  ...   \n",
       "2  overcast clouds           280.0         6.0  2012     12  ...   \n",
       "3  overcast clouds           280.0         8.0  2012     12  ...   \n",
       "4  overcast clouds           270.0         6.0  2012     12  ...   \n",
       "\n",
       "  weather_light rain  weather_light snow  weather_mist weather_moderate rain  \\\n",
       "0                  0                   0             0                     0   \n",
       "1                  0                   0             0                     0   \n",
       "2                  0                   0             0                     0   \n",
       "3                  0                   0             0                     0   \n",
       "4                  0                   0             0                     0   \n",
       "\n",
       "   weather_other  weather_overcast clouds  weather_proximity thunderstorm  \\\n",
       "0              0                        1                               0   \n",
       "1              0                        1                               0   \n",
       "2              0                        1                               0   \n",
       "3              0                        1                               0   \n",
       "4              0                        1                               0   \n",
       "\n",
       "   weather_scattered clouds  weather_sky is clear  weather_snow  \n",
       "0                         0                     0             0  \n",
       "1                         0                     0             0  \n",
       "2                         0                     0             0  \n",
       "3                         0                     0             0  \n",
       "4                         0                     0             0  \n",
       "\n",
       "[5 rows x 106 columns]"
      ]
     },
     "execution_count": 345,
     "metadata": {},
     "output_type": "execute_result"
    }
   ],
   "source": [
    "data.head()"
   ]
  },
  {
   "cell_type": "markdown",
   "metadata": {},
   "source": [
    "# Split data"
   ]
  },
  {
   "cell_type": "code",
   "execution_count": 346,
   "metadata": {},
   "outputs": [],
   "source": [
    "from sklearn.model_selection import train_test_split\n",
    "data_train, data_test = train_test_split(data, test_size=0.25, random_state=42)\n",
    "data_train = data_train.copy()\n",
    "data_test = data_test.copy()"
   ]
  },
  {
   "cell_type": "markdown",
   "metadata": {},
   "source": [
    "# Standardization"
   ]
  },
  {
   "cell_type": "markdown",
   "metadata": {},
   "source": [
    "## Energy data"
   ]
  },
  {
   "cell_type": "code",
   "execution_count": 347,
   "metadata": {},
   "outputs": [],
   "source": [
    "from sklearn.preprocessing import StandardScaler\n",
    "from sklearn.preprocessing import MinMaxScaler\n",
    "from sklearn.preprocessing import PowerTransformer"
   ]
  },
  {
   "cell_type": "code",
   "execution_count": 348,
   "metadata": {},
   "outputs": [
    {
     "data": {
      "image/png": "[encoded data removed]",
      "text/plain": [
       "<Figure size 432x288 with 1 Axes>"
      ]
     },
     "metadata": {
      "needs_background": "light"
     },
     "output_type": "display_data"
    }
   ],
   "source": [
    "plt.hist(data_train['energy'])\n",
    "plt.title('Energy (original)')\n",
    "plt.show()"
   ]
  },
  {
   "cell_type": "markdown",
   "metadata": {},
   "source": [
    "The distribution of energy is skewed normal, standard scaler will be used."
   ]
  },
  {
   "cell_type": "code",
   "execution_count": 349,
   "metadata": {},
   "outputs": [],
   "source": [
    "scaler = StandardScaler()\n",
    "scaler.fit(data_train[['energy']])\n",
    "data_trasformed = scaler.transform(data_train[['energy']])\n",
    "data_train['n_energy'] = data_trasformed"
   ]
  },
  {
   "cell_type": "code",
   "execution_count": 350,
   "metadata": {},
   "outputs": [
    {
     "data": {
      "image/png": "[encoded data removed]",
      "text/plain": [
       "<Figure size 432x288 with 1 Axes>"
      ]
     },
     "metadata": {
      "needs_background": "light"
     },
     "output_type": "display_data"
    }
   ],
   "source": [
    "plt.hist(data_trasformed)\n",
    "plt.title('Energy (transformed)')\n",
    "plt.show()"
   ]
  },
  {
   "cell_type": "markdown",
   "metadata": {},
   "source": [
    "## Humidity data"
   ]
  },
  {
   "cell_type": "code",
   "execution_count": 351,
   "metadata": {},
   "outputs": [
    {
     "data": {
      "image/png": "[encoded data removed]",
      "text/plain": [
       "<Figure size 432x288 with 1 Axes>"
      ]
     },
     "metadata": {
      "needs_background": "light"
     },
     "output_type": "display_data"
    }
   ],
   "source": [
    "plt.hist(data_train['humidity'])\n",
    "plt.title('Humidity (original)')\n",
    "plt.show()"
   ]
  },
  {
   "cell_type": "markdown",
   "metadata": {},
   "source": [
    "The humidity measurement is typically between 0 to 100%. Thus, there is no outlier here and maxmin scaler will be used."
   ]
  },
  {
   "cell_type": "code",
   "execution_count": 352,
   "metadata": {},
   "outputs": [],
   "source": [
    "scaler = MinMaxScaler()\n",
    "scaler.fit(data_train[['humidity']])\n",
    "data_trasformed = scaler.transform(data_train[['humidity']])\n",
    "data_train['n_humidity'] = data_trasformed"
   ]
  },
  {
   "cell_type": "code",
   "execution_count": 353,
   "metadata": {},
   "outputs": [
    {
     "data": {
      "image/png": "[encoded data removed]",
      "text/plain": [
       "<Figure size 432x288 with 1 Axes>"
      ]
     },
     "metadata": {
      "needs_background": "light"
     },
     "output_type": "display_data"
    }
   ],
   "source": [
    "plt.hist(data_trasformed)\n",
    "plt.title('Humidity (transformed)')\n",
    "plt.show()"
   ]
  },
  {
   "cell_type": "markdown",
   "metadata": {},
   "source": [
    "## Pressure data"
   ]
  },
  {
   "cell_type": "code",
   "execution_count": 354,
   "metadata": {},
   "outputs": [
    {
     "data": {
      "image/png": "[encoded data removed]",
      "text/plain": [
       "<Figure size 432x288 with 1 Axes>"
      ]
     },
     "metadata": {
      "needs_background": "light"
     },
     "output_type": "display_data"
    }
   ],
   "source": [
    "plt.hist(data_train['pressure'])\n",
    "plt.title('Pressure (original)')\n",
    "plt.show()"
   ]
  },
  {
   "cell_type": "markdown",
   "metadata": {},
   "source": [
    "The pressure data is roughly normal, standard scaler will be applied. Also, the pressure data appear to contain outliers. The outliers will be removed using 3 standard deviations as the limits."
   ]
  },
  {
   "cell_type": "code",
   "execution_count": 355,
   "metadata": {},
   "outputs": [],
   "source": [
    "mean = data_train.pressure.mean()\n",
    "std = data_train.pressure.std()\n",
    "cutoff = std*3\n",
    "upper, lower = mean + cutoff, mean - cutoff\n",
    "data_train = data_train[(data_train['pressure'] < upper) & (data_train['pressure'] > lower)]"
   ]
  },
  {
   "cell_type": "code",
   "execution_count": 356,
   "metadata": {},
   "outputs": [
    {
     "data": {
      "image/png": "[encoded data removed]",
      "text/plain": [
       "<Figure size 432x288 with 1 Axes>"
      ]
     },
     "metadata": {
      "needs_background": "light"
     },
     "output_type": "display_data"
    }
   ],
   "source": [
    "plt.hist(data_train['pressure'])\n",
    "plt.title('Pressure (original), no outliers')\n",
    "plt.show()"
   ]
  },
  {
   "cell_type": "code",
   "execution_count": 357,
   "metadata": {},
   "outputs": [],
   "source": [
    "scaler = MinMaxScaler()\n",
    "scaler.fit(data_train[['pressure']])\n",
    "data_trasformed = scaler.transform(data_train[['pressure']])\n",
    "data_train['n_pressure'] = data_trasformed"
   ]
  },
  {
   "cell_type": "code",
   "execution_count": 358,
   "metadata": {},
   "outputs": [
    {
     "data": {
      "image/png": "[encoded data removed]",
      "text/plain": [
       "<Figure size 432x288 with 1 Axes>"
      ]
     },
     "metadata": {
      "needs_background": "light"
     },
     "output_type": "display_data"
    }
   ],
   "source": [
    "plt.hist(data_trasformed)\n",
    "plt.title('Pressure (transformed)')\n",
    "plt.show()"
   ]
  },
  {
   "cell_type": "markdown",
   "metadata": {},
   "source": [
    "## Temperature data"
   ]
  },
  {
   "cell_type": "code",
   "execution_count": 359,
   "metadata": {},
   "outputs": [
    {
     "data": {
      "image/png": "[encoded data removed]",
      "text/plain": [
       "<Figure size 432x288 with 1 Axes>"
      ]
     },
     "metadata": {
      "needs_background": "light"
     },
     "output_type": "display_data"
    }
   ],
   "source": [
    "plt.hist(data_train['temperature'])\n",
    "plt.title('Temperature (original)')\n",
    "plt.show()"
   ]
  },
  {
   "cell_type": "markdown",
   "metadata": {},
   "source": [
    "The distribution of temperature is roughly normal, standard scaler will be used."
   ]
  },
  {
   "cell_type": "code",
   "execution_count": 360,
   "metadata": {},
   "outputs": [],
   "source": [
    "scaler = StandardScaler()\n",
    "scaler.fit(data_train[['temperature']])\n",
    "data_trasformed = scaler.transform(data_train[['temperature']])\n",
    "data_train['n_temperature'] = data_trasformed"
   ]
  },
  {
   "cell_type": "code",
   "execution_count": 361,
   "metadata": {},
   "outputs": [
    {
     "data": {
      "image/png": "[encoded data removed]",
      "text/plain": [
       "<Figure size 432x288 with 1 Axes>"
      ]
     },
     "metadata": {
      "needs_background": "light"
     },
     "output_type": "display_data"
    }
   ],
   "source": [
    "plt.hist(data_trasformed)\n",
    "plt.title('Temperature (transformed)')\n",
    "plt.show()"
   ]
  },
  {
   "cell_type": "markdown",
   "metadata": {},
   "source": [
    "## Wind direction data"
   ]
  },
  {
   "cell_type": "code",
   "execution_count": 362,
   "metadata": {},
   "outputs": [
    {
     "data": {
      "image/png": "[encoded data removed]",
      "text/plain": [
       "<Figure size 432x288 with 1 Axes>"
      ]
     },
     "metadata": {
      "needs_background": "light"
     },
     "output_type": "display_data"
    }
   ],
   "source": [
    "plt.hist(data_train['wind_direction'])\n",
    "plt.title('Wind direction (original)')\n",
    "plt.show()"
   ]
  },
  {
   "cell_type": "markdown",
   "metadata": {},
   "source": [
    "The distribution is not normal, minmax scaling will be used."
   ]
  },
  {
   "cell_type": "code",
   "execution_count": 363,
   "metadata": {},
   "outputs": [],
   "source": [
    "scaler = MinMaxScaler()\n",
    "scaler.fit(data_train[['wind_direction']])\n",
    "data_trasformed = scaler.transform(data_train[['wind_direction']])\n",
    "data_train['n_wind_direction'] = data_trasformed"
   ]
  },
  {
   "cell_type": "code",
   "execution_count": 364,
   "metadata": {},
   "outputs": [
    {
     "data": {
      "image/png": "[encoded data removed]",
      "text/plain": [
       "<Figure size 432x288 with 1 Axes>"
      ]
     },
     "metadata": {
      "needs_background": "light"
     },
     "output_type": "display_data"
    }
   ],
   "source": [
    "plt.hist(data_trasformed)\n",
    "plt.title('Wind direction (transformed)')\n",
    "plt.show()"
   ]
  },
  {
   "cell_type": "markdown",
   "metadata": {},
   "source": [
    "## Wind speed data"
   ]
  },
  {
   "cell_type": "code",
   "execution_count": 365,
   "metadata": {},
   "outputs": [
    {
     "data": {
      "image/png": "[encoded data removed]",
      "text/plain": [
       "<Figure size 432x288 with 1 Axes>"
      ]
     },
     "metadata": {
      "needs_background": "light"
     },
     "output_type": "display_data"
    }
   ],
   "source": [
    "plt.hist(data_train['wind_speed'])\n",
    "plt.title('Wind speed (original)')\n",
    "plt.show()"
   ]
  },
  {
   "cell_type": "markdown",
   "metadata": {},
   "source": [
    "The wind speed is highly skewed to the left. Here the power transform featurewise is appropriate."
   ]
  },
  {
   "cell_type": "code",
   "execution_count": 366,
   "metadata": {},
   "outputs": [],
   "source": [
    "scaler = PowerTransformer()\n",
    "scaler.fit(data_train[['wind_speed']])\n",
    "data_trasformed = scaler.transform(data_train[['wind_speed']])\n",
    "data_train['n_wind_speed'] = data_trasformed"
   ]
  },
  {
   "cell_type": "code",
   "execution_count": 367,
   "metadata": {},
   "outputs": [
    {
     "data": {
      "image/png": "[encoded data removed]",
      "text/plain": [
       "<Figure size 432x288 with 1 Axes>"
      ]
     },
     "metadata": {
      "needs_background": "light"
     },
     "output_type": "display_data"
    }
   ],
   "source": [
    "plt.hist(data_trasformed)\n",
    "plt.title('Wind speed (transformed)')\n",
    "plt.show()"
   ]
  },
  {
   "cell_type": "code",
   "execution_count": 368,
   "metadata": {},
   "outputs": [
    {
     "data": {
      "text/html": [
       "<div>\n",
       "<style scoped>\n",
       "    .dataframe tbody tr th:only-of-type {\n",
       "        vertical-align: middle;\n",
       "    }\n",
       "\n",
       "    .dataframe tbody tr th {\n",
       "        vertical-align: top;\n",
       "    }\n",
       "\n",
       "    .dataframe thead th {\n",
       "        text-align: right;\n",
       "    }\n",
       "</style>\n",
       "<table border=\"1\" class=\"dataframe\">\n",
       "  <thead>\n",
       "    <tr style=\"text-align: right;\">\n",
       "      <th></th>\n",
       "      <th>datetime</th>\n",
       "      <th>energy</th>\n",
       "      <th>humidity</th>\n",
       "      <th>pressure</th>\n",
       "      <th>temperature</th>\n",
       "      <th>weather</th>\n",
       "      <th>wind_direction</th>\n",
       "      <th>wind_speed</th>\n",
       "      <th>year</th>\n",
       "      <th>month</th>\n",
       "      <th>...</th>\n",
       "      <th>weather_proximity thunderstorm</th>\n",
       "      <th>weather_scattered clouds</th>\n",
       "      <th>weather_sky is clear</th>\n",
       "      <th>weather_snow</th>\n",
       "      <th>n_energy</th>\n",
       "      <th>n_humidity</th>\n",
       "      <th>n_pressure</th>\n",
       "      <th>n_temperature</th>\n",
       "      <th>n_wind_direction</th>\n",
       "      <th>n_wind_speed</th>\n",
       "    </tr>\n",
       "  </thead>\n",
       "  <tbody>\n",
       "    <tr>\n",
       "      <th>1029</th>\n",
       "      <td>2012-11-10 10:00:00</td>\n",
       "      <td>9660.0</td>\n",
       "      <td>80.0</td>\n",
       "      <td>1019.0</td>\n",
       "      <td>276.020000</td>\n",
       "      <td>mist</td>\n",
       "      <td>170.0</td>\n",
       "      <td>3.0</td>\n",
       "      <td>2012</td>\n",
       "      <td>11</td>\n",
       "      <td>...</td>\n",
       "      <td>0</td>\n",
       "      <td>0</td>\n",
       "      <td>0</td>\n",
       "      <td>0</td>\n",
       "      <td>-0.750913</td>\n",
       "      <td>0.780220</td>\n",
       "      <td>0.500000</td>\n",
       "      <td>-0.680922</td>\n",
       "      <td>0.472222</td>\n",
       "      <td>-0.227407</td>\n",
       "    </tr>\n",
       "    <tr>\n",
       "      <th>40273</th>\n",
       "      <td>2017-06-08 08:00:00</td>\n",
       "      <td>9545.0</td>\n",
       "      <td>93.0</td>\n",
       "      <td>1018.0</td>\n",
       "      <td>285.360000</td>\n",
       "      <td>sky is clear</td>\n",
       "      <td>204.0</td>\n",
       "      <td>0.0</td>\n",
       "      <td>2017</td>\n",
       "      <td>6</td>\n",
       "      <td>...</td>\n",
       "      <td>0</td>\n",
       "      <td>0</td>\n",
       "      <td>1</td>\n",
       "      <td>0</td>\n",
       "      <td>-0.803172</td>\n",
       "      <td>0.923077</td>\n",
       "      <td>0.483333</td>\n",
       "      <td>0.169368</td>\n",
       "      <td>0.566667</td>\n",
       "      <td>-2.351618</td>\n",
       "    </tr>\n",
       "    <tr>\n",
       "      <th>12574</th>\n",
       "      <td>2014-09-14 10:00:00</td>\n",
       "      <td>8267.0</td>\n",
       "      <td>100.0</td>\n",
       "      <td>1040.0</td>\n",
       "      <td>283.035333</td>\n",
       "      <td>few clouds</td>\n",
       "      <td>214.0</td>\n",
       "      <td>3.0</td>\n",
       "      <td>2014</td>\n",
       "      <td>9</td>\n",
       "      <td>...</td>\n",
       "      <td>0</td>\n",
       "      <td>0</td>\n",
       "      <td>0</td>\n",
       "      <td>0</td>\n",
       "      <td>-1.383929</td>\n",
       "      <td>1.000000</td>\n",
       "      <td>0.850000</td>\n",
       "      <td>-0.042264</td>\n",
       "      <td>0.594444</td>\n",
       "      <td>-0.227407</td>\n",
       "    </tr>\n",
       "    <tr>\n",
       "      <th>24564</th>\n",
       "      <td>2015-04-25 15:00:00</td>\n",
       "      <td>10003.0</td>\n",
       "      <td>78.0</td>\n",
       "      <td>1023.0</td>\n",
       "      <td>279.729000</td>\n",
       "      <td>light rain</td>\n",
       "      <td>96.0</td>\n",
       "      <td>5.0</td>\n",
       "      <td>2015</td>\n",
       "      <td>4</td>\n",
       "      <td>...</td>\n",
       "      <td>0</td>\n",
       "      <td>0</td>\n",
       "      <td>0</td>\n",
       "      <td>0</td>\n",
       "      <td>-0.595044</td>\n",
       "      <td>0.758242</td>\n",
       "      <td>0.566667</td>\n",
       "      <td>-0.343264</td>\n",
       "      <td>0.266667</td>\n",
       "      <td>0.634893</td>\n",
       "    </tr>\n",
       "    <tr>\n",
       "      <th>30893</th>\n",
       "      <td>2016-08-04 09:00:00</td>\n",
       "      <td>13875.0</td>\n",
       "      <td>91.0</td>\n",
       "      <td>1013.0</td>\n",
       "      <td>293.520000</td>\n",
       "      <td>sky is clear</td>\n",
       "      <td>145.0</td>\n",
       "      <td>1.0</td>\n",
       "      <td>2016</td>\n",
       "      <td>8</td>\n",
       "      <td>...</td>\n",
       "      <td>0</td>\n",
       "      <td>0</td>\n",
       "      <td>1</td>\n",
       "      <td>0</td>\n",
       "      <td>1.164496</td>\n",
       "      <td>0.901099</td>\n",
       "      <td>0.400000</td>\n",
       "      <td>0.912234</td>\n",
       "      <td>0.402778</td>\n",
       "      <td>-1.427690</td>\n",
       "    </tr>\n",
       "  </tbody>\n",
       "</table>\n",
       "<p>5 rows × 112 columns</p>\n",
       "</div>"
      ],
      "text/plain": [
       "                  datetime   energy  humidity  pressure  temperature  \\\n",
       "1029   2012-11-10 10:00:00   9660.0      80.0    1019.0   276.020000   \n",
       "40273  2017-06-08 08:00:00   9545.0      93.0    1018.0   285.360000   \n",
       "12574  2014-09-14 10:00:00   8267.0     100.0    1040.0   283.035333   \n",
       "24564  2015-04-25 15:00:00  10003.0      78.0    1023.0   279.729000   \n",
       "30893  2016-08-04 09:00:00  13875.0      91.0    1013.0   293.520000   \n",
       "\n",
       "            weather  wind_direction  wind_speed  year  month  ...  \\\n",
       "1029           mist           170.0         3.0  2012     11  ...   \n",
       "40273  sky is clear           204.0         0.0  2017      6  ...   \n",
       "12574    few clouds           214.0         3.0  2014      9  ...   \n",
       "24564    light rain            96.0         5.0  2015      4  ...   \n",
       "30893  sky is clear           145.0         1.0  2016      8  ...   \n",
       "\n",
       "      weather_proximity thunderstorm  weather_scattered clouds  \\\n",
       "1029                               0                         0   \n",
       "40273                              0                         0   \n",
       "12574                              0                         0   \n",
       "24564                              0                         0   \n",
       "30893                              0                         0   \n",
       "\n",
       "       weather_sky is clear weather_snow  n_energy  n_humidity  n_pressure  \\\n",
       "1029                      0            0 -0.750913    0.780220    0.500000   \n",
       "40273                     1            0 -0.803172    0.923077    0.483333   \n",
       "12574                     0            0 -1.383929    1.000000    0.850000   \n",
       "24564                     0            0 -0.595044    0.758242    0.566667   \n",
       "30893                     1            0  1.164496    0.901099    0.400000   \n",
       "\n",
       "       n_temperature  n_wind_direction  n_wind_speed  \n",
       "1029       -0.680922          0.472222     -0.227407  \n",
       "40273       0.169368          0.566667     -2.351618  \n",
       "12574      -0.042264          0.594444     -0.227407  \n",
       "24564      -0.343264          0.266667      0.634893  \n",
       "30893       0.912234          0.402778     -1.427690  \n",
       "\n",
       "[5 rows x 112 columns]"
      ]
     },
     "execution_count": 368,
     "metadata": {},
     "output_type": "execute_result"
    }
   ],
   "source": [
    "data_train.head()"
   ]
  },
  {
   "cell_type": "code",
   "execution_count": 369,
   "metadata": {},
   "outputs": [
    {
     "data": {
      "text/html": [
       "<div>\n",
       "<style scoped>\n",
       "    .dataframe tbody tr th:only-of-type {\n",
       "        vertical-align: middle;\n",
       "    }\n",
       "\n",
       "    .dataframe tbody tr th {\n",
       "        vertical-align: top;\n",
       "    }\n",
       "\n",
       "    .dataframe thead th {\n",
       "        text-align: right;\n",
       "    }\n",
       "</style>\n",
       "<table border=\"1\" class=\"dataframe\">\n",
       "  <thead>\n",
       "    <tr style=\"text-align: right;\">\n",
       "      <th></th>\n",
       "      <th>datetime</th>\n",
       "      <th>energy</th>\n",
       "      <th>humidity</th>\n",
       "      <th>pressure</th>\n",
       "      <th>temperature</th>\n",
       "      <th>weather</th>\n",
       "      <th>wind_direction</th>\n",
       "      <th>wind_speed</th>\n",
       "      <th>year</th>\n",
       "      <th>month</th>\n",
       "      <th>...</th>\n",
       "      <th>weather_light rain</th>\n",
       "      <th>weather_light snow</th>\n",
       "      <th>weather_mist</th>\n",
       "      <th>weather_moderate rain</th>\n",
       "      <th>weather_other</th>\n",
       "      <th>weather_overcast clouds</th>\n",
       "      <th>weather_proximity thunderstorm</th>\n",
       "      <th>weather_scattered clouds</th>\n",
       "      <th>weather_sky is clear</th>\n",
       "      <th>weather_snow</th>\n",
       "    </tr>\n",
       "  </thead>\n",
       "  <tbody>\n",
       "    <tr>\n",
       "      <th>14500</th>\n",
       "      <td>2014-06-26 16:00:00</td>\n",
       "      <td>14150.0</td>\n",
       "      <td>98.0</td>\n",
       "      <td>1031.0</td>\n",
       "      <td>286.506000</td>\n",
       "      <td>light rain</td>\n",
       "      <td>21.0</td>\n",
       "      <td>1.0</td>\n",
       "      <td>2014</td>\n",
       "      <td>6</td>\n",
       "      <td>...</td>\n",
       "      <td>1</td>\n",
       "      <td>0</td>\n",
       "      <td>0</td>\n",
       "      <td>0</td>\n",
       "      <td>0</td>\n",
       "      <td>0</td>\n",
       "      <td>0</td>\n",
       "      <td>0</td>\n",
       "      <td>0</td>\n",
       "      <td>0</td>\n",
       "    </tr>\n",
       "    <tr>\n",
       "      <th>10439</th>\n",
       "      <td>2014-12-12 11:00:00</td>\n",
       "      <td>13012.0</td>\n",
       "      <td>100.0</td>\n",
       "      <td>1040.0</td>\n",
       "      <td>271.060000</td>\n",
       "      <td>sky is clear</td>\n",
       "      <td>292.0</td>\n",
       "      <td>4.0</td>\n",
       "      <td>2014</td>\n",
       "      <td>12</td>\n",
       "      <td>...</td>\n",
       "      <td>0</td>\n",
       "      <td>0</td>\n",
       "      <td>0</td>\n",
       "      <td>0</td>\n",
       "      <td>0</td>\n",
       "      <td>0</td>\n",
       "      <td>0</td>\n",
       "      <td>0</td>\n",
       "      <td>1</td>\n",
       "      <td>0</td>\n",
       "    </tr>\n",
       "    <tr>\n",
       "      <th>20743</th>\n",
       "      <td>2015-10-01 10:00:00</td>\n",
       "      <td>10587.0</td>\n",
       "      <td>58.0</td>\n",
       "      <td>1024.0</td>\n",
       "      <td>283.150000</td>\n",
       "      <td>broken clouds</td>\n",
       "      <td>60.0</td>\n",
       "      <td>6.0</td>\n",
       "      <td>2015</td>\n",
       "      <td>10</td>\n",
       "      <td>...</td>\n",
       "      <td>0</td>\n",
       "      <td>0</td>\n",
       "      <td>0</td>\n",
       "      <td>0</td>\n",
       "      <td>0</td>\n",
       "      <td>0</td>\n",
       "      <td>0</td>\n",
       "      <td>0</td>\n",
       "      <td>0</td>\n",
       "      <td>0</td>\n",
       "    </tr>\n",
       "    <tr>\n",
       "      <th>8568</th>\n",
       "      <td>2013-03-04 19:00:00</td>\n",
       "      <td>12984.0</td>\n",
       "      <td>34.0</td>\n",
       "      <td>1019.0</td>\n",
       "      <td>273.790000</td>\n",
       "      <td>few clouds</td>\n",
       "      <td>330.0</td>\n",
       "      <td>4.0</td>\n",
       "      <td>2013</td>\n",
       "      <td>3</td>\n",
       "      <td>...</td>\n",
       "      <td>0</td>\n",
       "      <td>0</td>\n",
       "      <td>0</td>\n",
       "      <td>0</td>\n",
       "      <td>0</td>\n",
       "      <td>0</td>\n",
       "      <td>0</td>\n",
       "      <td>0</td>\n",
       "      <td>0</td>\n",
       "      <td>0</td>\n",
       "    </tr>\n",
       "    <tr>\n",
       "      <th>23998</th>\n",
       "      <td>2015-05-18 01:00:00</td>\n",
       "      <td>10405.0</td>\n",
       "      <td>69.0</td>\n",
       "      <td>1025.0</td>\n",
       "      <td>290.402667</td>\n",
       "      <td>moderate rain</td>\n",
       "      <td>201.0</td>\n",
       "      <td>6.0</td>\n",
       "      <td>2015</td>\n",
       "      <td>5</td>\n",
       "      <td>...</td>\n",
       "      <td>0</td>\n",
       "      <td>0</td>\n",
       "      <td>0</td>\n",
       "      <td>1</td>\n",
       "      <td>0</td>\n",
       "      <td>0</td>\n",
       "      <td>0</td>\n",
       "      <td>0</td>\n",
       "      <td>0</td>\n",
       "      <td>0</td>\n",
       "    </tr>\n",
       "  </tbody>\n",
       "</table>\n",
       "<p>5 rows × 106 columns</p>\n",
       "</div>"
      ],
      "text/plain": [
       "                  datetime   energy  humidity  pressure  temperature  \\\n",
       "14500  2014-06-26 16:00:00  14150.0      98.0    1031.0   286.506000   \n",
       "10439  2014-12-12 11:00:00  13012.0     100.0    1040.0   271.060000   \n",
       "20743  2015-10-01 10:00:00  10587.0      58.0    1024.0   283.150000   \n",
       "8568   2013-03-04 19:00:00  12984.0      34.0    1019.0   273.790000   \n",
       "23998  2015-05-18 01:00:00  10405.0      69.0    1025.0   290.402667   \n",
       "\n",
       "             weather  wind_direction  wind_speed  year  month  ...  \\\n",
       "14500     light rain            21.0         1.0  2014      6  ...   \n",
       "10439   sky is clear           292.0         4.0  2014     12  ...   \n",
       "20743  broken clouds            60.0         6.0  2015     10  ...   \n",
       "8568      few clouds           330.0         4.0  2013      3  ...   \n",
       "23998  moderate rain           201.0         6.0  2015      5  ...   \n",
       "\n",
       "      weather_light rain  weather_light snow  weather_mist  \\\n",
       "14500                  1                   0             0   \n",
       "10439                  0                   0             0   \n",
       "20743                  0                   0             0   \n",
       "8568                   0                   0             0   \n",
       "23998                  0                   0             0   \n",
       "\n",
       "      weather_moderate rain  weather_other  weather_overcast clouds  \\\n",
       "14500                     0              0                        0   \n",
       "10439                     0              0                        0   \n",
       "20743                     0              0                        0   \n",
       "8568                      0              0                        0   \n",
       "23998                     1              0                        0   \n",
       "\n",
       "       weather_proximity thunderstorm  weather_scattered clouds  \\\n",
       "14500                               0                         0   \n",
       "10439                               0                         0   \n",
       "20743                               0                         0   \n",
       "8568                                0                         0   \n",
       "23998                               0                         0   \n",
       "\n",
       "       weather_sky is clear  weather_snow  \n",
       "14500                     0             0  \n",
       "10439                     1             0  \n",
       "20743                     0             0  \n",
       "8568                      0             0  \n",
       "23998                     0             0  \n",
       "\n",
       "[5 rows x 106 columns]"
      ]
     },
     "execution_count": 369,
     "metadata": {},
     "output_type": "execute_result"
    }
   ],
   "source": [
    "data_test.head()"
   ]
  },
  {
   "cell_type": "code",
   "execution_count": 370,
   "metadata": {},
   "outputs": [],
   "source": [
    "data_train.to_csv('../data/interim/energy_weather_features_train.csv')\n",
    "data_test.to_csv('../data/interim/energy_weather_features_test.csv')"
   ]
  }
 ],
 "metadata": {
  "kernelspec": {
   "display_name": "Python 3",
   "language": "python",
   "name": "python3"
  },
  "language_info": {
   "codemirror_mode": {
    "name": "ipython",
    "version": 3
   },
   "file_extension": ".py",
   "mimetype": "text/x-python",
   "name": "python",
   "nbconvert_exporter": "python",
   "pygments_lexer": "ipython3",
   "version": "3.7.6"
  }
 },
 "nbformat": 4,
 "nbformat_minor": 4
}
