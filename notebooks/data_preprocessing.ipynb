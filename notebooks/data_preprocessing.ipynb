{
 "cells": [
  {
   "cell_type": "markdown",
   "metadata": {},
   "source": [
    "# Pre-processing and Training Data Development"
   ]
  },
  {
   "cell_type": "code",
   "execution_count": 1,
   "metadata": {},
   "outputs": [],
   "source": [
    "import pandas as pd\n",
    "import numpy as np\n",
    "import matplotlib.pyplot as plt"
   ]
  },
  {
   "cell_type": "markdown",
   "metadata": {},
   "source": [
    "## Load data"
   ]
  },
  {
   "cell_type": "code",
   "execution_count": 2,
   "metadata": {},
   "outputs": [],
   "source": [
    "data = pd.read_csv('../data/interim/energy_weather_explore.csv',index_col=0)"
   ]
  },
  {
   "cell_type": "code",
   "execution_count": 3,
   "metadata": {},
   "outputs": [
    {
     "data": {
      "text/html": [
       "<div>\n",
       "<style scoped>\n",
       "    .dataframe tbody tr th:only-of-type {\n",
       "        vertical-align: middle;\n",
       "    }\n",
       "\n",
       "    .dataframe tbody tr th {\n",
       "        vertical-align: top;\n",
       "    }\n",
       "\n",
       "    .dataframe thead th {\n",
       "        text-align: right;\n",
       "    }\n",
       "</style>\n",
       "<table border=\"1\" class=\"dataframe\">\n",
       "  <thead>\n",
       "    <tr style=\"text-align: right;\">\n",
       "      <th></th>\n",
       "      <th>datetime</th>\n",
       "      <th>energy</th>\n",
       "      <th>humidity</th>\n",
       "      <th>pressure</th>\n",
       "      <th>temperature</th>\n",
       "      <th>weather</th>\n",
       "      <th>wind_direction</th>\n",
       "      <th>wind_speed</th>\n",
       "      <th>year</th>\n",
       "      <th>month</th>\n",
       "      <th>month_name</th>\n",
       "      <th>day</th>\n",
       "      <th>hour</th>\n",
       "      <th>day_name</th>\n",
       "      <th>weekday</th>\n",
       "    </tr>\n",
       "  </thead>\n",
       "  <tbody>\n",
       "    <tr>\n",
       "      <th>0</th>\n",
       "      <td>2012-12-31 01:00:00</td>\n",
       "      <td>10445.0</td>\n",
       "      <td>68.0</td>\n",
       "      <td>1020.0</td>\n",
       "      <td>269.72</td>\n",
       "      <td>overcast clouds</td>\n",
       "      <td>290.0</td>\n",
       "      <td>6.0</td>\n",
       "      <td>2012</td>\n",
       "      <td>12</td>\n",
       "      <td>December</td>\n",
       "      <td>31</td>\n",
       "      <td>1</td>\n",
       "      <td>Monday</td>\n",
       "      <td>0</td>\n",
       "    </tr>\n",
       "    <tr>\n",
       "      <th>1</th>\n",
       "      <td>2012-12-31 02:00:00</td>\n",
       "      <td>9897.0</td>\n",
       "      <td>73.0</td>\n",
       "      <td>1020.0</td>\n",
       "      <td>269.05</td>\n",
       "      <td>overcast clouds</td>\n",
       "      <td>290.0</td>\n",
       "      <td>6.0</td>\n",
       "      <td>2012</td>\n",
       "      <td>12</td>\n",
       "      <td>December</td>\n",
       "      <td>31</td>\n",
       "      <td>2</td>\n",
       "      <td>Monday</td>\n",
       "      <td>0</td>\n",
       "    </tr>\n",
       "    <tr>\n",
       "      <th>2</th>\n",
       "      <td>2012-12-31 03:00:00</td>\n",
       "      <td>9538.0</td>\n",
       "      <td>68.0</td>\n",
       "      <td>1021.0</td>\n",
       "      <td>268.53</td>\n",
       "      <td>overcast clouds</td>\n",
       "      <td>280.0</td>\n",
       "      <td>6.0</td>\n",
       "      <td>2012</td>\n",
       "      <td>12</td>\n",
       "      <td>December</td>\n",
       "      <td>31</td>\n",
       "      <td>3</td>\n",
       "      <td>Monday</td>\n",
       "      <td>0</td>\n",
       "    </tr>\n",
       "    <tr>\n",
       "      <th>3</th>\n",
       "      <td>2012-12-31 04:00:00</td>\n",
       "      <td>9333.0</td>\n",
       "      <td>79.0</td>\n",
       "      <td>1022.0</td>\n",
       "      <td>267.83</td>\n",
       "      <td>overcast clouds</td>\n",
       "      <td>280.0</td>\n",
       "      <td>8.0</td>\n",
       "      <td>2012</td>\n",
       "      <td>12</td>\n",
       "      <td>December</td>\n",
       "      <td>31</td>\n",
       "      <td>4</td>\n",
       "      <td>Monday</td>\n",
       "      <td>0</td>\n",
       "    </tr>\n",
       "    <tr>\n",
       "      <th>4</th>\n",
       "      <td>2012-12-31 05:00:00</td>\n",
       "      <td>9275.0</td>\n",
       "      <td>85.0</td>\n",
       "      <td>1023.0</td>\n",
       "      <td>266.77</td>\n",
       "      <td>overcast clouds</td>\n",
       "      <td>270.0</td>\n",
       "      <td>6.0</td>\n",
       "      <td>2012</td>\n",
       "      <td>12</td>\n",
       "      <td>December</td>\n",
       "      <td>31</td>\n",
       "      <td>5</td>\n",
       "      <td>Monday</td>\n",
       "      <td>0</td>\n",
       "    </tr>\n",
       "  </tbody>\n",
       "</table>\n",
       "</div>"
      ],
      "text/plain": [
       "              datetime   energy  humidity  pressure  temperature  \\\n",
       "0  2012-12-31 01:00:00  10445.0      68.0    1020.0       269.72   \n",
       "1  2012-12-31 02:00:00   9897.0      73.0    1020.0       269.05   \n",
       "2  2012-12-31 03:00:00   9538.0      68.0    1021.0       268.53   \n",
       "3  2012-12-31 04:00:00   9333.0      79.0    1022.0       267.83   \n",
       "4  2012-12-31 05:00:00   9275.0      85.0    1023.0       266.77   \n",
       "\n",
       "           weather  wind_direction  wind_speed  year  month month_name  day  \\\n",
       "0  overcast clouds           290.0         6.0  2012     12   December   31   \n",
       "1  overcast clouds           290.0         6.0  2012     12   December   31   \n",
       "2  overcast clouds           280.0         6.0  2012     12   December   31   \n",
       "3  overcast clouds           280.0         8.0  2012     12   December   31   \n",
       "4  overcast clouds           270.0         6.0  2012     12   December   31   \n",
       "\n",
       "   hour day_name  weekday  \n",
       "0     1   Monday        0  \n",
       "1     2   Monday        0  \n",
       "2     3   Monday        0  \n",
       "3     4   Monday        0  \n",
       "4     5   Monday        0  "
      ]
     },
     "execution_count": 3,
     "metadata": {},
     "output_type": "execute_result"
    }
   ],
   "source": [
    "data.head()"
   ]
  },
  {
   "cell_type": "markdown",
   "metadata": {},
   "source": [
    "Use datatime, get rid of other time-related columns"
   ]
  },
  {
   "cell_type": "code",
   "execution_count": 4,
   "metadata": {},
   "outputs": [],
   "source": [
    "data = data[['datetime','energy','humidity','pressure','temperature','weather','wind_direction','wind_speed']]"
   ]
  },
  {
   "cell_type": "code",
   "execution_count": 5,
   "metadata": {},
   "outputs": [],
   "source": [
    "data['datetime'] = pd.to_datetime(data['datetime'])"
   ]
  },
  {
   "cell_type": "code",
   "execution_count": 6,
   "metadata": {},
   "outputs": [],
   "source": [
    "data = data.set_index('datetime')"
   ]
  },
  {
   "cell_type": "code",
   "execution_count": 7,
   "metadata": {},
   "outputs": [
    {
     "data": {
      "text/plain": [
       "energy            float64\n",
       "humidity          float64\n",
       "pressure          float64\n",
       "temperature       float64\n",
       "weather            object\n",
       "wind_direction    float64\n",
       "wind_speed        float64\n",
       "dtype: object"
      ]
     },
     "execution_count": 7,
     "metadata": {},
     "output_type": "execute_result"
    }
   ],
   "source": [
    "data.dtypes"
   ]
  },
  {
   "cell_type": "markdown",
   "metadata": {},
   "source": [
    "## Convert some features to one-hot encoding"
   ]
  },
  {
   "cell_type": "markdown",
   "metadata": {},
   "source": [
    "First, the categorical data must be converted to one hot encoding. Here, the first item is not dropped to retain explanability."
   ]
  },
  {
   "cell_type": "markdown",
   "metadata": {},
   "source": [
    "For weather, there are several types that occur less frequently. Thus, any weather type less than 100 occurances out of 44081 days will be considered as \"others\"."
   ]
  },
  {
   "cell_type": "code",
   "execution_count": 8,
   "metadata": {},
   "outputs": [
    {
     "data": {
      "text/plain": [
       "sky is clear                           10550\n",
       "broken clouds                           7073\n",
       "overcast clouds                         5095\n",
       "scattered clouds                        4379\n",
       "mist                                    4071\n",
       "few clouds                              3760\n",
       "light rain                              3688\n",
       "moderate rain                           1452\n",
       "light snow                               886\n",
       "haze                                     871\n",
       "fog                                      527\n",
       "heavy intensity rain                     501\n",
       "snow                                     241\n",
       "light intensity drizzle                  227\n",
       "heavy snow                               185\n",
       "proximity thunderstorm                   178\n",
       "drizzle                                  143\n",
       "thunderstorm                              78\n",
       "thunderstorm with light rain              60\n",
       "very heavy rain                           29\n",
       "thunderstorm with rain                    27\n",
       "thunderstorm with heavy rain              20\n",
       "proximity thunderstorm with rain          12\n",
       "heavy intensity drizzle                    7\n",
       "freezing rain                              5\n",
       "proximity thunderstorm with drizzle        4\n",
       "light rain and snow                        3\n",
       "dust                                       2\n",
       "thunderstorm with drizzle                  2\n",
       "proximity shower rain                      2\n",
       "squalls                                    1\n",
       "smoke                                      1\n",
       "thunderstorm with light drizzle            1\n",
       "Name: weather, dtype: int64"
      ]
     },
     "execution_count": 8,
     "metadata": {},
     "output_type": "execute_result"
    }
   ],
   "source": [
    "data.weather.value_counts()"
   ]
  },
  {
   "cell_type": "code",
   "execution_count": 9,
   "metadata": {},
   "outputs": [
    {
     "name": "stderr",
     "output_type": "stream",
     "text": [
      "/Users/gritkupgan/anaconda3/lib/python3.7/site-packages/ipykernel_launcher.py:3: SettingWithCopyWarning: \n",
      "A value is trying to be set on a copy of a slice from a DataFrame\n",
      "\n",
      "See the caveats in the documentation: https://pandas.pydata.org/pandas-docs/stable/user_guide/indexing.html#returning-a-view-versus-a-copy\n",
      "  This is separate from the ipykernel package so we can avoid doing imports until\n"
     ]
    }
   ],
   "source": [
    "counts = data.weather.value_counts()\n",
    "mask = data['weather'].isin(counts[counts < 100].index)\n",
    "data['weather'][mask] = 'other'"
   ]
  },
  {
   "cell_type": "code",
   "execution_count": 10,
   "metadata": {},
   "outputs": [],
   "source": [
    "one_hot_weather = pd.get_dummies(data.weather,prefix='weather')\n",
    "data = data.join(one_hot_weather)"
   ]
  },
  {
   "cell_type": "code",
   "execution_count": 11,
   "metadata": {},
   "outputs": [
    {
     "data": {
      "text/html": [
       "<div>\n",
       "<style scoped>\n",
       "    .dataframe tbody tr th:only-of-type {\n",
       "        vertical-align: middle;\n",
       "    }\n",
       "\n",
       "    .dataframe tbody tr th {\n",
       "        vertical-align: top;\n",
       "    }\n",
       "\n",
       "    .dataframe thead th {\n",
       "        text-align: right;\n",
       "    }\n",
       "</style>\n",
       "<table border=\"1\" class=\"dataframe\">\n",
       "  <thead>\n",
       "    <tr style=\"text-align: right;\">\n",
       "      <th></th>\n",
       "      <th>energy</th>\n",
       "      <th>humidity</th>\n",
       "      <th>pressure</th>\n",
       "      <th>temperature</th>\n",
       "      <th>weather</th>\n",
       "      <th>wind_direction</th>\n",
       "      <th>wind_speed</th>\n",
       "      <th>weather_broken clouds</th>\n",
       "      <th>weather_drizzle</th>\n",
       "      <th>weather_few clouds</th>\n",
       "      <th>...</th>\n",
       "      <th>weather_light rain</th>\n",
       "      <th>weather_light snow</th>\n",
       "      <th>weather_mist</th>\n",
       "      <th>weather_moderate rain</th>\n",
       "      <th>weather_other</th>\n",
       "      <th>weather_overcast clouds</th>\n",
       "      <th>weather_proximity thunderstorm</th>\n",
       "      <th>weather_scattered clouds</th>\n",
       "      <th>weather_sky is clear</th>\n",
       "      <th>weather_snow</th>\n",
       "    </tr>\n",
       "    <tr>\n",
       "      <th>datetime</th>\n",
       "      <th></th>\n",
       "      <th></th>\n",
       "      <th></th>\n",
       "      <th></th>\n",
       "      <th></th>\n",
       "      <th></th>\n",
       "      <th></th>\n",
       "      <th></th>\n",
       "      <th></th>\n",
       "      <th></th>\n",
       "      <th></th>\n",
       "      <th></th>\n",
       "      <th></th>\n",
       "      <th></th>\n",
       "      <th></th>\n",
       "      <th></th>\n",
       "      <th></th>\n",
       "      <th></th>\n",
       "      <th></th>\n",
       "      <th></th>\n",
       "      <th></th>\n",
       "    </tr>\n",
       "  </thead>\n",
       "  <tbody>\n",
       "    <tr>\n",
       "      <th>2012-12-31 01:00:00</th>\n",
       "      <td>10445.0</td>\n",
       "      <td>68.0</td>\n",
       "      <td>1020.0</td>\n",
       "      <td>269.72</td>\n",
       "      <td>overcast clouds</td>\n",
       "      <td>290.0</td>\n",
       "      <td>6.0</td>\n",
       "      <td>0</td>\n",
       "      <td>0</td>\n",
       "      <td>0</td>\n",
       "      <td>...</td>\n",
       "      <td>0</td>\n",
       "      <td>0</td>\n",
       "      <td>0</td>\n",
       "      <td>0</td>\n",
       "      <td>0</td>\n",
       "      <td>1</td>\n",
       "      <td>0</td>\n",
       "      <td>0</td>\n",
       "      <td>0</td>\n",
       "      <td>0</td>\n",
       "    </tr>\n",
       "    <tr>\n",
       "      <th>2012-12-31 02:00:00</th>\n",
       "      <td>9897.0</td>\n",
       "      <td>73.0</td>\n",
       "      <td>1020.0</td>\n",
       "      <td>269.05</td>\n",
       "      <td>overcast clouds</td>\n",
       "      <td>290.0</td>\n",
       "      <td>6.0</td>\n",
       "      <td>0</td>\n",
       "      <td>0</td>\n",
       "      <td>0</td>\n",
       "      <td>...</td>\n",
       "      <td>0</td>\n",
       "      <td>0</td>\n",
       "      <td>0</td>\n",
       "      <td>0</td>\n",
       "      <td>0</td>\n",
       "      <td>1</td>\n",
       "      <td>0</td>\n",
       "      <td>0</td>\n",
       "      <td>0</td>\n",
       "      <td>0</td>\n",
       "    </tr>\n",
       "    <tr>\n",
       "      <th>2012-12-31 03:00:00</th>\n",
       "      <td>9538.0</td>\n",
       "      <td>68.0</td>\n",
       "      <td>1021.0</td>\n",
       "      <td>268.53</td>\n",
       "      <td>overcast clouds</td>\n",
       "      <td>280.0</td>\n",
       "      <td>6.0</td>\n",
       "      <td>0</td>\n",
       "      <td>0</td>\n",
       "      <td>0</td>\n",
       "      <td>...</td>\n",
       "      <td>0</td>\n",
       "      <td>0</td>\n",
       "      <td>0</td>\n",
       "      <td>0</td>\n",
       "      <td>0</td>\n",
       "      <td>1</td>\n",
       "      <td>0</td>\n",
       "      <td>0</td>\n",
       "      <td>0</td>\n",
       "      <td>0</td>\n",
       "    </tr>\n",
       "    <tr>\n",
       "      <th>2012-12-31 04:00:00</th>\n",
       "      <td>9333.0</td>\n",
       "      <td>79.0</td>\n",
       "      <td>1022.0</td>\n",
       "      <td>267.83</td>\n",
       "      <td>overcast clouds</td>\n",
       "      <td>280.0</td>\n",
       "      <td>8.0</td>\n",
       "      <td>0</td>\n",
       "      <td>0</td>\n",
       "      <td>0</td>\n",
       "      <td>...</td>\n",
       "      <td>0</td>\n",
       "      <td>0</td>\n",
       "      <td>0</td>\n",
       "      <td>0</td>\n",
       "      <td>0</td>\n",
       "      <td>1</td>\n",
       "      <td>0</td>\n",
       "      <td>0</td>\n",
       "      <td>0</td>\n",
       "      <td>0</td>\n",
       "    </tr>\n",
       "    <tr>\n",
       "      <th>2012-12-31 05:00:00</th>\n",
       "      <td>9275.0</td>\n",
       "      <td>85.0</td>\n",
       "      <td>1023.0</td>\n",
       "      <td>266.77</td>\n",
       "      <td>overcast clouds</td>\n",
       "      <td>270.0</td>\n",
       "      <td>6.0</td>\n",
       "      <td>0</td>\n",
       "      <td>0</td>\n",
       "      <td>0</td>\n",
       "      <td>...</td>\n",
       "      <td>0</td>\n",
       "      <td>0</td>\n",
       "      <td>0</td>\n",
       "      <td>0</td>\n",
       "      <td>0</td>\n",
       "      <td>1</td>\n",
       "      <td>0</td>\n",
       "      <td>0</td>\n",
       "      <td>0</td>\n",
       "      <td>0</td>\n",
       "    </tr>\n",
       "  </tbody>\n",
       "</table>\n",
       "<p>5 rows × 25 columns</p>\n",
       "</div>"
      ],
      "text/plain": [
       "                      energy  humidity  pressure  temperature  \\\n",
       "datetime                                                        \n",
       "2012-12-31 01:00:00  10445.0      68.0    1020.0       269.72   \n",
       "2012-12-31 02:00:00   9897.0      73.0    1020.0       269.05   \n",
       "2012-12-31 03:00:00   9538.0      68.0    1021.0       268.53   \n",
       "2012-12-31 04:00:00   9333.0      79.0    1022.0       267.83   \n",
       "2012-12-31 05:00:00   9275.0      85.0    1023.0       266.77   \n",
       "\n",
       "                             weather  wind_direction  wind_speed  \\\n",
       "datetime                                                           \n",
       "2012-12-31 01:00:00  overcast clouds           290.0         6.0   \n",
       "2012-12-31 02:00:00  overcast clouds           290.0         6.0   \n",
       "2012-12-31 03:00:00  overcast clouds           280.0         6.0   \n",
       "2012-12-31 04:00:00  overcast clouds           280.0         8.0   \n",
       "2012-12-31 05:00:00  overcast clouds           270.0         6.0   \n",
       "\n",
       "                     weather_broken clouds  weather_drizzle  \\\n",
       "datetime                                                      \n",
       "2012-12-31 01:00:00                      0                0   \n",
       "2012-12-31 02:00:00                      0                0   \n",
       "2012-12-31 03:00:00                      0                0   \n",
       "2012-12-31 04:00:00                      0                0   \n",
       "2012-12-31 05:00:00                      0                0   \n",
       "\n",
       "                     weather_few clouds  ...  weather_light rain  \\\n",
       "datetime                                 ...                       \n",
       "2012-12-31 01:00:00                   0  ...                   0   \n",
       "2012-12-31 02:00:00                   0  ...                   0   \n",
       "2012-12-31 03:00:00                   0  ...                   0   \n",
       "2012-12-31 04:00:00                   0  ...                   0   \n",
       "2012-12-31 05:00:00                   0  ...                   0   \n",
       "\n",
       "                     weather_light snow  weather_mist  weather_moderate rain  \\\n",
       "datetime                                                                       \n",
       "2012-12-31 01:00:00                   0             0                      0   \n",
       "2012-12-31 02:00:00                   0             0                      0   \n",
       "2012-12-31 03:00:00                   0             0                      0   \n",
       "2012-12-31 04:00:00                   0             0                      0   \n",
       "2012-12-31 05:00:00                   0             0                      0   \n",
       "\n",
       "                     weather_other  weather_overcast clouds  \\\n",
       "datetime                                                      \n",
       "2012-12-31 01:00:00              0                        1   \n",
       "2012-12-31 02:00:00              0                        1   \n",
       "2012-12-31 03:00:00              0                        1   \n",
       "2012-12-31 04:00:00              0                        1   \n",
       "2012-12-31 05:00:00              0                        1   \n",
       "\n",
       "                     weather_proximity thunderstorm  weather_scattered clouds  \\\n",
       "datetime                                                                        \n",
       "2012-12-31 01:00:00                               0                         0   \n",
       "2012-12-31 02:00:00                               0                         0   \n",
       "2012-12-31 03:00:00                               0                         0   \n",
       "2012-12-31 04:00:00                               0                         0   \n",
       "2012-12-31 05:00:00                               0                         0   \n",
       "\n",
       "                     weather_sky is clear  weather_snow  \n",
       "datetime                                                 \n",
       "2012-12-31 01:00:00                     0             0  \n",
       "2012-12-31 02:00:00                     0             0  \n",
       "2012-12-31 03:00:00                     0             0  \n",
       "2012-12-31 04:00:00                     0             0  \n",
       "2012-12-31 05:00:00                     0             0  \n",
       "\n",
       "[5 rows x 25 columns]"
      ]
     },
     "execution_count": 11,
     "metadata": {},
     "output_type": "execute_result"
    }
   ],
   "source": [
    "data.head()"
   ]
  },
  {
   "cell_type": "markdown",
   "metadata": {},
   "source": [
    "# Split data"
   ]
  },
  {
   "cell_type": "markdown",
   "metadata": {},
   "source": [
    "Use year 2012 to 2016 as training data, and use year 2017 as test set"
   ]
  },
  {
   "cell_type": "code",
   "execution_count": 12,
   "metadata": {},
   "outputs": [],
   "source": [
    "data_train = data.loc[:'2016']\n",
    "data_test = data.loc['2017']"
   ]
  },
  {
   "cell_type": "markdown",
   "metadata": {},
   "source": [
    "# Standardization"
   ]
  },
  {
   "cell_type": "markdown",
   "metadata": {},
   "source": [
    "Note that the energy column is the label, no scaling needed"
   ]
  },
  {
   "cell_type": "code",
   "execution_count": 13,
   "metadata": {},
   "outputs": [],
   "source": [
    "from sklearn.preprocessing import StandardScaler\n",
    "from sklearn.preprocessing import MinMaxScaler\n",
    "from sklearn.preprocessing import PowerTransformer"
   ]
  },
  {
   "cell_type": "markdown",
   "metadata": {},
   "source": [
    "## Energy data"
   ]
  },
  {
   "cell_type": "code",
   "execution_count": 14,
   "metadata": {},
   "outputs": [
    {
     "data": {
      "image/png": "[encoded data removed]",
      "text/plain": [
       "<Figure size 432x288 with 1 Axes>"
      ]
     },
     "metadata": {
      "needs_background": "light"
     },
     "output_type": "display_data"
    }
   ],
   "source": [
    "plt.hist(data_train['energy'])\n",
    "plt.title('Energy (original), train')\n",
    "plt.show()"
   ]
  },
  {
   "cell_type": "markdown",
   "metadata": {},
   "source": [
    "The data is roughly gaussian, slightly skewed to the left. The standard scaler can be used."
   ]
  },
  {
   "cell_type": "code",
   "execution_count": 15,
   "metadata": {},
   "outputs": [
    {
     "data": {
      "text/plain": [
       "StandardScaler(copy=True, with_mean=True, with_std=True)"
      ]
     },
     "execution_count": 15,
     "metadata": {},
     "output_type": "execute_result"
    }
   ],
   "source": [
    "scaler = StandardScaler()\n",
    "scaler.fit(data_train[['energy']])"
   ]
  },
  {
   "cell_type": "code",
   "execution_count": 16,
   "metadata": {},
   "outputs": [],
   "source": [
    "data_trasformed_train = scaler.transform(data_train[['energy']])\n",
    "data_train['n_energy'] = data_trasformed_train"
   ]
  },
  {
   "cell_type": "code",
   "execution_count": 17,
   "metadata": {},
   "outputs": [
    {
     "name": "stderr",
     "output_type": "stream",
     "text": [
      "/Users/gritkupgan/anaconda3/lib/python3.7/site-packages/ipykernel_launcher.py:2: SettingWithCopyWarning: \n",
      "A value is trying to be set on a copy of a slice from a DataFrame.\n",
      "Try using .loc[row_indexer,col_indexer] = value instead\n",
      "\n",
      "See the caveats in the documentation: https://pandas.pydata.org/pandas-docs/stable/user_guide/indexing.html#returning-a-view-versus-a-copy\n",
      "  \n"
     ]
    }
   ],
   "source": [
    "data_trasformed_test = scaler.transform(data_test[['energy']])\n",
    "data_test['n_energy'] = data_trasformed_test"
   ]
  },
  {
   "cell_type": "code",
   "execution_count": 18,
   "metadata": {},
   "outputs": [
    {
     "data": {
      "image/png": "[encoded data removed]",
      "text/plain": [
       "<Figure size 576x144 with 2 Axes>"
      ]
     },
     "metadata": {
      "needs_background": "light"
     },
     "output_type": "display_data"
    }
   ],
   "source": [
    "fig, ax = plt.subplots(1,2, figsize=(8,2))\n",
    "\n",
    "ax[0].hist(data_trasformed_train)\n",
    "ax[0].set_title('Energy train (transformed)')\n",
    "\n",
    "ax[1].hist(data_trasformed_test)\n",
    "ax[1].set_title('Energy test (transformed)')\n",
    "plt.show()"
   ]
  },
  {
   "cell_type": "code",
   "execution_count": 19,
   "metadata": {},
   "outputs": [
    {
     "data": {
      "text/plain": [
       "array([11371.08805763])"
      ]
     },
     "execution_count": 19,
     "metadata": {},
     "output_type": "execute_result"
    }
   ],
   "source": [
    "scaler.mean_"
   ]
  },
  {
   "cell_type": "code",
   "execution_count": 20,
   "metadata": {},
   "outputs": [
    {
     "data": {
      "text/plain": [
       "array([2196.74458408])"
      ]
     },
     "execution_count": 20,
     "metadata": {},
     "output_type": "execute_result"
    }
   ],
   "source": [
    "scaler.scale_"
   ]
  },
  {
   "cell_type": "markdown",
   "metadata": {},
   "source": [
    "## Humidity data"
   ]
  },
  {
   "cell_type": "code",
   "execution_count": 21,
   "metadata": {},
   "outputs": [
    {
     "data": {
      "image/png": "[encoded data removed]",
      "text/plain": [
       "<Figure size 432x288 with 1 Axes>"
      ]
     },
     "metadata": {
      "needs_background": "light"
     },
     "output_type": "display_data"
    }
   ],
   "source": [
    "plt.hist(data_train['humidity'])\n",
    "plt.title('Humidity (original), train')\n",
    "plt.show()"
   ]
  },
  {
   "cell_type": "markdown",
   "metadata": {},
   "source": [
    "The humidity measurement is typically between 0 to 100%. Thus, there is no outlier here and maxmin scaler will be used."
   ]
  },
  {
   "cell_type": "code",
   "execution_count": 22,
   "metadata": {},
   "outputs": [
    {
     "data": {
      "text/plain": [
       "MinMaxScaler(copy=True, feature_range=(0, 1))"
      ]
     },
     "execution_count": 22,
     "metadata": {},
     "output_type": "execute_result"
    }
   ],
   "source": [
    "scaler = MinMaxScaler()\n",
    "scaler.fit(data_train[['humidity']])"
   ]
  },
  {
   "cell_type": "code",
   "execution_count": 23,
   "metadata": {},
   "outputs": [],
   "source": [
    "data_trasformed_train = scaler.transform(data_train[['humidity']])\n",
    "data_train['n_humidity'] = data_trasformed_train"
   ]
  },
  {
   "cell_type": "code",
   "execution_count": 24,
   "metadata": {},
   "outputs": [
    {
     "name": "stderr",
     "output_type": "stream",
     "text": [
      "/Users/gritkupgan/anaconda3/lib/python3.7/site-packages/ipykernel_launcher.py:2: SettingWithCopyWarning: \n",
      "A value is trying to be set on a copy of a slice from a DataFrame.\n",
      "Try using .loc[row_indexer,col_indexer] = value instead\n",
      "\n",
      "See the caveats in the documentation: https://pandas.pydata.org/pandas-docs/stable/user_guide/indexing.html#returning-a-view-versus-a-copy\n",
      "  \n"
     ]
    }
   ],
   "source": [
    "data_trasformed_test = scaler.transform(data_test[['humidity']])\n",
    "data_test['n_humidity'] = data_trasformed_test"
   ]
  },
  {
   "cell_type": "code",
   "execution_count": 25,
   "metadata": {},
   "outputs": [
    {
     "data": {
      "image/png": "[encoded data removed]",
      "text/plain": [
       "<Figure size 576x144 with 2 Axes>"
      ]
     },
     "metadata": {
      "needs_background": "light"
     },
     "output_type": "display_data"
    }
   ],
   "source": [
    "fig, ax = plt.subplots(1,2, figsize=(8,2))\n",
    "\n",
    "ax[0].hist(data_trasformed_train)\n",
    "ax[0].set_title('Humidity train (transformed)')\n",
    "\n",
    "ax[1].hist(data_trasformed_test)\n",
    "ax[1].set_title('Humidity test (transformed)')\n",
    "plt.show()"
   ]
  },
  {
   "cell_type": "markdown",
   "metadata": {},
   "source": [
    "## Pressure data"
   ]
  },
  {
   "cell_type": "code",
   "execution_count": 26,
   "metadata": {},
   "outputs": [
    {
     "data": {
      "image/png": "[encoded data removed]",
      "text/plain": [
       "<Figure size 432x288 with 1 Axes>"
      ]
     },
     "metadata": {
      "needs_background": "light"
     },
     "output_type": "display_data"
    }
   ],
   "source": [
    "plt.hist(data_train['pressure'])\n",
    "plt.title('Pressure (original), train')\n",
    "plt.show()"
   ]
  },
  {
   "cell_type": "markdown",
   "metadata": {},
   "source": [
    "The pressure data is roughly normal, standard scaler will be applied. Also, the pressure data appear to contain outliers. The outliers will be removed using 3 standard deviations as the limits."
   ]
  },
  {
   "cell_type": "code",
   "execution_count": 27,
   "metadata": {},
   "outputs": [],
   "source": [
    "mean = data_train.pressure.mean()\n",
    "std = data_train.pressure.std()\n",
    "cutoff = std*3\n",
    "upper, lower = mean + cutoff, mean - cutoff\n",
    "data_train = data_train[(data_train['pressure'] < upper) & (data_train['pressure'] > lower)]"
   ]
  },
  {
   "cell_type": "code",
   "execution_count": 28,
   "metadata": {},
   "outputs": [],
   "source": [
    "data_test = data_test[(data_test['pressure'] < upper) & (data_test['pressure'] > lower)]"
   ]
  },
  {
   "cell_type": "code",
   "execution_count": 29,
   "metadata": {},
   "outputs": [
    {
     "data": {
      "image/png": "[encoded data removed]",
      "text/plain": [
       "<Figure size 576x144 with 2 Axes>"
      ]
     },
     "metadata": {
      "needs_background": "light"
     },
     "output_type": "display_data"
    }
   ],
   "source": [
    "fig, ax = plt.subplots(1,2, figsize=(8,2))\n",
    "\n",
    "ax[0].hist(data_train['pressure'])\n",
    "ax[0].set_title('Pressure (original), no outliers, train')\n",
    "\n",
    "ax[1].hist(data_test['pressure'])\n",
    "ax[1].set_title('Pressure (original), no outliers, test')\n",
    "plt.show()"
   ]
  },
  {
   "cell_type": "code",
   "execution_count": 30,
   "metadata": {},
   "outputs": [
    {
     "data": {
      "text/plain": [
       "StandardScaler(copy=True, with_mean=True, with_std=True)"
      ]
     },
     "execution_count": 30,
     "metadata": {},
     "output_type": "execute_result"
    }
   ],
   "source": [
    "scaler = StandardScaler()\n",
    "scaler.fit(data_train[['pressure']])"
   ]
  },
  {
   "cell_type": "code",
   "execution_count": 31,
   "metadata": {},
   "outputs": [],
   "source": [
    "data_trasformed_train = scaler.transform(data_train[['pressure']])\n",
    "data_train['n_pressure'] = data_trasformed_train"
   ]
  },
  {
   "cell_type": "code",
   "execution_count": 32,
   "metadata": {},
   "outputs": [],
   "source": [
    "data_trasformed_test = scaler.transform(data_test[['pressure']])\n",
    "data_test['n_pressure'] = data_trasformed_test"
   ]
  },
  {
   "cell_type": "code",
   "execution_count": 33,
   "metadata": {},
   "outputs": [
    {
     "data": {
      "image/png": "[encoded data removed]",
      "text/plain": [
       "<Figure size 576x144 with 2 Axes>"
      ]
     },
     "metadata": {
      "needs_background": "light"
     },
     "output_type": "display_data"
    }
   ],
   "source": [
    "fig, ax = plt.subplots(1,2, figsize=(8,2))\n",
    "\n",
    "ax[0].hist(data_trasformed_train)\n",
    "ax[0].set_title('Pressure train (transformed)')\n",
    "\n",
    "ax[1].hist(data_trasformed_test)\n",
    "ax[1].set_title('Pressure test (transformed)')\n",
    "plt.show()"
   ]
  },
  {
   "cell_type": "markdown",
   "metadata": {},
   "source": [
    "## Temperature data"
   ]
  },
  {
   "cell_type": "code",
   "execution_count": 34,
   "metadata": {},
   "outputs": [
    {
     "data": {
      "image/png": "[encoded data removed]",
      "text/plain": [
       "<Figure size 432x288 with 1 Axes>"
      ]
     },
     "metadata": {
      "needs_background": "light"
     },
     "output_type": "display_data"
    }
   ],
   "source": [
    "plt.hist(data_train['temperature'])\n",
    "plt.title('Temperature (original), train')\n",
    "plt.show()"
   ]
  },
  {
   "cell_type": "markdown",
   "metadata": {},
   "source": [
    "The distribution of temperature is roughly normal, standard scaler will be used."
   ]
  },
  {
   "cell_type": "code",
   "execution_count": 35,
   "metadata": {},
   "outputs": [
    {
     "data": {
      "text/plain": [
       "StandardScaler(copy=True, with_mean=True, with_std=True)"
      ]
     },
     "execution_count": 35,
     "metadata": {},
     "output_type": "execute_result"
    }
   ],
   "source": [
    "scaler = StandardScaler()\n",
    "scaler.fit(data_train[['temperature']])"
   ]
  },
  {
   "cell_type": "code",
   "execution_count": 36,
   "metadata": {},
   "outputs": [],
   "source": [
    "data_trasformed_train = scaler.transform(data_train[['temperature']])\n",
    "data_train['n_temperature'] = data_trasformed_train"
   ]
  },
  {
   "cell_type": "code",
   "execution_count": 37,
   "metadata": {},
   "outputs": [],
   "source": [
    "data_trasformed_test = scaler.transform(data_test[['temperature']])\n",
    "data_test['n_temperature'] = data_trasformed_test"
   ]
  },
  {
   "cell_type": "code",
   "execution_count": 38,
   "metadata": {},
   "outputs": [
    {
     "data": {
      "image/png": "[encoded data removed]",
      "text/plain": [
       "<Figure size 576x144 with 2 Axes>"
      ]
     },
     "metadata": {
      "needs_background": "light"
     },
     "output_type": "display_data"
    }
   ],
   "source": [
    "fig, ax = plt.subplots(1,2, figsize=(8,2))\n",
    "\n",
    "ax[0].hist(data_trasformed_train)\n",
    "ax[0].set_title('Temperature train (transformed)')\n",
    "\n",
    "ax[1].hist(data_trasformed_test)\n",
    "ax[1].set_title('Temperature test (transformed)')\n",
    "plt.show()"
   ]
  },
  {
   "cell_type": "markdown",
   "metadata": {},
   "source": [
    "## Wind direction data"
   ]
  },
  {
   "cell_type": "code",
   "execution_count": 39,
   "metadata": {},
   "outputs": [
    {
     "data": {
      "image/png": "[encoded data removed]",
      "text/plain": [
       "<Figure size 432x288 with 1 Axes>"
      ]
     },
     "metadata": {
      "needs_background": "light"
     },
     "output_type": "display_data"
    }
   ],
   "source": [
    "plt.hist(data_train['wind_direction'])\n",
    "plt.title('Wind direction (original), train')\n",
    "plt.show()"
   ]
  },
  {
   "cell_type": "markdown",
   "metadata": {},
   "source": [
    "The distribution is not normal, minmax scaling will be used."
   ]
  },
  {
   "cell_type": "code",
   "execution_count": 40,
   "metadata": {},
   "outputs": [
    {
     "data": {
      "text/plain": [
       "MinMaxScaler(copy=True, feature_range=(0, 1))"
      ]
     },
     "execution_count": 40,
     "metadata": {},
     "output_type": "execute_result"
    }
   ],
   "source": [
    "scaler = MinMaxScaler()\n",
    "scaler.fit(data_train[['wind_direction']])"
   ]
  },
  {
   "cell_type": "code",
   "execution_count": 41,
   "metadata": {},
   "outputs": [],
   "source": [
    "data_trasformed_train = scaler.transform(data_train[['wind_direction']])\n",
    "data_train['n_wind_direction'] = data_trasformed_train"
   ]
  },
  {
   "cell_type": "code",
   "execution_count": 42,
   "metadata": {},
   "outputs": [],
   "source": [
    "data_trasformed_test = scaler.transform(data_test[['wind_direction']])\n",
    "data_test['n_wind_direction'] = data_trasformed_test"
   ]
  },
  {
   "cell_type": "code",
   "execution_count": 43,
   "metadata": {},
   "outputs": [
    {
     "data": {
      "image/png": "[encoded data removed]",
      "text/plain": [
       "<Figure size 576x144 with 2 Axes>"
      ]
     },
     "metadata": {
      "needs_background": "light"
     },
     "output_type": "display_data"
    }
   ],
   "source": [
    "fig, ax = plt.subplots(1,2, figsize=(8,2))\n",
    "\n",
    "ax[0].hist(data_trasformed_train)\n",
    "ax[0].set_title('Wind direction train (transformed)')\n",
    "\n",
    "ax[1].hist(data_trasformed_test)\n",
    "ax[1].set_title('Wind direction test (transformed)')\n",
    "plt.show()"
   ]
  },
  {
   "cell_type": "markdown",
   "metadata": {},
   "source": [
    "## Wind speed data"
   ]
  },
  {
   "cell_type": "code",
   "execution_count": 44,
   "metadata": {},
   "outputs": [
    {
     "data": {
      "image/png": "[encoded data removed]",
      "text/plain": [
       "<Figure size 432x288 with 1 Axes>"
      ]
     },
     "metadata": {
      "needs_background": "light"
     },
     "output_type": "display_data"
    }
   ],
   "source": [
    "plt.hist(data_train['wind_speed'])\n",
    "plt.title('Wind speed (original), train')\n",
    "plt.show()"
   ]
  },
  {
   "cell_type": "markdown",
   "metadata": {},
   "source": [
    "The wind speed is highly skewed to the left. Here the power transform featurewise is appropriate."
   ]
  },
  {
   "cell_type": "code",
   "execution_count": 45,
   "metadata": {},
   "outputs": [
    {
     "data": {
      "text/plain": [
       "PowerTransformer(copy=True, method='yeo-johnson', standardize=True)"
      ]
     },
     "execution_count": 45,
     "metadata": {},
     "output_type": "execute_result"
    }
   ],
   "source": [
    "scaler = PowerTransformer()\n",
    "scaler.fit(data_train[['wind_speed']])"
   ]
  },
  {
   "cell_type": "code",
   "execution_count": 46,
   "metadata": {},
   "outputs": [],
   "source": [
    "data_trasformed_train = scaler.transform(data_train[['wind_speed']])\n",
    "data_train['n_wind_speed'] = data_trasformed_train"
   ]
  },
  {
   "cell_type": "code",
   "execution_count": 47,
   "metadata": {},
   "outputs": [],
   "source": [
    "data_trasformed_test = scaler.transform(data_test[['wind_speed']])\n",
    "data_test['n_wind_speed'] = data_trasformed_test"
   ]
  },
  {
   "cell_type": "code",
   "execution_count": 48,
   "metadata": {},
   "outputs": [
    {
     "data": {
      "image/png": "[encoded data removed]",
      "text/plain": [
       "<Figure size 576x144 with 2 Axes>"
      ]
     },
     "metadata": {
      "needs_background": "light"
     },
     "output_type": "display_data"
    }
   ],
   "source": [
    "fig, ax = plt.subplots(1,2, figsize=(8,2))\n",
    "\n",
    "ax[0].hist(data_trasformed_train)\n",
    "ax[0].set_title('Wind speed train (transformed)')\n",
    "\n",
    "ax[1].hist(data_trasformed_test)\n",
    "ax[1].set_title('Wind speed test (transformed)')\n",
    "plt.show()"
   ]
  },
  {
   "cell_type": "code",
   "execution_count": 49,
   "metadata": {},
   "outputs": [
    {
     "data": {
      "text/html": [
       "<div>\n",
       "<style scoped>\n",
       "    .dataframe tbody tr th:only-of-type {\n",
       "        vertical-align: middle;\n",
       "    }\n",
       "\n",
       "    .dataframe tbody tr th {\n",
       "        vertical-align: top;\n",
       "    }\n",
       "\n",
       "    .dataframe thead th {\n",
       "        text-align: right;\n",
       "    }\n",
       "</style>\n",
       "<table border=\"1\" class=\"dataframe\">\n",
       "  <thead>\n",
       "    <tr style=\"text-align: right;\">\n",
       "      <th></th>\n",
       "      <th>energy</th>\n",
       "      <th>humidity</th>\n",
       "      <th>pressure</th>\n",
       "      <th>temperature</th>\n",
       "      <th>weather</th>\n",
       "      <th>wind_direction</th>\n",
       "      <th>wind_speed</th>\n",
       "      <th>weather_broken clouds</th>\n",
       "      <th>weather_drizzle</th>\n",
       "      <th>weather_few clouds</th>\n",
       "      <th>...</th>\n",
       "      <th>weather_proximity thunderstorm</th>\n",
       "      <th>weather_scattered clouds</th>\n",
       "      <th>weather_sky is clear</th>\n",
       "      <th>weather_snow</th>\n",
       "      <th>n_energy</th>\n",
       "      <th>n_humidity</th>\n",
       "      <th>n_pressure</th>\n",
       "      <th>n_temperature</th>\n",
       "      <th>n_wind_direction</th>\n",
       "      <th>n_wind_speed</th>\n",
       "    </tr>\n",
       "    <tr>\n",
       "      <th>datetime</th>\n",
       "      <th></th>\n",
       "      <th></th>\n",
       "      <th></th>\n",
       "      <th></th>\n",
       "      <th></th>\n",
       "      <th></th>\n",
       "      <th></th>\n",
       "      <th></th>\n",
       "      <th></th>\n",
       "      <th></th>\n",
       "      <th></th>\n",
       "      <th></th>\n",
       "      <th></th>\n",
       "      <th></th>\n",
       "      <th></th>\n",
       "      <th></th>\n",
       "      <th></th>\n",
       "      <th></th>\n",
       "      <th></th>\n",
       "      <th></th>\n",
       "      <th></th>\n",
       "    </tr>\n",
       "  </thead>\n",
       "  <tbody>\n",
       "    <tr>\n",
       "      <th>2012-12-31 01:00:00</th>\n",
       "      <td>10445.0</td>\n",
       "      <td>68.0</td>\n",
       "      <td>1020.0</td>\n",
       "      <td>269.72</td>\n",
       "      <td>overcast clouds</td>\n",
       "      <td>290.0</td>\n",
       "      <td>6.0</td>\n",
       "      <td>0</td>\n",
       "      <td>0</td>\n",
       "      <td>0</td>\n",
       "      <td>...</td>\n",
       "      <td>0</td>\n",
       "      <td>0</td>\n",
       "      <td>0</td>\n",
       "      <td>0</td>\n",
       "      <td>-0.421573</td>\n",
       "      <td>0.648352</td>\n",
       "      <td>0.051448</td>\n",
       "      <td>-1.192115</td>\n",
       "      <td>0.805556</td>\n",
       "      <td>1.008900</td>\n",
       "    </tr>\n",
       "    <tr>\n",
       "      <th>2012-12-31 02:00:00</th>\n",
       "      <td>9897.0</td>\n",
       "      <td>73.0</td>\n",
       "      <td>1020.0</td>\n",
       "      <td>269.05</td>\n",
       "      <td>overcast clouds</td>\n",
       "      <td>290.0</td>\n",
       "      <td>6.0</td>\n",
       "      <td>0</td>\n",
       "      <td>0</td>\n",
       "      <td>0</td>\n",
       "      <td>...</td>\n",
       "      <td>0</td>\n",
       "      <td>0</td>\n",
       "      <td>0</td>\n",
       "      <td>0</td>\n",
       "      <td>-0.671033</td>\n",
       "      <td>0.703297</td>\n",
       "      <td>0.051448</td>\n",
       "      <td>-1.252274</td>\n",
       "      <td>0.805556</td>\n",
       "      <td>1.008900</td>\n",
       "    </tr>\n",
       "    <tr>\n",
       "      <th>2012-12-31 03:00:00</th>\n",
       "      <td>9538.0</td>\n",
       "      <td>68.0</td>\n",
       "      <td>1021.0</td>\n",
       "      <td>268.53</td>\n",
       "      <td>overcast clouds</td>\n",
       "      <td>280.0</td>\n",
       "      <td>6.0</td>\n",
       "      <td>0</td>\n",
       "      <td>0</td>\n",
       "      <td>0</td>\n",
       "      <td>...</td>\n",
       "      <td>0</td>\n",
       "      <td>0</td>\n",
       "      <td>0</td>\n",
       "      <td>0</td>\n",
       "      <td>-0.834457</td>\n",
       "      <td>0.648352</td>\n",
       "      <td>0.151079</td>\n",
       "      <td>-1.298964</td>\n",
       "      <td>0.777778</td>\n",
       "      <td>1.008900</td>\n",
       "    </tr>\n",
       "    <tr>\n",
       "      <th>2012-12-31 04:00:00</th>\n",
       "      <td>9333.0</td>\n",
       "      <td>79.0</td>\n",
       "      <td>1022.0</td>\n",
       "      <td>267.83</td>\n",
       "      <td>overcast clouds</td>\n",
       "      <td>280.0</td>\n",
       "      <td>8.0</td>\n",
       "      <td>0</td>\n",
       "      <td>0</td>\n",
       "      <td>0</td>\n",
       "      <td>...</td>\n",
       "      <td>0</td>\n",
       "      <td>0</td>\n",
       "      <td>0</td>\n",
       "      <td>0</td>\n",
       "      <td>-0.927777</td>\n",
       "      <td>0.769231</td>\n",
       "      <td>0.250710</td>\n",
       "      <td>-1.361817</td>\n",
       "      <td>0.777778</td>\n",
       "      <td>1.655296</td>\n",
       "    </tr>\n",
       "    <tr>\n",
       "      <th>2012-12-31 05:00:00</th>\n",
       "      <td>9275.0</td>\n",
       "      <td>85.0</td>\n",
       "      <td>1023.0</td>\n",
       "      <td>266.77</td>\n",
       "      <td>overcast clouds</td>\n",
       "      <td>270.0</td>\n",
       "      <td>6.0</td>\n",
       "      <td>0</td>\n",
       "      <td>0</td>\n",
       "      <td>0</td>\n",
       "      <td>...</td>\n",
       "      <td>0</td>\n",
       "      <td>0</td>\n",
       "      <td>0</td>\n",
       "      <td>0</td>\n",
       "      <td>-0.954179</td>\n",
       "      <td>0.835165</td>\n",
       "      <td>0.350341</td>\n",
       "      <td>-1.456994</td>\n",
       "      <td>0.750000</td>\n",
       "      <td>1.008900</td>\n",
       "    </tr>\n",
       "  </tbody>\n",
       "</table>\n",
       "<p>5 rows × 31 columns</p>\n",
       "</div>"
      ],
      "text/plain": [
       "                      energy  humidity  pressure  temperature  \\\n",
       "datetime                                                        \n",
       "2012-12-31 01:00:00  10445.0      68.0    1020.0       269.72   \n",
       "2012-12-31 02:00:00   9897.0      73.0    1020.0       269.05   \n",
       "2012-12-31 03:00:00   9538.0      68.0    1021.0       268.53   \n",
       "2012-12-31 04:00:00   9333.0      79.0    1022.0       267.83   \n",
       "2012-12-31 05:00:00   9275.0      85.0    1023.0       266.77   \n",
       "\n",
       "                             weather  wind_direction  wind_speed  \\\n",
       "datetime                                                           \n",
       "2012-12-31 01:00:00  overcast clouds           290.0         6.0   \n",
       "2012-12-31 02:00:00  overcast clouds           290.0         6.0   \n",
       "2012-12-31 03:00:00  overcast clouds           280.0         6.0   \n",
       "2012-12-31 04:00:00  overcast clouds           280.0         8.0   \n",
       "2012-12-31 05:00:00  overcast clouds           270.0         6.0   \n",
       "\n",
       "                     weather_broken clouds  weather_drizzle  \\\n",
       "datetime                                                      \n",
       "2012-12-31 01:00:00                      0                0   \n",
       "2012-12-31 02:00:00                      0                0   \n",
       "2012-12-31 03:00:00                      0                0   \n",
       "2012-12-31 04:00:00                      0                0   \n",
       "2012-12-31 05:00:00                      0                0   \n",
       "\n",
       "                     weather_few clouds  ...  weather_proximity thunderstorm  \\\n",
       "datetime                                 ...                                   \n",
       "2012-12-31 01:00:00                   0  ...                               0   \n",
       "2012-12-31 02:00:00                   0  ...                               0   \n",
       "2012-12-31 03:00:00                   0  ...                               0   \n",
       "2012-12-31 04:00:00                   0  ...                               0   \n",
       "2012-12-31 05:00:00                   0  ...                               0   \n",
       "\n",
       "                     weather_scattered clouds  weather_sky is clear  \\\n",
       "datetime                                                              \n",
       "2012-12-31 01:00:00                         0                     0   \n",
       "2012-12-31 02:00:00                         0                     0   \n",
       "2012-12-31 03:00:00                         0                     0   \n",
       "2012-12-31 04:00:00                         0                     0   \n",
       "2012-12-31 05:00:00                         0                     0   \n",
       "\n",
       "                     weather_snow  n_energy  n_humidity  n_pressure  \\\n",
       "datetime                                                              \n",
       "2012-12-31 01:00:00             0 -0.421573    0.648352    0.051448   \n",
       "2012-12-31 02:00:00             0 -0.671033    0.703297    0.051448   \n",
       "2012-12-31 03:00:00             0 -0.834457    0.648352    0.151079   \n",
       "2012-12-31 04:00:00             0 -0.927777    0.769231    0.250710   \n",
       "2012-12-31 05:00:00             0 -0.954179    0.835165    0.350341   \n",
       "\n",
       "                     n_temperature  n_wind_direction  n_wind_speed  \n",
       "datetime                                                            \n",
       "2012-12-31 01:00:00      -1.192115          0.805556      1.008900  \n",
       "2012-12-31 02:00:00      -1.252274          0.805556      1.008900  \n",
       "2012-12-31 03:00:00      -1.298964          0.777778      1.008900  \n",
       "2012-12-31 04:00:00      -1.361817          0.777778      1.655296  \n",
       "2012-12-31 05:00:00      -1.456994          0.750000      1.008900  \n",
       "\n",
       "[5 rows x 31 columns]"
      ]
     },
     "execution_count": 49,
     "metadata": {},
     "output_type": "execute_result"
    }
   ],
   "source": [
    "data_train.head()"
   ]
  },
  {
   "cell_type": "code",
   "execution_count": 50,
   "metadata": {},
   "outputs": [
    {
     "data": {
      "text/html": [
       "<div>\n",
       "<style scoped>\n",
       "    .dataframe tbody tr th:only-of-type {\n",
       "        vertical-align: middle;\n",
       "    }\n",
       "\n",
       "    .dataframe tbody tr th {\n",
       "        vertical-align: top;\n",
       "    }\n",
       "\n",
       "    .dataframe thead th {\n",
       "        text-align: right;\n",
       "    }\n",
       "</style>\n",
       "<table border=\"1\" class=\"dataframe\">\n",
       "  <thead>\n",
       "    <tr style=\"text-align: right;\">\n",
       "      <th></th>\n",
       "      <th>energy</th>\n",
       "      <th>humidity</th>\n",
       "      <th>pressure</th>\n",
       "      <th>temperature</th>\n",
       "      <th>weather</th>\n",
       "      <th>wind_direction</th>\n",
       "      <th>wind_speed</th>\n",
       "      <th>weather_broken clouds</th>\n",
       "      <th>weather_drizzle</th>\n",
       "      <th>weather_few clouds</th>\n",
       "      <th>...</th>\n",
       "      <th>weather_proximity thunderstorm</th>\n",
       "      <th>weather_scattered clouds</th>\n",
       "      <th>weather_sky is clear</th>\n",
       "      <th>weather_snow</th>\n",
       "      <th>n_energy</th>\n",
       "      <th>n_humidity</th>\n",
       "      <th>n_pressure</th>\n",
       "      <th>n_temperature</th>\n",
       "      <th>n_wind_direction</th>\n",
       "      <th>n_wind_speed</th>\n",
       "    </tr>\n",
       "    <tr>\n",
       "      <th>datetime</th>\n",
       "      <th></th>\n",
       "      <th></th>\n",
       "      <th></th>\n",
       "      <th></th>\n",
       "      <th></th>\n",
       "      <th></th>\n",
       "      <th></th>\n",
       "      <th></th>\n",
       "      <th></th>\n",
       "      <th></th>\n",
       "      <th></th>\n",
       "      <th></th>\n",
       "      <th></th>\n",
       "      <th></th>\n",
       "      <th></th>\n",
       "      <th></th>\n",
       "      <th></th>\n",
       "      <th></th>\n",
       "      <th></th>\n",
       "      <th></th>\n",
       "      <th></th>\n",
       "    </tr>\n",
       "  </thead>\n",
       "  <tbody>\n",
       "    <tr>\n",
       "      <th>2017-01-01 00:00:00</th>\n",
       "      <td>10500.0</td>\n",
       "      <td>100.0</td>\n",
       "      <td>1011.0</td>\n",
       "      <td>274.06</td>\n",
       "      <td>overcast clouds</td>\n",
       "      <td>300.0</td>\n",
       "      <td>4.0</td>\n",
       "      <td>0</td>\n",
       "      <td>0</td>\n",
       "      <td>0</td>\n",
       "      <td>...</td>\n",
       "      <td>0</td>\n",
       "      <td>0</td>\n",
       "      <td>0</td>\n",
       "      <td>0</td>\n",
       "      <td>-0.396536</td>\n",
       "      <td>1.000000</td>\n",
       "      <td>-0.845232</td>\n",
       "      <td>-0.802427</td>\n",
       "      <td>0.833333</td>\n",
       "      <td>0.240049</td>\n",
       "    </tr>\n",
       "    <tr>\n",
       "      <th>2017-11-29 01:00:00</th>\n",
       "      <td>9541.0</td>\n",
       "      <td>54.0</td>\n",
       "      <td>1019.0</td>\n",
       "      <td>285.95</td>\n",
       "      <td>light rain</td>\n",
       "      <td>270.0</td>\n",
       "      <td>3.0</td>\n",
       "      <td>0</td>\n",
       "      <td>0</td>\n",
       "      <td>0</td>\n",
       "      <td>...</td>\n",
       "      <td>0</td>\n",
       "      <td>0</td>\n",
       "      <td>0</td>\n",
       "      <td>0</td>\n",
       "      <td>-0.833091</td>\n",
       "      <td>0.494505</td>\n",
       "      <td>-0.048183</td>\n",
       "      <td>0.265174</td>\n",
       "      <td>0.750000</td>\n",
       "      <td>-0.215174</td>\n",
       "    </tr>\n",
       "    <tr>\n",
       "      <th>2017-11-29 02:00:00</th>\n",
       "      <td>9112.0</td>\n",
       "      <td>71.0</td>\n",
       "      <td>1020.0</td>\n",
       "      <td>284.51</td>\n",
       "      <td>broken clouds</td>\n",
       "      <td>280.0</td>\n",
       "      <td>2.0</td>\n",
       "      <td>1</td>\n",
       "      <td>0</td>\n",
       "      <td>0</td>\n",
       "      <td>...</td>\n",
       "      <td>0</td>\n",
       "      <td>0</td>\n",
       "      <td>0</td>\n",
       "      <td>0</td>\n",
       "      <td>-1.028380</td>\n",
       "      <td>0.681319</td>\n",
       "      <td>0.051448</td>\n",
       "      <td>0.135876</td>\n",
       "      <td>0.777778</td>\n",
       "      <td>-0.744669</td>\n",
       "    </tr>\n",
       "    <tr>\n",
       "      <th>2017-11-29 03:00:00</th>\n",
       "      <td>8905.0</td>\n",
       "      <td>76.0</td>\n",
       "      <td>1021.0</td>\n",
       "      <td>282.96</td>\n",
       "      <td>sky is clear</td>\n",
       "      <td>290.0</td>\n",
       "      <td>2.0</td>\n",
       "      <td>0</td>\n",
       "      <td>0</td>\n",
       "      <td>0</td>\n",
       "      <td>...</td>\n",
       "      <td>0</td>\n",
       "      <td>0</td>\n",
       "      <td>1</td>\n",
       "      <td>0</td>\n",
       "      <td>-1.122610</td>\n",
       "      <td>0.736264</td>\n",
       "      <td>0.151079</td>\n",
       "      <td>-0.003298</td>\n",
       "      <td>0.805556</td>\n",
       "      <td>-0.744669</td>\n",
       "    </tr>\n",
       "    <tr>\n",
       "      <th>2017-11-29 04:00:00</th>\n",
       "      <td>8805.0</td>\n",
       "      <td>92.0</td>\n",
       "      <td>1022.0</td>\n",
       "      <td>282.04</td>\n",
       "      <td>scattered clouds</td>\n",
       "      <td>280.0</td>\n",
       "      <td>6.0</td>\n",
       "      <td>0</td>\n",
       "      <td>0</td>\n",
       "      <td>0</td>\n",
       "      <td>...</td>\n",
       "      <td>0</td>\n",
       "      <td>1</td>\n",
       "      <td>0</td>\n",
       "      <td>0</td>\n",
       "      <td>-1.168132</td>\n",
       "      <td>0.912088</td>\n",
       "      <td>0.250710</td>\n",
       "      <td>-0.085904</td>\n",
       "      <td>0.777778</td>\n",
       "      <td>1.008900</td>\n",
       "    </tr>\n",
       "  </tbody>\n",
       "</table>\n",
       "<p>5 rows × 31 columns</p>\n",
       "</div>"
      ],
      "text/plain": [
       "                      energy  humidity  pressure  temperature  \\\n",
       "datetime                                                        \n",
       "2017-01-01 00:00:00  10500.0     100.0    1011.0       274.06   \n",
       "2017-11-29 01:00:00   9541.0      54.0    1019.0       285.95   \n",
       "2017-11-29 02:00:00   9112.0      71.0    1020.0       284.51   \n",
       "2017-11-29 03:00:00   8905.0      76.0    1021.0       282.96   \n",
       "2017-11-29 04:00:00   8805.0      92.0    1022.0       282.04   \n",
       "\n",
       "                              weather  wind_direction  wind_speed  \\\n",
       "datetime                                                            \n",
       "2017-01-01 00:00:00   overcast clouds           300.0         4.0   \n",
       "2017-11-29 01:00:00        light rain           270.0         3.0   \n",
       "2017-11-29 02:00:00     broken clouds           280.0         2.0   \n",
       "2017-11-29 03:00:00      sky is clear           290.0         2.0   \n",
       "2017-11-29 04:00:00  scattered clouds           280.0         6.0   \n",
       "\n",
       "                     weather_broken clouds  weather_drizzle  \\\n",
       "datetime                                                      \n",
       "2017-01-01 00:00:00                      0                0   \n",
       "2017-11-29 01:00:00                      0                0   \n",
       "2017-11-29 02:00:00                      1                0   \n",
       "2017-11-29 03:00:00                      0                0   \n",
       "2017-11-29 04:00:00                      0                0   \n",
       "\n",
       "                     weather_few clouds  ...  weather_proximity thunderstorm  \\\n",
       "datetime                                 ...                                   \n",
       "2017-01-01 00:00:00                   0  ...                               0   \n",
       "2017-11-29 01:00:00                   0  ...                               0   \n",
       "2017-11-29 02:00:00                   0  ...                               0   \n",
       "2017-11-29 03:00:00                   0  ...                               0   \n",
       "2017-11-29 04:00:00                   0  ...                               0   \n",
       "\n",
       "                     weather_scattered clouds  weather_sky is clear  \\\n",
       "datetime                                                              \n",
       "2017-01-01 00:00:00                         0                     0   \n",
       "2017-11-29 01:00:00                         0                     0   \n",
       "2017-11-29 02:00:00                         0                     0   \n",
       "2017-11-29 03:00:00                         0                     1   \n",
       "2017-11-29 04:00:00                         1                     0   \n",
       "\n",
       "                     weather_snow  n_energy  n_humidity  n_pressure  \\\n",
       "datetime                                                              \n",
       "2017-01-01 00:00:00             0 -0.396536    1.000000   -0.845232   \n",
       "2017-11-29 01:00:00             0 -0.833091    0.494505   -0.048183   \n",
       "2017-11-29 02:00:00             0 -1.028380    0.681319    0.051448   \n",
       "2017-11-29 03:00:00             0 -1.122610    0.736264    0.151079   \n",
       "2017-11-29 04:00:00             0 -1.168132    0.912088    0.250710   \n",
       "\n",
       "                     n_temperature  n_wind_direction  n_wind_speed  \n",
       "datetime                                                            \n",
       "2017-01-01 00:00:00      -0.802427          0.833333      0.240049  \n",
       "2017-11-29 01:00:00       0.265174          0.750000     -0.215174  \n",
       "2017-11-29 02:00:00       0.135876          0.777778     -0.744669  \n",
       "2017-11-29 03:00:00      -0.003298          0.805556     -0.744669  \n",
       "2017-11-29 04:00:00      -0.085904          0.777778      1.008900  \n",
       "\n",
       "[5 rows x 31 columns]"
      ]
     },
     "execution_count": 50,
     "metadata": {},
     "output_type": "execute_result"
    }
   ],
   "source": [
    "data_test.head()"
   ]
  },
  {
   "cell_type": "code",
   "execution_count": 51,
   "metadata": {},
   "outputs": [
    {
     "data": {
      "text/html": [
       "<div>\n",
       "<style scoped>\n",
       "    .dataframe tbody tr th:only-of-type {\n",
       "        vertical-align: middle;\n",
       "    }\n",
       "\n",
       "    .dataframe tbody tr th {\n",
       "        vertical-align: top;\n",
       "    }\n",
       "\n",
       "    .dataframe thead th {\n",
       "        text-align: right;\n",
       "    }\n",
       "</style>\n",
       "<table border=\"1\" class=\"dataframe\">\n",
       "  <thead>\n",
       "    <tr style=\"text-align: right;\">\n",
       "      <th></th>\n",
       "      <th>energy</th>\n",
       "      <th>humidity</th>\n",
       "      <th>pressure</th>\n",
       "      <th>temperature</th>\n",
       "      <th>wind_direction</th>\n",
       "      <th>wind_speed</th>\n",
       "      <th>weather_broken clouds</th>\n",
       "      <th>weather_drizzle</th>\n",
       "      <th>weather_few clouds</th>\n",
       "      <th>weather_fog</th>\n",
       "      <th>...</th>\n",
       "      <th>weather_proximity thunderstorm</th>\n",
       "      <th>weather_scattered clouds</th>\n",
       "      <th>weather_sky is clear</th>\n",
       "      <th>weather_snow</th>\n",
       "      <th>n_energy</th>\n",
       "      <th>n_humidity</th>\n",
       "      <th>n_pressure</th>\n",
       "      <th>n_temperature</th>\n",
       "      <th>n_wind_direction</th>\n",
       "      <th>n_wind_speed</th>\n",
       "    </tr>\n",
       "  </thead>\n",
       "  <tbody>\n",
       "    <tr>\n",
       "      <th>count</th>\n",
       "      <td>35884.000000</td>\n",
       "      <td>35884.000000</td>\n",
       "      <td>35884.000000</td>\n",
       "      <td>35884.000000</td>\n",
       "      <td>35884.000000</td>\n",
       "      <td>35884.000000</td>\n",
       "      <td>35884.000000</td>\n",
       "      <td>35884.000000</td>\n",
       "      <td>35884.000000</td>\n",
       "      <td>35884.000000</td>\n",
       "      <td>...</td>\n",
       "      <td>35884.000000</td>\n",
       "      <td>35884.000000</td>\n",
       "      <td>35884.000000</td>\n",
       "      <td>35884.000000</td>\n",
       "      <td>35884.000000</td>\n",
       "      <td>35884.000000</td>\n",
       "      <td>3.588400e+04</td>\n",
       "      <td>3.588400e+04</td>\n",
       "      <td>35884.000000</td>\n",
       "      <td>3.588400e+04</td>\n",
       "    </tr>\n",
       "    <tr>\n",
       "      <th>mean</th>\n",
       "      <td>11367.036952</td>\n",
       "      <td>75.276112</td>\n",
       "      <td>1019.483614</td>\n",
       "      <td>282.996727</td>\n",
       "      <td>191.971882</td>\n",
       "      <td>3.775582</td>\n",
       "      <td>0.171274</td>\n",
       "      <td>0.002118</td>\n",
       "      <td>0.093719</td>\n",
       "      <td>0.008918</td>\n",
       "      <td>...</td>\n",
       "      <td>0.002787</td>\n",
       "      <td>0.098763</td>\n",
       "      <td>0.228876</td>\n",
       "      <td>0.006577</td>\n",
       "      <td>-0.001844</td>\n",
       "      <td>0.728309</td>\n",
       "      <td>4.717989e-15</td>\n",
       "      <td>-1.633727e-15</td>\n",
       "      <td>0.533255</td>\n",
       "      <td>-4.182488e-15</td>\n",
       "    </tr>\n",
       "    <tr>\n",
       "      <th>std</th>\n",
       "      <td>2198.102678</td>\n",
       "      <td>18.148170</td>\n",
       "      <td>10.037168</td>\n",
       "      <td>11.137279</td>\n",
       "      <td>96.811082</td>\n",
       "      <td>2.257889</td>\n",
       "      <td>0.376754</td>\n",
       "      <td>0.045973</td>\n",
       "      <td>0.291441</td>\n",
       "      <td>0.094012</td>\n",
       "      <td>...</td>\n",
       "      <td>0.052717</td>\n",
       "      <td>0.298347</td>\n",
       "      <td>0.420115</td>\n",
       "      <td>0.080831</td>\n",
       "      <td>1.000618</td>\n",
       "      <td>0.199430</td>\n",
       "      <td>1.000014e+00</td>\n",
       "      <td>1.000014e+00</td>\n",
       "      <td>0.268920</td>\n",
       "      <td>1.000014e+00</td>\n",
       "    </tr>\n",
       "    <tr>\n",
       "      <th>min</th>\n",
       "      <td>7237.000000</td>\n",
       "      <td>9.000000</td>\n",
       "      <td>989.000000</td>\n",
       "      <td>248.890000</td>\n",
       "      <td>0.000000</td>\n",
       "      <td>0.000000</td>\n",
       "      <td>0.000000</td>\n",
       "      <td>0.000000</td>\n",
       "      <td>0.000000</td>\n",
       "      <td>0.000000</td>\n",
       "      <td>...</td>\n",
       "      <td>0.000000</td>\n",
       "      <td>0.000000</td>\n",
       "      <td>0.000000</td>\n",
       "      <td>0.000000</td>\n",
       "      <td>-1.881916</td>\n",
       "      <td>0.000000</td>\n",
       "      <td>-3.037116e+00</td>\n",
       "      <td>-3.062436e+00</td>\n",
       "      <td>0.000000</td>\n",
       "      <td>-2.284797e+00</td>\n",
       "    </tr>\n",
       "    <tr>\n",
       "      <th>25%</th>\n",
       "      <td>9785.000000</td>\n",
       "      <td>62.000000</td>\n",
       "      <td>1013.000000</td>\n",
       "      <td>274.691609</td>\n",
       "      <td>120.000000</td>\n",
       "      <td>2.000000</td>\n",
       "      <td>0.000000</td>\n",
       "      <td>0.000000</td>\n",
       "      <td>0.000000</td>\n",
       "      <td>0.000000</td>\n",
       "      <td>...</td>\n",
       "      <td>0.000000</td>\n",
       "      <td>0.000000</td>\n",
       "      <td>0.000000</td>\n",
       "      <td>0.000000</td>\n",
       "      <td>-0.722018</td>\n",
       "      <td>0.582418</td>\n",
       "      <td>-6.459695e-01</td>\n",
       "      <td>-7.457148e-01</td>\n",
       "      <td>0.333333</td>\n",
       "      <td>-7.446693e-01</td>\n",
       "    </tr>\n",
       "    <tr>\n",
       "      <th>50%</th>\n",
       "      <td>11125.000000</td>\n",
       "      <td>78.000000</td>\n",
       "      <td>1019.000000</td>\n",
       "      <td>283.650000</td>\n",
       "      <td>202.000000</td>\n",
       "      <td>3.000000</td>\n",
       "      <td>0.000000</td>\n",
       "      <td>0.000000</td>\n",
       "      <td>0.000000</td>\n",
       "      <td>0.000000</td>\n",
       "      <td>...</td>\n",
       "      <td>0.000000</td>\n",
       "      <td>0.000000</td>\n",
       "      <td>0.000000</td>\n",
       "      <td>0.000000</td>\n",
       "      <td>-0.112024</td>\n",
       "      <td>0.758242</td>\n",
       "      <td>-4.818298e-02</td>\n",
       "      <td>5.865724e-02</td>\n",
       "      <td>0.561111</td>\n",
       "      <td>-2.151742e-01</td>\n",
       "    </tr>\n",
       "    <tr>\n",
       "      <th>75%</th>\n",
       "      <td>12522.000000</td>\n",
       "      <td>89.000000</td>\n",
       "      <td>1026.000000</td>\n",
       "      <td>292.010000</td>\n",
       "      <td>270.000000</td>\n",
       "      <td>5.000000</td>\n",
       "      <td>0.000000</td>\n",
       "      <td>0.000000</td>\n",
       "      <td>0.000000</td>\n",
       "      <td>0.000000</td>\n",
       "      <td>...</td>\n",
       "      <td>0.000000</td>\n",
       "      <td>0.000000</td>\n",
       "      <td>0.000000</td>\n",
       "      <td>0.000000</td>\n",
       "      <td>0.523917</td>\n",
       "      <td>0.879121</td>\n",
       "      <td>6.492346e-01</td>\n",
       "      <td>8.092999e-01</td>\n",
       "      <td>0.750000</td>\n",
       "      <td>6.436754e-01</td>\n",
       "    </tr>\n",
       "    <tr>\n",
       "      <th>max</th>\n",
       "      <td>22269.000000</td>\n",
       "      <td>100.000000</td>\n",
       "      <td>1051.000000</td>\n",
       "      <td>308.480000</td>\n",
       "      <td>360.000000</td>\n",
       "      <td>25.000000</td>\n",
       "      <td>1.000000</td>\n",
       "      <td>1.000000</td>\n",
       "      <td>1.000000</td>\n",
       "      <td>1.000000</td>\n",
       "      <td>...</td>\n",
       "      <td>1.000000</td>\n",
       "      <td>1.000000</td>\n",
       "      <td>1.000000</td>\n",
       "      <td>1.000000</td>\n",
       "      <td>4.960937</td>\n",
       "      <td>1.000000</td>\n",
       "      <td>3.140012e+00</td>\n",
       "      <td>2.288138e+00</td>\n",
       "      <td>1.000000</td>\n",
       "      <td>5.237277e+00</td>\n",
       "    </tr>\n",
       "  </tbody>\n",
       "</table>\n",
       "<p>8 rows × 30 columns</p>\n",
       "</div>"
      ],
      "text/plain": [
       "             energy      humidity      pressure   temperature  wind_direction  \\\n",
       "count  35884.000000  35884.000000  35884.000000  35884.000000    35884.000000   \n",
       "mean   11367.036952     75.276112   1019.483614    282.996727      191.971882   \n",
       "std     2198.102678     18.148170     10.037168     11.137279       96.811082   \n",
       "min     7237.000000      9.000000    989.000000    248.890000        0.000000   \n",
       "25%     9785.000000     62.000000   1013.000000    274.691609      120.000000   \n",
       "50%    11125.000000     78.000000   1019.000000    283.650000      202.000000   \n",
       "75%    12522.000000     89.000000   1026.000000    292.010000      270.000000   \n",
       "max    22269.000000    100.000000   1051.000000    308.480000      360.000000   \n",
       "\n",
       "         wind_speed  weather_broken clouds  weather_drizzle  \\\n",
       "count  35884.000000           35884.000000     35884.000000   \n",
       "mean       3.775582               0.171274         0.002118   \n",
       "std        2.257889               0.376754         0.045973   \n",
       "min        0.000000               0.000000         0.000000   \n",
       "25%        2.000000               0.000000         0.000000   \n",
       "50%        3.000000               0.000000         0.000000   \n",
       "75%        5.000000               0.000000         0.000000   \n",
       "max       25.000000               1.000000         1.000000   \n",
       "\n",
       "       weather_few clouds   weather_fog  ...  weather_proximity thunderstorm  \\\n",
       "count        35884.000000  35884.000000  ...                    35884.000000   \n",
       "mean             0.093719      0.008918  ...                        0.002787   \n",
       "std              0.291441      0.094012  ...                        0.052717   \n",
       "min              0.000000      0.000000  ...                        0.000000   \n",
       "25%              0.000000      0.000000  ...                        0.000000   \n",
       "50%              0.000000      0.000000  ...                        0.000000   \n",
       "75%              0.000000      0.000000  ...                        0.000000   \n",
       "max              1.000000      1.000000  ...                        1.000000   \n",
       "\n",
       "       weather_scattered clouds  weather_sky is clear  weather_snow  \\\n",
       "count              35884.000000          35884.000000  35884.000000   \n",
       "mean                   0.098763              0.228876      0.006577   \n",
       "std                    0.298347              0.420115      0.080831   \n",
       "min                    0.000000              0.000000      0.000000   \n",
       "25%                    0.000000              0.000000      0.000000   \n",
       "50%                    0.000000              0.000000      0.000000   \n",
       "75%                    0.000000              0.000000      0.000000   \n",
       "max                    1.000000              1.000000      1.000000   \n",
       "\n",
       "           n_energy    n_humidity    n_pressure  n_temperature  \\\n",
       "count  35884.000000  35884.000000  3.588400e+04   3.588400e+04   \n",
       "mean      -0.001844      0.728309  4.717989e-15  -1.633727e-15   \n",
       "std        1.000618      0.199430  1.000014e+00   1.000014e+00   \n",
       "min       -1.881916      0.000000 -3.037116e+00  -3.062436e+00   \n",
       "25%       -0.722018      0.582418 -6.459695e-01  -7.457148e-01   \n",
       "50%       -0.112024      0.758242 -4.818298e-02   5.865724e-02   \n",
       "75%        0.523917      0.879121  6.492346e-01   8.092999e-01   \n",
       "max        4.960937      1.000000  3.140012e+00   2.288138e+00   \n",
       "\n",
       "       n_wind_direction  n_wind_speed  \n",
       "count      35884.000000  3.588400e+04  \n",
       "mean           0.533255 -4.182488e-15  \n",
       "std            0.268920  1.000014e+00  \n",
       "min            0.000000 -2.284797e+00  \n",
       "25%            0.333333 -7.446693e-01  \n",
       "50%            0.561111 -2.151742e-01  \n",
       "75%            0.750000  6.436754e-01  \n",
       "max            1.000000  5.237277e+00  \n",
       "\n",
       "[8 rows x 30 columns]"
      ]
     },
     "execution_count": 51,
     "metadata": {},
     "output_type": "execute_result"
    }
   ],
   "source": [
    "data_train.describe()"
   ]
  },
  {
   "cell_type": "code",
   "execution_count": 52,
   "metadata": {},
   "outputs": [
    {
     "data": {
      "text/html": [
       "<div>\n",
       "<style scoped>\n",
       "    .dataframe tbody tr th:only-of-type {\n",
       "        vertical-align: middle;\n",
       "    }\n",
       "\n",
       "    .dataframe tbody tr th {\n",
       "        vertical-align: top;\n",
       "    }\n",
       "\n",
       "    .dataframe thead th {\n",
       "        text-align: right;\n",
       "    }\n",
       "</style>\n",
       "<table border=\"1\" class=\"dataframe\">\n",
       "  <thead>\n",
       "    <tr style=\"text-align: right;\">\n",
       "      <th></th>\n",
       "      <th>energy</th>\n",
       "      <th>humidity</th>\n",
       "      <th>pressure</th>\n",
       "      <th>temperature</th>\n",
       "      <th>wind_direction</th>\n",
       "      <th>wind_speed</th>\n",
       "      <th>weather_broken clouds</th>\n",
       "      <th>weather_drizzle</th>\n",
       "      <th>weather_few clouds</th>\n",
       "      <th>weather_fog</th>\n",
       "      <th>...</th>\n",
       "      <th>weather_proximity thunderstorm</th>\n",
       "      <th>weather_scattered clouds</th>\n",
       "      <th>weather_sky is clear</th>\n",
       "      <th>weather_snow</th>\n",
       "      <th>n_energy</th>\n",
       "      <th>n_humidity</th>\n",
       "      <th>n_pressure</th>\n",
       "      <th>n_temperature</th>\n",
       "      <th>n_wind_direction</th>\n",
       "      <th>n_wind_speed</th>\n",
       "    </tr>\n",
       "  </thead>\n",
       "  <tbody>\n",
       "    <tr>\n",
       "      <th>count</th>\n",
       "      <td>7991.000000</td>\n",
       "      <td>7991.000000</td>\n",
       "      <td>7991.000000</td>\n",
       "      <td>7991.000000</td>\n",
       "      <td>7991.000000</td>\n",
       "      <td>7991.000000</td>\n",
       "      <td>7991.000000</td>\n",
       "      <td>7991.000000</td>\n",
       "      <td>7991.000000</td>\n",
       "      <td>7991.000000</td>\n",
       "      <td>...</td>\n",
       "      <td>7991.000000</td>\n",
       "      <td>7991.000000</td>\n",
       "      <td>7991.000000</td>\n",
       "      <td>7991.000000</td>\n",
       "      <td>7991.000000</td>\n",
       "      <td>7991.000000</td>\n",
       "      <td>7991.000000</td>\n",
       "      <td>7991.000000</td>\n",
       "      <td>7991.000000</td>\n",
       "      <td>7991.000000</td>\n",
       "    </tr>\n",
       "    <tr>\n",
       "      <th>mean</th>\n",
       "      <td>11013.677888</td>\n",
       "      <td>70.747466</td>\n",
       "      <td>1015.784758</td>\n",
       "      <td>285.638145</td>\n",
       "      <td>186.956201</td>\n",
       "      <td>3.918784</td>\n",
       "      <td>0.114504</td>\n",
       "      <td>0.008384</td>\n",
       "      <td>0.047804</td>\n",
       "      <td>0.025904</td>\n",
       "      <td>...</td>\n",
       "      <td>0.009761</td>\n",
       "      <td>0.102115</td>\n",
       "      <td>0.278188</td>\n",
       "      <td>0.000626</td>\n",
       "      <td>-0.162700</td>\n",
       "      <td>0.678544</td>\n",
       "      <td>-0.368521</td>\n",
       "      <td>0.237172</td>\n",
       "      <td>0.519323</td>\n",
       "      <td>0.079751</td>\n",
       "    </tr>\n",
       "    <tr>\n",
       "      <th>std</th>\n",
       "      <td>2157.968353</td>\n",
       "      <td>20.238121</td>\n",
       "      <td>7.798509</td>\n",
       "      <td>10.029244</td>\n",
       "      <td>102.365113</td>\n",
       "      <td>2.225360</td>\n",
       "      <td>0.318442</td>\n",
       "      <td>0.091188</td>\n",
       "      <td>0.213364</td>\n",
       "      <td>0.158859</td>\n",
       "      <td>...</td>\n",
       "      <td>0.098320</td>\n",
       "      <td>0.302818</td>\n",
       "      <td>0.448135</td>\n",
       "      <td>0.025008</td>\n",
       "      <td>0.982348</td>\n",
       "      <td>0.222397</td>\n",
       "      <td>0.776974</td>\n",
       "      <td>0.900524</td>\n",
       "      <td>0.284348</td>\n",
       "      <td>0.939163</td>\n",
       "    </tr>\n",
       "    <tr>\n",
       "      <th>min</th>\n",
       "      <td>7263.000000</td>\n",
       "      <td>15.000000</td>\n",
       "      <td>990.000000</td>\n",
       "      <td>255.520000</td>\n",
       "      <td>0.000000</td>\n",
       "      <td>0.000000</td>\n",
       "      <td>0.000000</td>\n",
       "      <td>0.000000</td>\n",
       "      <td>0.000000</td>\n",
       "      <td>0.000000</td>\n",
       "      <td>...</td>\n",
       "      <td>0.000000</td>\n",
       "      <td>0.000000</td>\n",
       "      <td>0.000000</td>\n",
       "      <td>0.000000</td>\n",
       "      <td>-1.870080</td>\n",
       "      <td>0.065934</td>\n",
       "      <td>-2.937485</td>\n",
       "      <td>-2.467129</td>\n",
       "      <td>0.000000</td>\n",
       "      <td>-2.284797</td>\n",
       "    </tr>\n",
       "    <tr>\n",
       "      <th>25%</th>\n",
       "      <td>9453.000000</td>\n",
       "      <td>56.000000</td>\n",
       "      <td>1011.000000</td>\n",
       "      <td>277.712000</td>\n",
       "      <td>100.000000</td>\n",
       "      <td>2.000000</td>\n",
       "      <td>0.000000</td>\n",
       "      <td>0.000000</td>\n",
       "      <td>0.000000</td>\n",
       "      <td>0.000000</td>\n",
       "      <td>...</td>\n",
       "      <td>0.000000</td>\n",
       "      <td>0.000000</td>\n",
       "      <td>0.000000</td>\n",
       "      <td>0.000000</td>\n",
       "      <td>-0.873150</td>\n",
       "      <td>0.516484</td>\n",
       "      <td>-0.845232</td>\n",
       "      <td>-0.474515</td>\n",
       "      <td>0.277778</td>\n",
       "      <td>-0.744669</td>\n",
       "    </tr>\n",
       "    <tr>\n",
       "      <th>50%</th>\n",
       "      <td>10798.000000</td>\n",
       "      <td>72.000000</td>\n",
       "      <td>1016.000000</td>\n",
       "      <td>286.210000</td>\n",
       "      <td>200.000000</td>\n",
       "      <td>3.000000</td>\n",
       "      <td>0.000000</td>\n",
       "      <td>0.000000</td>\n",
       "      <td>0.000000</td>\n",
       "      <td>0.000000</td>\n",
       "      <td>...</td>\n",
       "      <td>0.000000</td>\n",
       "      <td>0.000000</td>\n",
       "      <td>0.000000</td>\n",
       "      <td>0.000000</td>\n",
       "      <td>-0.260881</td>\n",
       "      <td>0.692308</td>\n",
       "      <td>-0.347076</td>\n",
       "      <td>0.288519</td>\n",
       "      <td>0.555556</td>\n",
       "      <td>-0.215174</td>\n",
       "    </tr>\n",
       "    <tr>\n",
       "      <th>75%</th>\n",
       "      <td>11976.500000</td>\n",
       "      <td>87.000000</td>\n",
       "      <td>1020.000000</td>\n",
       "      <td>294.040000</td>\n",
       "      <td>270.000000</td>\n",
       "      <td>5.000000</td>\n",
       "      <td>0.000000</td>\n",
       "      <td>0.000000</td>\n",
       "      <td>0.000000</td>\n",
       "      <td>0.000000</td>\n",
       "      <td>...</td>\n",
       "      <td>0.000000</td>\n",
       "      <td>0.000000</td>\n",
       "      <td>1.000000</td>\n",
       "      <td>0.000000</td>\n",
       "      <td>0.275595</td>\n",
       "      <td>0.857143</td>\n",
       "      <td>0.051448</td>\n",
       "      <td>0.991573</td>\n",
       "      <td>0.750000</td>\n",
       "      <td>0.643675</td>\n",
       "    </tr>\n",
       "    <tr>\n",
       "      <th>max</th>\n",
       "      <td>20351.000000</td>\n",
       "      <td>100.000000</td>\n",
       "      <td>1042.000000</td>\n",
       "      <td>307.710000</td>\n",
       "      <td>360.000000</td>\n",
       "      <td>15.000000</td>\n",
       "      <td>1.000000</td>\n",
       "      <td>1.000000</td>\n",
       "      <td>1.000000</td>\n",
       "      <td>1.000000</td>\n",
       "      <td>...</td>\n",
       "      <td>1.000000</td>\n",
       "      <td>1.000000</td>\n",
       "      <td>1.000000</td>\n",
       "      <td>1.000000</td>\n",
       "      <td>4.087827</td>\n",
       "      <td>1.000000</td>\n",
       "      <td>2.243332</td>\n",
       "      <td>2.219000</td>\n",
       "      <td>1.000000</td>\n",
       "      <td>3.407141</td>\n",
       "    </tr>\n",
       "  </tbody>\n",
       "</table>\n",
       "<p>8 rows × 30 columns</p>\n",
       "</div>"
      ],
      "text/plain": [
       "             energy     humidity     pressure  temperature  wind_direction  \\\n",
       "count   7991.000000  7991.000000  7991.000000  7991.000000     7991.000000   \n",
       "mean   11013.677888    70.747466  1015.784758   285.638145      186.956201   \n",
       "std     2157.968353    20.238121     7.798509    10.029244      102.365113   \n",
       "min     7263.000000    15.000000   990.000000   255.520000        0.000000   \n",
       "25%     9453.000000    56.000000  1011.000000   277.712000      100.000000   \n",
       "50%    10798.000000    72.000000  1016.000000   286.210000      200.000000   \n",
       "75%    11976.500000    87.000000  1020.000000   294.040000      270.000000   \n",
       "max    20351.000000   100.000000  1042.000000   307.710000      360.000000   \n",
       "\n",
       "        wind_speed  weather_broken clouds  weather_drizzle  \\\n",
       "count  7991.000000            7991.000000      7991.000000   \n",
       "mean      3.918784               0.114504         0.008384   \n",
       "std       2.225360               0.318442         0.091188   \n",
       "min       0.000000               0.000000         0.000000   \n",
       "25%       2.000000               0.000000         0.000000   \n",
       "50%       3.000000               0.000000         0.000000   \n",
       "75%       5.000000               0.000000         0.000000   \n",
       "max      15.000000               1.000000         1.000000   \n",
       "\n",
       "       weather_few clouds  weather_fog  ...  weather_proximity thunderstorm  \\\n",
       "count         7991.000000  7991.000000  ...                     7991.000000   \n",
       "mean             0.047804     0.025904  ...                        0.009761   \n",
       "std              0.213364     0.158859  ...                        0.098320   \n",
       "min              0.000000     0.000000  ...                        0.000000   \n",
       "25%              0.000000     0.000000  ...                        0.000000   \n",
       "50%              0.000000     0.000000  ...                        0.000000   \n",
       "75%              0.000000     0.000000  ...                        0.000000   \n",
       "max              1.000000     1.000000  ...                        1.000000   \n",
       "\n",
       "       weather_scattered clouds  weather_sky is clear  weather_snow  \\\n",
       "count               7991.000000           7991.000000   7991.000000   \n",
       "mean                   0.102115              0.278188      0.000626   \n",
       "std                    0.302818              0.448135      0.025008   \n",
       "min                    0.000000              0.000000      0.000000   \n",
       "25%                    0.000000              0.000000      0.000000   \n",
       "50%                    0.000000              0.000000      0.000000   \n",
       "75%                    0.000000              1.000000      0.000000   \n",
       "max                    1.000000              1.000000      1.000000   \n",
       "\n",
       "          n_energy   n_humidity   n_pressure  n_temperature  n_wind_direction  \\\n",
       "count  7991.000000  7991.000000  7991.000000    7991.000000       7991.000000   \n",
       "mean     -0.162700     0.678544    -0.368521       0.237172          0.519323   \n",
       "std       0.982348     0.222397     0.776974       0.900524          0.284348   \n",
       "min      -1.870080     0.065934    -2.937485      -2.467129          0.000000   \n",
       "25%      -0.873150     0.516484    -0.845232      -0.474515          0.277778   \n",
       "50%      -0.260881     0.692308    -0.347076       0.288519          0.555556   \n",
       "75%       0.275595     0.857143     0.051448       0.991573          0.750000   \n",
       "max       4.087827     1.000000     2.243332       2.219000          1.000000   \n",
       "\n",
       "       n_wind_speed  \n",
       "count   7991.000000  \n",
       "mean       0.079751  \n",
       "std        0.939163  \n",
       "min       -2.284797  \n",
       "25%       -0.744669  \n",
       "50%       -0.215174  \n",
       "75%        0.643675  \n",
       "max        3.407141  \n",
       "\n",
       "[8 rows x 30 columns]"
      ]
     },
     "execution_count": 52,
     "metadata": {},
     "output_type": "execute_result"
    }
   ],
   "source": [
    "data_test.describe()"
   ]
  },
  {
   "cell_type": "code",
   "execution_count": 53,
   "metadata": {},
   "outputs": [],
   "source": [
    "data_train.to_csv('../data/interim/energy_weather_features_train.csv')\n",
    "data_test.to_csv('../data/interim/energy_weather_features_test.csv')"
   ]
  }
 ],
 "metadata": {
  "kernelspec": {
   "display_name": "Python 3",
   "language": "python",
   "name": "python3"
  },
  "language_info": {
   "codemirror_mode": {
    "name": "ipython",
    "version": 3
   },
   "file_extension": ".py",
   "mimetype": "text/x-python",
   "name": "python",
   "nbconvert_exporter": "python",
   "pygments_lexer": "ipython3",
   "version": "3.7.6"
  }
 },
 "nbformat": 4,
 "nbformat_minor": 4
}
