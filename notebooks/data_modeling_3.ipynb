{
 "cells": [
  {
   "cell_type": "markdown",
   "metadata": {},
   "source": [
    "# Modeling - LSTM"
   ]
  },
  {
   "cell_type": "code",
   "execution_count": 288,
   "metadata": {},
   "outputs": [],
   "source": [
    "import pandas as pd\n",
    "import numpy as np\n",
    "import matplotlib.pyplot as plt\n",
    "import seaborn as sns"
   ]
  },
  {
   "cell_type": "code",
   "execution_count": 289,
   "metadata": {},
   "outputs": [],
   "source": [
    "#!pip install keras"
   ]
  },
  {
   "cell_type": "code",
   "execution_count": 290,
   "metadata": {},
   "outputs": [],
   "source": [
    "#!pip install tensorflow"
   ]
  },
  {
   "cell_type": "code",
   "execution_count": 291,
   "metadata": {},
   "outputs": [],
   "source": [
    "from keras.models import Sequential\n",
    "from keras.layers import Dense\n",
    "from keras.layers import LSTM"
   ]
  },
  {
   "cell_type": "markdown",
   "metadata": {},
   "source": [
    "## Load data"
   ]
  },
  {
   "cell_type": "markdown",
   "metadata": {},
   "source": [
    "Load only training data which is between 2012 to 2016, convert to datatime format."
   ]
  },
  {
   "cell_type": "code",
   "execution_count": 292,
   "metadata": {},
   "outputs": [],
   "source": [
    "data = pd.read_csv('../data/interim/energy_weather_features_train.csv',index_col=0)\n",
    "data.index = pd.DatetimeIndex(data.index).to_period('H')\n",
    "data = data.sort_index()"
   ]
  },
  {
   "cell_type": "code",
   "execution_count": 293,
   "metadata": {},
   "outputs": [
    {
     "data": {
      "text/html": [
       "<div>\n",
       "<style scoped>\n",
       "    .dataframe tbody tr th:only-of-type {\n",
       "        vertical-align: middle;\n",
       "    }\n",
       "\n",
       "    .dataframe tbody tr th {\n",
       "        vertical-align: top;\n",
       "    }\n",
       "\n",
       "    .dataframe thead th {\n",
       "        text-align: right;\n",
       "    }\n",
       "</style>\n",
       "<table border=\"1\" class=\"dataframe\">\n",
       "  <thead>\n",
       "    <tr style=\"text-align: right;\">\n",
       "      <th></th>\n",
       "      <th>energy</th>\n",
       "      <th>humidity</th>\n",
       "      <th>pressure</th>\n",
       "      <th>temperature</th>\n",
       "      <th>weather</th>\n",
       "      <th>wind_direction</th>\n",
       "      <th>wind_speed</th>\n",
       "      <th>weather_broken clouds</th>\n",
       "      <th>weather_drizzle</th>\n",
       "      <th>weather_few clouds</th>\n",
       "      <th>...</th>\n",
       "      <th>weather_proximity thunderstorm</th>\n",
       "      <th>weather_scattered clouds</th>\n",
       "      <th>weather_sky is clear</th>\n",
       "      <th>weather_snow</th>\n",
       "      <th>n_energy</th>\n",
       "      <th>n_humidity</th>\n",
       "      <th>n_pressure</th>\n",
       "      <th>n_temperature</th>\n",
       "      <th>n_wind_direction</th>\n",
       "      <th>n_wind_speed</th>\n",
       "    </tr>\n",
       "    <tr>\n",
       "      <th>datetime</th>\n",
       "      <th></th>\n",
       "      <th></th>\n",
       "      <th></th>\n",
       "      <th></th>\n",
       "      <th></th>\n",
       "      <th></th>\n",
       "      <th></th>\n",
       "      <th></th>\n",
       "      <th></th>\n",
       "      <th></th>\n",
       "      <th></th>\n",
       "      <th></th>\n",
       "      <th></th>\n",
       "      <th></th>\n",
       "      <th></th>\n",
       "      <th></th>\n",
       "      <th></th>\n",
       "      <th></th>\n",
       "      <th></th>\n",
       "      <th></th>\n",
       "      <th></th>\n",
       "    </tr>\n",
       "  </thead>\n",
       "  <tbody>\n",
       "    <tr>\n",
       "      <th>2012-10-01 13:00</th>\n",
       "      <td>11426.0</td>\n",
       "      <td>71.0</td>\n",
       "      <td>1014.0</td>\n",
       "      <td>284.010000</td>\n",
       "      <td>overcast clouds</td>\n",
       "      <td>0.0</td>\n",
       "      <td>0.0</td>\n",
       "      <td>0</td>\n",
       "      <td>0</td>\n",
       "      <td>0</td>\n",
       "      <td>...</td>\n",
       "      <td>0</td>\n",
       "      <td>0</td>\n",
       "      <td>0</td>\n",
       "      <td>0</td>\n",
       "      <td>0.024997</td>\n",
       "      <td>0.681319</td>\n",
       "      <td>-0.546338</td>\n",
       "      <td>0.090982</td>\n",
       "      <td>0.0</td>\n",
       "      <td>-2.284797</td>\n",
       "    </tr>\n",
       "    <tr>\n",
       "      <th>2012-10-01 14:00</th>\n",
       "      <td>11522.0</td>\n",
       "      <td>70.0</td>\n",
       "      <td>1014.0</td>\n",
       "      <td>284.054691</td>\n",
       "      <td>overcast clouds</td>\n",
       "      <td>0.0</td>\n",
       "      <td>0.0</td>\n",
       "      <td>0</td>\n",
       "      <td>0</td>\n",
       "      <td>0</td>\n",
       "      <td>...</td>\n",
       "      <td>0</td>\n",
       "      <td>0</td>\n",
       "      <td>0</td>\n",
       "      <td>0</td>\n",
       "      <td>0.068698</td>\n",
       "      <td>0.670330</td>\n",
       "      <td>-0.546338</td>\n",
       "      <td>0.094994</td>\n",
       "      <td>0.0</td>\n",
       "      <td>-2.284797</td>\n",
       "    </tr>\n",
       "    <tr>\n",
       "      <th>2012-10-01 15:00</th>\n",
       "      <td>11574.0</td>\n",
       "      <td>70.0</td>\n",
       "      <td>1014.0</td>\n",
       "      <td>284.177412</td>\n",
       "      <td>overcast clouds</td>\n",
       "      <td>0.0</td>\n",
       "      <td>0.0</td>\n",
       "      <td>0</td>\n",
       "      <td>0</td>\n",
       "      <td>0</td>\n",
       "      <td>...</td>\n",
       "      <td>0</td>\n",
       "      <td>0</td>\n",
       "      <td>0</td>\n",
       "      <td>0</td>\n",
       "      <td>0.092369</td>\n",
       "      <td>0.670330</td>\n",
       "      <td>-0.546338</td>\n",
       "      <td>0.106013</td>\n",
       "      <td>0.0</td>\n",
       "      <td>-2.284797</td>\n",
       "    </tr>\n",
       "    <tr>\n",
       "      <th>2012-10-01 16:00</th>\n",
       "      <td>11489.0</td>\n",
       "      <td>70.0</td>\n",
       "      <td>1014.0</td>\n",
       "      <td>284.300133</td>\n",
       "      <td>overcast clouds</td>\n",
       "      <td>0.0</td>\n",
       "      <td>0.0</td>\n",
       "      <td>0</td>\n",
       "      <td>0</td>\n",
       "      <td>0</td>\n",
       "      <td>...</td>\n",
       "      <td>0</td>\n",
       "      <td>0</td>\n",
       "      <td>0</td>\n",
       "      <td>0</td>\n",
       "      <td>0.053676</td>\n",
       "      <td>0.670330</td>\n",
       "      <td>-0.546338</td>\n",
       "      <td>0.117033</td>\n",
       "      <td>0.0</td>\n",
       "      <td>-2.284797</td>\n",
       "    </tr>\n",
       "    <tr>\n",
       "      <th>2012-10-01 17:00</th>\n",
       "      <td>11309.0</td>\n",
       "      <td>69.0</td>\n",
       "      <td>1014.0</td>\n",
       "      <td>284.422855</td>\n",
       "      <td>overcast clouds</td>\n",
       "      <td>0.0</td>\n",
       "      <td>0.0</td>\n",
       "      <td>0</td>\n",
       "      <td>0</td>\n",
       "      <td>0</td>\n",
       "      <td>...</td>\n",
       "      <td>0</td>\n",
       "      <td>0</td>\n",
       "      <td>0</td>\n",
       "      <td>0</td>\n",
       "      <td>-0.028264</td>\n",
       "      <td>0.659341</td>\n",
       "      <td>-0.546338</td>\n",
       "      <td>0.128052</td>\n",
       "      <td>0.0</td>\n",
       "      <td>-2.284797</td>\n",
       "    </tr>\n",
       "  </tbody>\n",
       "</table>\n",
       "<p>5 rows × 31 columns</p>\n",
       "</div>"
      ],
      "text/plain": [
       "                   energy  humidity  pressure  temperature          weather  \\\n",
       "datetime                                                                      \n",
       "2012-10-01 13:00  11426.0      71.0    1014.0   284.010000  overcast clouds   \n",
       "2012-10-01 14:00  11522.0      70.0    1014.0   284.054691  overcast clouds   \n",
       "2012-10-01 15:00  11574.0      70.0    1014.0   284.177412  overcast clouds   \n",
       "2012-10-01 16:00  11489.0      70.0    1014.0   284.300133  overcast clouds   \n",
       "2012-10-01 17:00  11309.0      69.0    1014.0   284.422855  overcast clouds   \n",
       "\n",
       "                  wind_direction  wind_speed  weather_broken clouds  \\\n",
       "datetime                                                              \n",
       "2012-10-01 13:00             0.0         0.0                      0   \n",
       "2012-10-01 14:00             0.0         0.0                      0   \n",
       "2012-10-01 15:00             0.0         0.0                      0   \n",
       "2012-10-01 16:00             0.0         0.0                      0   \n",
       "2012-10-01 17:00             0.0         0.0                      0   \n",
       "\n",
       "                  weather_drizzle  weather_few clouds  ...  \\\n",
       "datetime                                               ...   \n",
       "2012-10-01 13:00                0                   0  ...   \n",
       "2012-10-01 14:00                0                   0  ...   \n",
       "2012-10-01 15:00                0                   0  ...   \n",
       "2012-10-01 16:00                0                   0  ...   \n",
       "2012-10-01 17:00                0                   0  ...   \n",
       "\n",
       "                  weather_proximity thunderstorm  weather_scattered clouds  \\\n",
       "datetime                                                                     \n",
       "2012-10-01 13:00                               0                         0   \n",
       "2012-10-01 14:00                               0                         0   \n",
       "2012-10-01 15:00                               0                         0   \n",
       "2012-10-01 16:00                               0                         0   \n",
       "2012-10-01 17:00                               0                         0   \n",
       "\n",
       "                  weather_sky is clear  weather_snow  n_energy  n_humidity  \\\n",
       "datetime                                                                     \n",
       "2012-10-01 13:00                     0             0  0.024997    0.681319   \n",
       "2012-10-01 14:00                     0             0  0.068698    0.670330   \n",
       "2012-10-01 15:00                     0             0  0.092369    0.670330   \n",
       "2012-10-01 16:00                     0             0  0.053676    0.670330   \n",
       "2012-10-01 17:00                     0             0 -0.028264    0.659341   \n",
       "\n",
       "                  n_pressure  n_temperature  n_wind_direction  n_wind_speed  \n",
       "datetime                                                                     \n",
       "2012-10-01 13:00   -0.546338       0.090982               0.0     -2.284797  \n",
       "2012-10-01 14:00   -0.546338       0.094994               0.0     -2.284797  \n",
       "2012-10-01 15:00   -0.546338       0.106013               0.0     -2.284797  \n",
       "2012-10-01 16:00   -0.546338       0.117033               0.0     -2.284797  \n",
       "2012-10-01 17:00   -0.546338       0.128052               0.0     -2.284797  \n",
       "\n",
       "[5 rows x 31 columns]"
      ]
     },
     "execution_count": 293,
     "metadata": {},
     "output_type": "execute_result"
    }
   ],
   "source": [
    "data.head()"
   ]
  },
  {
   "cell_type": "markdown",
   "metadata": {},
   "source": [
    "For labels, we'll use energy data that were normalized. The feature columns contain everything related to weather. The feautures have been normalized in the preprocessing steps."
   ]
  },
  {
   "cell_type": "code",
   "execution_count": 309,
   "metadata": {},
   "outputs": [],
   "source": [
    "df_energy = data[['n_energy']]"
   ]
  },
  {
   "cell_type": "code",
   "execution_count": 310,
   "metadata": {},
   "outputs": [],
   "source": [
    "features = data.iloc[:,7:].drop(columns='n_energy',axis=1)"
   ]
  },
  {
   "cell_type": "code",
   "execution_count": 312,
   "metadata": {},
   "outputs": [],
   "source": [
    "raw_data = df_energy.join(features)"
   ]
  },
  {
   "cell_type": "code",
   "execution_count": 313,
   "metadata": {},
   "outputs": [
    {
     "data": {
      "image/png": "[encoded data removed]",
      "text/plain": [
       "<Figure size 1080x288 with 1 Axes>"
      ]
     },
     "metadata": {
      "needs_background": "light"
     },
     "output_type": "display_data"
    }
   ],
   "source": [
    "plt.figure(figsize=(15,4))\n",
    "raw_data['n_energy'].plot()\n",
    "plt.show()"
   ]
  },
  {
   "cell_type": "code",
   "execution_count": 314,
   "metadata": {},
   "outputs": [
    {
     "name": "stdout",
     "output_type": "stream",
     "text": [
      "The p-value of the test on returns is: 6.064998008562545e-25\n"
     ]
    }
   ],
   "source": [
    "from statsmodels.tsa.stattools import adfuller\n",
    "results = adfuller(raw_data['n_energy'])\n",
    "print('The p-value of the test on returns is: ' + str(results[1]))"
   ]
  },
  {
   "cell_type": "markdown",
   "metadata": {},
   "source": [
    "Again, the energy data are considered non-random walks."
   ]
  },
  {
   "cell_type": "markdown",
   "metadata": {},
   "source": [
    "# LSTM model"
   ]
  },
  {
   "cell_type": "markdown",
   "metadata": {},
   "source": [
    "The data must be transformed to different lags. Here we'll limit our data to 5 lags, which is similar to our ARIMA parameters."
   ]
  },
  {
   "cell_type": "code",
   "execution_count": 315,
   "metadata": {},
   "outputs": [],
   "source": [
    "lag1 = raw_data.shift(periods=1)\n",
    "lag2 = raw_data.shift(periods=2)\n",
    "lag3 = raw_data.shift(periods=3)\n",
    "lag4 = raw_data.shift(periods=4)\n",
    "lag5 = raw_data.shift(periods=5)"
   ]
  },
  {
   "cell_type": "code",
   "execution_count": 316,
   "metadata": {},
   "outputs": [],
   "source": [
    "df_lags = raw_data.join(lag1,how='left',rsuffix='_lag1').join(lag2,how='left',rsuffix='_lag2').join(lag3,how='left',rsuffix='_lag3').join(lag4,how='left',rsuffix='_lag4').join(lag5,how='left',rsuffix='_lag5')"
   ]
  },
  {
   "cell_type": "code",
   "execution_count": 317,
   "metadata": {},
   "outputs": [],
   "source": [
    "df_lags = df_lags.dropna()"
   ]
  },
  {
   "cell_type": "code",
   "execution_count": 320,
   "metadata": {},
   "outputs": [
    {
     "data": {
      "text/html": [
       "<div>\n",
       "<style scoped>\n",
       "    .dataframe tbody tr th:only-of-type {\n",
       "        vertical-align: middle;\n",
       "    }\n",
       "\n",
       "    .dataframe tbody tr th {\n",
       "        vertical-align: top;\n",
       "    }\n",
       "\n",
       "    .dataframe thead th {\n",
       "        text-align: right;\n",
       "    }\n",
       "</style>\n",
       "<table border=\"1\" class=\"dataframe\">\n",
       "  <thead>\n",
       "    <tr style=\"text-align: right;\">\n",
       "      <th></th>\n",
       "      <th>n_energy</th>\n",
       "      <th>weather_broken clouds</th>\n",
       "      <th>weather_drizzle</th>\n",
       "      <th>weather_few clouds</th>\n",
       "      <th>weather_fog</th>\n",
       "      <th>weather_haze</th>\n",
       "      <th>weather_heavy intensity rain</th>\n",
       "      <th>weather_heavy snow</th>\n",
       "      <th>weather_light intensity drizzle</th>\n",
       "      <th>weather_light rain</th>\n",
       "      <th>...</th>\n",
       "      <th>weather_overcast clouds_lag5</th>\n",
       "      <th>weather_proximity thunderstorm_lag5</th>\n",
       "      <th>weather_scattered clouds_lag5</th>\n",
       "      <th>weather_sky is clear_lag5</th>\n",
       "      <th>weather_snow_lag5</th>\n",
       "      <th>n_humidity_lag5</th>\n",
       "      <th>n_pressure_lag5</th>\n",
       "      <th>n_temperature_lag5</th>\n",
       "      <th>n_wind_direction_lag5</th>\n",
       "      <th>n_wind_speed_lag5</th>\n",
       "    </tr>\n",
       "    <tr>\n",
       "      <th>datetime</th>\n",
       "      <th></th>\n",
       "      <th></th>\n",
       "      <th></th>\n",
       "      <th></th>\n",
       "      <th></th>\n",
       "      <th></th>\n",
       "      <th></th>\n",
       "      <th></th>\n",
       "      <th></th>\n",
       "      <th></th>\n",
       "      <th></th>\n",
       "      <th></th>\n",
       "      <th></th>\n",
       "      <th></th>\n",
       "      <th></th>\n",
       "      <th></th>\n",
       "      <th></th>\n",
       "      <th></th>\n",
       "      <th></th>\n",
       "      <th></th>\n",
       "      <th></th>\n",
       "    </tr>\n",
       "  </thead>\n",
       "  <tbody>\n",
       "    <tr>\n",
       "      <th>2012-10-01 18:00</th>\n",
       "      <td>-0.089718</td>\n",
       "      <td>0</td>\n",
       "      <td>0</td>\n",
       "      <td>0</td>\n",
       "      <td>0</td>\n",
       "      <td>0</td>\n",
       "      <td>0</td>\n",
       "      <td>0</td>\n",
       "      <td>0</td>\n",
       "      <td>0</td>\n",
       "      <td>...</td>\n",
       "      <td>1.0</td>\n",
       "      <td>0.0</td>\n",
       "      <td>0.0</td>\n",
       "      <td>0.0</td>\n",
       "      <td>0.0</td>\n",
       "      <td>0.681319</td>\n",
       "      <td>-0.546338</td>\n",
       "      <td>0.090982</td>\n",
       "      <td>0.000000</td>\n",
       "      <td>-2.284797</td>\n",
       "    </tr>\n",
       "    <tr>\n",
       "      <th>2012-10-01 19:00</th>\n",
       "      <td>-0.131598</td>\n",
       "      <td>0</td>\n",
       "      <td>0</td>\n",
       "      <td>0</td>\n",
       "      <td>0</td>\n",
       "      <td>0</td>\n",
       "      <td>0</td>\n",
       "      <td>0</td>\n",
       "      <td>0</td>\n",
       "      <td>0</td>\n",
       "      <td>...</td>\n",
       "      <td>1.0</td>\n",
       "      <td>0.0</td>\n",
       "      <td>0.0</td>\n",
       "      <td>0.0</td>\n",
       "      <td>0.0</td>\n",
       "      <td>0.670330</td>\n",
       "      <td>-0.546338</td>\n",
       "      <td>0.094994</td>\n",
       "      <td>0.000000</td>\n",
       "      <td>-2.284797</td>\n",
       "    </tr>\n",
       "    <tr>\n",
       "      <th>2012-10-01 20:00</th>\n",
       "      <td>0.011340</td>\n",
       "      <td>0</td>\n",
       "      <td>0</td>\n",
       "      <td>0</td>\n",
       "      <td>0</td>\n",
       "      <td>0</td>\n",
       "      <td>0</td>\n",
       "      <td>0</td>\n",
       "      <td>0</td>\n",
       "      <td>0</td>\n",
       "      <td>...</td>\n",
       "      <td>1.0</td>\n",
       "      <td>0.0</td>\n",
       "      <td>0.0</td>\n",
       "      <td>0.0</td>\n",
       "      <td>0.0</td>\n",
       "      <td>0.670330</td>\n",
       "      <td>-0.546338</td>\n",
       "      <td>0.106013</td>\n",
       "      <td>0.000000</td>\n",
       "      <td>-2.284797</td>\n",
       "    </tr>\n",
       "    <tr>\n",
       "      <th>2012-10-01 21:00</th>\n",
       "      <td>0.154279</td>\n",
       "      <td>0</td>\n",
       "      <td>0</td>\n",
       "      <td>0</td>\n",
       "      <td>0</td>\n",
       "      <td>0</td>\n",
       "      <td>0</td>\n",
       "      <td>0</td>\n",
       "      <td>0</td>\n",
       "      <td>0</td>\n",
       "      <td>...</td>\n",
       "      <td>1.0</td>\n",
       "      <td>0.0</td>\n",
       "      <td>0.0</td>\n",
       "      <td>0.0</td>\n",
       "      <td>0.0</td>\n",
       "      <td>0.670330</td>\n",
       "      <td>-0.546338</td>\n",
       "      <td>0.117033</td>\n",
       "      <td>0.000000</td>\n",
       "      <td>-2.284797</td>\n",
       "    </tr>\n",
       "    <tr>\n",
       "      <th>2012-10-01 22:00</th>\n",
       "      <td>0.016348</td>\n",
       "      <td>0</td>\n",
       "      <td>0</td>\n",
       "      <td>0</td>\n",
       "      <td>0</td>\n",
       "      <td>0</td>\n",
       "      <td>0</td>\n",
       "      <td>0</td>\n",
       "      <td>0</td>\n",
       "      <td>0</td>\n",
       "      <td>...</td>\n",
       "      <td>1.0</td>\n",
       "      <td>0.0</td>\n",
       "      <td>0.0</td>\n",
       "      <td>0.0</td>\n",
       "      <td>0.0</td>\n",
       "      <td>0.659341</td>\n",
       "      <td>-0.546338</td>\n",
       "      <td>0.128052</td>\n",
       "      <td>0.000000</td>\n",
       "      <td>-2.284797</td>\n",
       "    </tr>\n",
       "    <tr>\n",
       "      <th>...</th>\n",
       "      <td>...</td>\n",
       "      <td>...</td>\n",
       "      <td>...</td>\n",
       "      <td>...</td>\n",
       "      <td>...</td>\n",
       "      <td>...</td>\n",
       "      <td>...</td>\n",
       "      <td>...</td>\n",
       "      <td>...</td>\n",
       "      <td>...</td>\n",
       "      <td>...</td>\n",
       "      <td>...</td>\n",
       "      <td>...</td>\n",
       "      <td>...</td>\n",
       "      <td>...</td>\n",
       "      <td>...</td>\n",
       "      <td>...</td>\n",
       "      <td>...</td>\n",
       "      <td>...</td>\n",
       "      <td>...</td>\n",
       "      <td>...</td>\n",
       "    </tr>\n",
       "    <tr>\n",
       "      <th>2016-12-31 19:00</th>\n",
       "      <td>0.098287</td>\n",
       "      <td>0</td>\n",
       "      <td>0</td>\n",
       "      <td>0</td>\n",
       "      <td>0</td>\n",
       "      <td>0</td>\n",
       "      <td>0</td>\n",
       "      <td>0</td>\n",
       "      <td>0</td>\n",
       "      <td>0</td>\n",
       "      <td>...</td>\n",
       "      <td>0.0</td>\n",
       "      <td>0.0</td>\n",
       "      <td>0.0</td>\n",
       "      <td>1.0</td>\n",
       "      <td>0.0</td>\n",
       "      <td>0.604396</td>\n",
       "      <td>-1.741911</td>\n",
       "      <td>-0.574361</td>\n",
       "      <td>0.638889</td>\n",
       "      <td>1.344177</td>\n",
       "    </tr>\n",
       "    <tr>\n",
       "      <th>2016-12-31 20:00</th>\n",
       "      <td>0.080989</td>\n",
       "      <td>0</td>\n",
       "      <td>0</td>\n",
       "      <td>0</td>\n",
       "      <td>0</td>\n",
       "      <td>0</td>\n",
       "      <td>0</td>\n",
       "      <td>0</td>\n",
       "      <td>0</td>\n",
       "      <td>0</td>\n",
       "      <td>...</td>\n",
       "      <td>0.0</td>\n",
       "      <td>0.0</td>\n",
       "      <td>0.0</td>\n",
       "      <td>0.0</td>\n",
       "      <td>0.0</td>\n",
       "      <td>0.428571</td>\n",
       "      <td>-1.741911</td>\n",
       "      <td>-0.578850</td>\n",
       "      <td>0.666667</td>\n",
       "      <td>1.008900</td>\n",
       "    </tr>\n",
       "    <tr>\n",
       "      <th>2016-12-31 21:00</th>\n",
       "      <td>-0.044652</td>\n",
       "      <td>0</td>\n",
       "      <td>0</td>\n",
       "      <td>0</td>\n",
       "      <td>0</td>\n",
       "      <td>0</td>\n",
       "      <td>0</td>\n",
       "      <td>0</td>\n",
       "      <td>0</td>\n",
       "      <td>0</td>\n",
       "      <td>...</td>\n",
       "      <td>0.0</td>\n",
       "      <td>0.0</td>\n",
       "      <td>0.0</td>\n",
       "      <td>0.0</td>\n",
       "      <td>0.0</td>\n",
       "      <td>0.351648</td>\n",
       "      <td>-1.642280</td>\n",
       "      <td>-0.571667</td>\n",
       "      <td>0.611111</td>\n",
       "      <td>1.008900</td>\n",
       "    </tr>\n",
       "    <tr>\n",
       "      <th>2016-12-31 22:00</th>\n",
       "      <td>-0.130233</td>\n",
       "      <td>0</td>\n",
       "      <td>0</td>\n",
       "      <td>0</td>\n",
       "      <td>0</td>\n",
       "      <td>0</td>\n",
       "      <td>0</td>\n",
       "      <td>0</td>\n",
       "      <td>0</td>\n",
       "      <td>0</td>\n",
       "      <td>...</td>\n",
       "      <td>0.0</td>\n",
       "      <td>0.0</td>\n",
       "      <td>0.0</td>\n",
       "      <td>1.0</td>\n",
       "      <td>0.0</td>\n",
       "      <td>0.604396</td>\n",
       "      <td>-1.542649</td>\n",
       "      <td>-0.516895</td>\n",
       "      <td>0.777778</td>\n",
       "      <td>1.344177</td>\n",
       "    </tr>\n",
       "    <tr>\n",
       "      <th>2016-12-31 23:00</th>\n",
       "      <td>-0.259515</td>\n",
       "      <td>0</td>\n",
       "      <td>0</td>\n",
       "      <td>0</td>\n",
       "      <td>0</td>\n",
       "      <td>0</td>\n",
       "      <td>0</td>\n",
       "      <td>0</td>\n",
       "      <td>0</td>\n",
       "      <td>0</td>\n",
       "      <td>...</td>\n",
       "      <td>1.0</td>\n",
       "      <td>0.0</td>\n",
       "      <td>0.0</td>\n",
       "      <td>0.0</td>\n",
       "      <td>0.0</td>\n",
       "      <td>0.659341</td>\n",
       "      <td>-1.443018</td>\n",
       "      <td>-0.524976</td>\n",
       "      <td>0.805556</td>\n",
       "      <td>1.344177</td>\n",
       "    </tr>\n",
       "  </tbody>\n",
       "</table>\n",
       "<p>35879 rows × 144 columns</p>\n",
       "</div>"
      ],
      "text/plain": [
       "                  n_energy  weather_broken clouds  weather_drizzle  \\\n",
       "datetime                                                             \n",
       "2012-10-01 18:00 -0.089718                      0                0   \n",
       "2012-10-01 19:00 -0.131598                      0                0   \n",
       "2012-10-01 20:00  0.011340                      0                0   \n",
       "2012-10-01 21:00  0.154279                      0                0   \n",
       "2012-10-01 22:00  0.016348                      0                0   \n",
       "...                    ...                    ...              ...   \n",
       "2016-12-31 19:00  0.098287                      0                0   \n",
       "2016-12-31 20:00  0.080989                      0                0   \n",
       "2016-12-31 21:00 -0.044652                      0                0   \n",
       "2016-12-31 22:00 -0.130233                      0                0   \n",
       "2016-12-31 23:00 -0.259515                      0                0   \n",
       "\n",
       "                  weather_few clouds  weather_fog  weather_haze  \\\n",
       "datetime                                                          \n",
       "2012-10-01 18:00                   0            0             0   \n",
       "2012-10-01 19:00                   0            0             0   \n",
       "2012-10-01 20:00                   0            0             0   \n",
       "2012-10-01 21:00                   0            0             0   \n",
       "2012-10-01 22:00                   0            0             0   \n",
       "...                              ...          ...           ...   \n",
       "2016-12-31 19:00                   0            0             0   \n",
       "2016-12-31 20:00                   0            0             0   \n",
       "2016-12-31 21:00                   0            0             0   \n",
       "2016-12-31 22:00                   0            0             0   \n",
       "2016-12-31 23:00                   0            0             0   \n",
       "\n",
       "                  weather_heavy intensity rain  weather_heavy snow  \\\n",
       "datetime                                                             \n",
       "2012-10-01 18:00                             0                   0   \n",
       "2012-10-01 19:00                             0                   0   \n",
       "2012-10-01 20:00                             0                   0   \n",
       "2012-10-01 21:00                             0                   0   \n",
       "2012-10-01 22:00                             0                   0   \n",
       "...                                        ...                 ...   \n",
       "2016-12-31 19:00                             0                   0   \n",
       "2016-12-31 20:00                             0                   0   \n",
       "2016-12-31 21:00                             0                   0   \n",
       "2016-12-31 22:00                             0                   0   \n",
       "2016-12-31 23:00                             0                   0   \n",
       "\n",
       "                  weather_light intensity drizzle  weather_light rain  ...  \\\n",
       "datetime                                                               ...   \n",
       "2012-10-01 18:00                                0                   0  ...   \n",
       "2012-10-01 19:00                                0                   0  ...   \n",
       "2012-10-01 20:00                                0                   0  ...   \n",
       "2012-10-01 21:00                                0                   0  ...   \n",
       "2012-10-01 22:00                                0                   0  ...   \n",
       "...                                           ...                 ...  ...   \n",
       "2016-12-31 19:00                                0                   0  ...   \n",
       "2016-12-31 20:00                                0                   0  ...   \n",
       "2016-12-31 21:00                                0                   0  ...   \n",
       "2016-12-31 22:00                                0                   0  ...   \n",
       "2016-12-31 23:00                                0                   0  ...   \n",
       "\n",
       "                  weather_overcast clouds_lag5  \\\n",
       "datetime                                         \n",
       "2012-10-01 18:00                           1.0   \n",
       "2012-10-01 19:00                           1.0   \n",
       "2012-10-01 20:00                           1.0   \n",
       "2012-10-01 21:00                           1.0   \n",
       "2012-10-01 22:00                           1.0   \n",
       "...                                        ...   \n",
       "2016-12-31 19:00                           0.0   \n",
       "2016-12-31 20:00                           0.0   \n",
       "2016-12-31 21:00                           0.0   \n",
       "2016-12-31 22:00                           0.0   \n",
       "2016-12-31 23:00                           1.0   \n",
       "\n",
       "                  weather_proximity thunderstorm_lag5  \\\n",
       "datetime                                                \n",
       "2012-10-01 18:00                                  0.0   \n",
       "2012-10-01 19:00                                  0.0   \n",
       "2012-10-01 20:00                                  0.0   \n",
       "2012-10-01 21:00                                  0.0   \n",
       "2012-10-01 22:00                                  0.0   \n",
       "...                                               ...   \n",
       "2016-12-31 19:00                                  0.0   \n",
       "2016-12-31 20:00                                  0.0   \n",
       "2016-12-31 21:00                                  0.0   \n",
       "2016-12-31 22:00                                  0.0   \n",
       "2016-12-31 23:00                                  0.0   \n",
       "\n",
       "                  weather_scattered clouds_lag5  weather_sky is clear_lag5  \\\n",
       "datetime                                                                     \n",
       "2012-10-01 18:00                            0.0                        0.0   \n",
       "2012-10-01 19:00                            0.0                        0.0   \n",
       "2012-10-01 20:00                            0.0                        0.0   \n",
       "2012-10-01 21:00                            0.0                        0.0   \n",
       "2012-10-01 22:00                            0.0                        0.0   \n",
       "...                                         ...                        ...   \n",
       "2016-12-31 19:00                            0.0                        1.0   \n",
       "2016-12-31 20:00                            0.0                        0.0   \n",
       "2016-12-31 21:00                            0.0                        0.0   \n",
       "2016-12-31 22:00                            0.0                        1.0   \n",
       "2016-12-31 23:00                            0.0                        0.0   \n",
       "\n",
       "                  weather_snow_lag5  n_humidity_lag5  n_pressure_lag5  \\\n",
       "datetime                                                                \n",
       "2012-10-01 18:00                0.0         0.681319        -0.546338   \n",
       "2012-10-01 19:00                0.0         0.670330        -0.546338   \n",
       "2012-10-01 20:00                0.0         0.670330        -0.546338   \n",
       "2012-10-01 21:00                0.0         0.670330        -0.546338   \n",
       "2012-10-01 22:00                0.0         0.659341        -0.546338   \n",
       "...                             ...              ...              ...   \n",
       "2016-12-31 19:00                0.0         0.604396        -1.741911   \n",
       "2016-12-31 20:00                0.0         0.428571        -1.741911   \n",
       "2016-12-31 21:00                0.0         0.351648        -1.642280   \n",
       "2016-12-31 22:00                0.0         0.604396        -1.542649   \n",
       "2016-12-31 23:00                0.0         0.659341        -1.443018   \n",
       "\n",
       "                  n_temperature_lag5  n_wind_direction_lag5  n_wind_speed_lag5  \n",
       "datetime                                                                        \n",
       "2012-10-01 18:00            0.090982               0.000000          -2.284797  \n",
       "2012-10-01 19:00            0.094994               0.000000          -2.284797  \n",
       "2012-10-01 20:00            0.106013               0.000000          -2.284797  \n",
       "2012-10-01 21:00            0.117033               0.000000          -2.284797  \n",
       "2012-10-01 22:00            0.128052               0.000000          -2.284797  \n",
       "...                              ...                    ...                ...  \n",
       "2016-12-31 19:00           -0.574361               0.638889           1.344177  \n",
       "2016-12-31 20:00           -0.578850               0.666667           1.008900  \n",
       "2016-12-31 21:00           -0.571667               0.611111           1.008900  \n",
       "2016-12-31 22:00           -0.516895               0.777778           1.344177  \n",
       "2016-12-31 23:00           -0.524976               0.805556           1.344177  \n",
       "\n",
       "[35879 rows x 144 columns]"
      ]
     },
     "execution_count": 320,
     "metadata": {},
     "output_type": "execute_result"
    }
   ],
   "source": [
    "df_lags"
   ]
  },
  {
   "cell_type": "markdown",
   "metadata": {},
   "source": [
    "The first model simply relies on energy data and their lags. No other features are included. Here, we'll only use year 2013 as the training data."
   ]
  },
  {
   "cell_type": "code",
   "execution_count": 321,
   "metadata": {},
   "outputs": [],
   "source": [
    "df_lags_2013 = df_lags['2013']\n",
    "y_train = df_lags_2013[['n_energy']].to_numpy()\n",
    "X_train = df_lags_2013[['n_energy_lag1','n_energy_lag2','n_energy_lag3','n_energy_lag4','n_energy_lag5']].to_numpy()\n",
    "X_train = X_train.reshape((X_train.shape[0], 1, X_train.shape[1]))"
   ]
  },
  {
   "cell_type": "code",
   "execution_count": 322,
   "metadata": {},
   "outputs": [],
   "source": [
    "model1 = Sequential()\n",
    "model1.add(LSTM(100, input_shape=(X_train.shape[1], X_train.shape[2])))\n",
    "model1.add(Dense(1))\n",
    "model1.compile(loss='mse', optimizer='adam')"
   ]
  },
  {
   "cell_type": "code",
   "execution_count": 330,
   "metadata": {},
   "outputs": [
    {
     "name": "stdout",
     "output_type": "stream",
     "text": [
      "Epoch 1/100\n",
      "810/810 [==============================] - 4s 3ms/step - loss: 0.0179\n",
      "Epoch 2/100\n",
      "810/810 [==============================] - 3s 3ms/step - loss: 0.0178\n",
      "Epoch 3/100\n",
      "810/810 [==============================] - 3s 3ms/step - loss: 0.0177\n",
      "Epoch 4/100\n",
      "810/810 [==============================] - 3s 3ms/step - loss: 0.0177\n",
      "Epoch 5/100\n",
      "810/810 [==============================] - 3s 3ms/step - loss: 0.0176\n",
      "Epoch 6/100\n",
      "810/810 [==============================] - 3s 3ms/step - loss: 0.0176\n",
      "Epoch 7/100\n",
      "810/810 [==============================] - 3s 3ms/step - loss: 0.0175\n",
      "Epoch 8/100\n",
      "810/810 [==============================] - 3s 4ms/step - loss: 0.0175\n",
      "Epoch 9/100\n",
      "810/810 [==============================] - 3s 3ms/step - loss: 0.0174\n",
      "Epoch 10/100\n",
      "810/810 [==============================] - 3s 3ms/step - loss: 0.0174\n",
      "Epoch 11/100\n",
      "810/810 [==============================] - 3s 3ms/step - loss: 0.0173\n",
      "Epoch 12/100\n",
      "810/810 [==============================] - 3s 4ms/step - loss: 0.0173\n",
      "Epoch 13/100\n",
      "810/810 [==============================] - 3s 3ms/step - loss: 0.0172\n",
      "Epoch 14/100\n",
      "810/810 [==============================] - 3s 3ms/step - loss: 0.0172\n",
      "Epoch 15/100\n",
      "810/810 [==============================] - 3s 3ms/step - loss: 0.0171\n",
      "Epoch 16/100\n",
      "810/810 [==============================] - 3s 3ms/step - loss: 0.0171\n",
      "Epoch 17/100\n",
      "810/810 [==============================] - 3s 3ms/step - loss: 0.0171\n",
      "Epoch 18/100\n",
      "810/810 [==============================] - 3s 3ms/step - loss: 0.0170\n",
      "Epoch 19/100\n",
      "810/810 [==============================] - 3s 3ms/step - loss: 0.0170\n",
      "Epoch 20/100\n",
      "810/810 [==============================] - 3s 3ms/step - loss: 0.0170\n",
      "Epoch 21/100\n",
      "810/810 [==============================] - 3s 3ms/step - loss: 0.0169\n",
      "Epoch 22/100\n",
      "810/810 [==============================] - 3s 3ms/step - loss: 0.0169\n",
      "Epoch 23/100\n",
      "810/810 [==============================] - 3s 3ms/step - loss: 0.0169\n",
      "Epoch 24/100\n",
      "810/810 [==============================] - 3s 3ms/step - loss: 0.0168\n",
      "Epoch 25/100\n",
      "810/810 [==============================] - 3s 3ms/step - loss: 0.0168\n",
      "Epoch 26/100\n",
      "810/810 [==============================] - 3s 3ms/step - loss: 0.0168\n",
      "Epoch 27/100\n",
      "810/810 [==============================] - 3s 3ms/step - loss: 0.0167\n",
      "Epoch 28/100\n",
      "810/810 [==============================] - 3s 3ms/step - loss: 0.0167\n",
      "Epoch 29/100\n",
      "810/810 [==============================] - 3s 3ms/step - loss: 0.0167\n",
      "Epoch 30/100\n",
      "810/810 [==============================] - 3s 3ms/step - loss: 0.0167\n",
      "Epoch 31/100\n",
      "810/810 [==============================] - 3s 3ms/step - loss: 0.0167\n",
      "Epoch 32/100\n",
      "810/810 [==============================] - 3s 4ms/step - loss: 0.0166\n",
      "Epoch 33/100\n",
      "810/810 [==============================] - 3s 3ms/step - loss: 0.0166\n",
      "Epoch 34/100\n",
      "810/810 [==============================] - 3s 3ms/step - loss: 0.0166\n",
      "Epoch 35/100\n",
      "810/810 [==============================] - 3s 3ms/step - loss: 0.0166\n",
      "Epoch 36/100\n",
      "810/810 [==============================] - 3s 3ms/step - loss: 0.0165\n",
      "Epoch 37/100\n",
      "810/810 [==============================] - 3s 4ms/step - loss: 0.0165\n",
      "Epoch 38/100\n",
      "810/810 [==============================] - 4s 5ms/step - loss: 0.0165\n",
      "Epoch 39/100\n",
      "810/810 [==============================] - 3s 4ms/step - loss: 0.0165\n",
      "Epoch 40/100\n",
      "810/810 [==============================] - 3s 4ms/step - loss: 0.0165\n",
      "Epoch 41/100\n",
      "810/810 [==============================] - 2s 3ms/step - loss: 0.0164\n",
      "Epoch 42/100\n",
      "810/810 [==============================] - 3s 3ms/step - loss: 0.0164\n",
      "Epoch 43/100\n",
      "810/810 [==============================] - 2s 3ms/step - loss: 0.0164\n",
      "Epoch 44/100\n",
      "810/810 [==============================] - 3s 3ms/step - loss: 0.0164\n",
      "Epoch 45/100\n",
      "810/810 [==============================] - 3s 4ms/step - loss: 0.0164\n",
      "Epoch 46/100\n",
      "810/810 [==============================] - 3s 4ms/step - loss: 0.0163\n",
      "Epoch 47/100\n",
      "810/810 [==============================] - 3s 4ms/step - loss: 0.0163\n",
      "Epoch 48/100\n",
      "810/810 [==============================] - 3s 3ms/step - loss: 0.0163\n",
      "Epoch 49/100\n",
      "810/810 [==============================] - 3s 3ms/step - loss: 0.0163\n",
      "Epoch 50/100\n",
      "810/810 [==============================] - 3s 3ms/step - loss: 0.0163\n",
      "Epoch 51/100\n",
      "810/810 [==============================] - 3s 3ms/step - loss: 0.0162\n",
      "Epoch 52/100\n",
      "810/810 [==============================] - 3s 3ms/step - loss: 0.0162\n",
      "Epoch 53/100\n",
      "810/810 [==============================] - 3s 3ms/step - loss: 0.0162\n",
      "Epoch 54/100\n",
      "810/810 [==============================] - 3s 3ms/step - loss: 0.0162\n",
      "Epoch 55/100\n",
      "810/810 [==============================] - 3s 3ms/step - loss: 0.0162\n",
      "Epoch 56/100\n",
      "810/810 [==============================] - 3s 3ms/step - loss: 0.0162\n",
      "Epoch 57/100\n",
      "810/810 [==============================] - 3s 3ms/step - loss: 0.0161\n",
      "Epoch 58/100\n",
      "810/810 [==============================] - 3s 3ms/step - loss: 0.0161\n",
      "Epoch 59/100\n",
      "810/810 [==============================] - 3s 3ms/step - loss: 0.0161\n",
      "Epoch 60/100\n",
      "810/810 [==============================] - 3s 3ms/step - loss: 0.0161\n",
      "Epoch 61/100\n",
      "810/810 [==============================] - 3s 3ms/step - loss: 0.0161\n",
      "Epoch 62/100\n",
      "810/810 [==============================] - 3s 3ms/step - loss: 0.0160\n",
      "Epoch 63/100\n",
      "810/810 [==============================] - 3s 3ms/step - loss: 0.0160\n",
      "Epoch 64/100\n",
      "810/810 [==============================] - 3s 3ms/step - loss: 0.0160\n",
      "Epoch 65/100\n",
      "810/810 [==============================] - 3s 3ms/step - loss: 0.0160\n",
      "Epoch 66/100\n",
      "810/810 [==============================] - 3s 3ms/step - loss: 0.0160\n",
      "Epoch 67/100\n",
      "810/810 [==============================] - 3s 3ms/step - loss: 0.0160\n",
      "Epoch 68/100\n",
      "810/810 [==============================] - 3s 4ms/step - loss: 0.0159\n",
      "Epoch 69/100\n",
      "810/810 [==============================] - 3s 4ms/step - loss: 0.0159\n",
      "Epoch 70/100\n",
      "810/810 [==============================] - 3s 3ms/step - loss: 0.0159\n",
      "Epoch 71/100\n",
      "810/810 [==============================] - 3s 3ms/step - loss: 0.0159\n",
      "Epoch 72/100\n",
      "810/810 [==============================] - 3s 3ms/step - loss: 0.0159\n",
      "Epoch 73/100\n",
      "810/810 [==============================] - 3s 3ms/step - loss: 0.0159\n",
      "Epoch 74/100\n",
      "810/810 [==============================] - 3s 3ms/step - loss: 0.0158A: 0s - loss: 0.01\n",
      "Epoch 75/100\n",
      "810/810 [==============================] - 3s 4ms/step - loss: 0.0158\n",
      "Epoch 76/100\n",
      "810/810 [==============================] - 3s 3ms/step - loss: 0.0158\n",
      "Epoch 77/100\n",
      "810/810 [==============================] - 3s 3ms/step - loss: 0.0158\n",
      "Epoch 78/100\n",
      "810/810 [==============================] - 3s 3ms/step - loss: 0.0158\n",
      "Epoch 79/100\n",
      "810/810 [==============================] - 3s 3ms/step - loss: 0.0157\n",
      "Epoch 80/100\n",
      "810/810 [==============================] - 3s 3ms/step - loss: 0.0157\n",
      "Epoch 81/100\n",
      "810/810 [==============================] - 3s 4ms/step - loss: 0.0157\n",
      "Epoch 82/100\n",
      "810/810 [==============================] - 3s 3ms/step - loss: 0.0157\n",
      "Epoch 83/100\n",
      "810/810 [==============================] - 3s 3ms/step - loss: 0.0157\n",
      "Epoch 84/100\n",
      "810/810 [==============================] - 3s 3ms/step - loss: 0.0157\n",
      "Epoch 85/100\n",
      "810/810 [==============================] - 3s 3ms/step - loss: 0.0157\n",
      "Epoch 86/100\n",
      "810/810 [==============================] - 3s 3ms/step - loss: 0.0156\n",
      "Epoch 87/100\n",
      "810/810 [==============================] - 3s 3ms/step - loss: 0.0156\n",
      "Epoch 88/100\n",
      "810/810 [==============================] - 3s 3ms/step - loss: 0.0156\n",
      "Epoch 89/100\n",
      "810/810 [==============================] - 3s 3ms/step - loss: 0.0156\n",
      "Epoch 90/100\n",
      "810/810 [==============================] - 3s 3ms/step - loss: 0.0156\n",
      "Epoch 91/100\n",
      "810/810 [==============================] - 3s 3ms/step - loss: 0.0156\n",
      "Epoch 92/100\n",
      "810/810 [==============================] - 3s 3ms/step - loss: 0.0155\n",
      "Epoch 93/100\n",
      "810/810 [==============================] - 3s 3ms/step - loss: 0.0155\n",
      "Epoch 94/100\n",
      "810/810 [==============================] - 3s 3ms/step - loss: 0.0155\n",
      "Epoch 95/100\n",
      "810/810 [==============================] - 3s 3ms/step - loss: 0.0155\n",
      "Epoch 96/100\n",
      "810/810 [==============================] - 3s 3ms/step - loss: 0.0155\n",
      "Epoch 97/100\n",
      "810/810 [==============================] - 3s 3ms/step - loss: 0.0155\n",
      "Epoch 98/100\n",
      "810/810 [==============================] - 3s 3ms/step - loss: 0.0155\n",
      "Epoch 99/100\n",
      "810/810 [==============================] - 3s 3ms/step - loss: 0.0154\n",
      "Epoch 100/100\n",
      "810/810 [==============================] - 3s 3ms/step - loss: 0.0154\n"
     ]
    }
   ],
   "source": [
    "history1 = model1.fit(X_train, y_train, epochs=100, batch_size=10, verbose='auto', shuffle=False)"
   ]
  },
  {
   "cell_type": "code",
   "execution_count": 336,
   "metadata": {},
   "outputs": [
    {
     "data": {
      "image/png": "[encoded data removed]",
      "text/plain": [
       "<Figure size 432x288 with 1 Axes>"
      ]
     },
     "metadata": {
      "needs_background": "light"
     },
     "output_type": "display_data"
    }
   ],
   "source": [
    "plt.plot(history1.history['loss'], label='Train')\n",
    "plt.legend()\n",
    "plt.show()"
   ]
  },
  {
   "cell_type": "markdown",
   "metadata": {},
   "source": [
    "Increasing the epoch could further decreases loss, however, it could also overfit."
   ]
  },
  {
   "cell_type": "markdown",
   "metadata": {},
   "source": [
    "# LSTM model + features"
   ]
  },
  {
   "cell_type": "markdown",
   "metadata": {},
   "source": [
    "In the second model, we'll include everything related to weather (categorical and numerical) and their associated lags."
   ]
  },
  {
   "cell_type": "code",
   "execution_count": 331,
   "metadata": {},
   "outputs": [],
   "source": [
    "df_lags_2013 = df_lags['2013']\n",
    "y_train = df_lags_2013[['n_energy']].to_numpy()\n",
    "X_train = df_lags_2013.drop(columns=['n_energy'],axis=1).to_numpy()\n",
    "X_train = X_train.reshape((X_train.shape[0], 1, X_train.shape[1]))"
   ]
  },
  {
   "cell_type": "code",
   "execution_count": 332,
   "metadata": {},
   "outputs": [],
   "source": [
    "model2 = Sequential()\n",
    "model2.add(LSTM(100, input_shape=(X_train.shape[1], X_train.shape[2])))\n",
    "model2.add(Dense(1))\n",
    "model2.compile(loss='mse', optimizer='adam')"
   ]
  },
  {
   "cell_type": "code",
   "execution_count": 333,
   "metadata": {},
   "outputs": [
    {
     "name": "stdout",
     "output_type": "stream",
     "text": [
      "Epoch 1/100\n",
      "810/810 [==============================] - 4s 3ms/step - loss: 0.1029\n",
      "Epoch 2/100\n",
      "810/810 [==============================] - 3s 3ms/step - loss: 0.0539\n",
      "Epoch 3/100\n",
      "810/810 [==============================] - 3s 3ms/step - loss: 0.0450\n",
      "Epoch 4/100\n",
      "810/810 [==============================] - 2s 3ms/step - loss: 0.0395\n",
      "Epoch 5/100\n",
      "810/810 [==============================] - 2s 3ms/step - loss: 0.0359\n",
      "Epoch 6/100\n",
      "810/810 [==============================] - 2s 3ms/step - loss: 0.0332\n",
      "Epoch 7/100\n",
      "810/810 [==============================] - 2s 3ms/step - loss: 0.0311\n",
      "Epoch 8/100\n",
      "810/810 [==============================] - 3s 3ms/step - loss: 0.0293\n",
      "Epoch 9/100\n",
      "810/810 [==============================] - 2s 3ms/step - loss: 0.0277\n",
      "Epoch 10/100\n",
      "810/810 [==============================] - 2s 3ms/step - loss: 0.0263\n",
      "Epoch 11/100\n",
      "810/810 [==============================] - 2s 3ms/step - loss: 0.0251\n",
      "Epoch 12/100\n",
      "810/810 [==============================] - 3s 3ms/step - loss: 0.0240\n",
      "Epoch 13/100\n",
      "810/810 [==============================] - 2s 3ms/step - loss: 0.0230\n",
      "Epoch 14/100\n",
      "810/810 [==============================] - 2s 3ms/step - loss: 0.0221\n",
      "Epoch 15/100\n",
      "810/810 [==============================] - 2s 3ms/step - loss: 0.0213\n",
      "Epoch 16/100\n",
      "810/810 [==============================] - 2s 3ms/step - loss: 0.0205\n",
      "Epoch 17/100\n",
      "810/810 [==============================] - 2s 3ms/step - loss: 0.0197\n",
      "Epoch 18/100\n",
      "810/810 [==============================] - 2s 3ms/step - loss: 0.0193\n",
      "Epoch 19/100\n",
      "810/810 [==============================] - 2s 3ms/step - loss: 0.0190\n",
      "Epoch 20/100\n",
      "810/810 [==============================] - 2s 3ms/step - loss: 0.0187\n",
      "Epoch 21/100\n",
      "810/810 [==============================] - 3s 3ms/step - loss: 0.0183\n",
      "Epoch 22/100\n",
      "810/810 [==============================] - 2s 3ms/step - loss: 0.0176\n",
      "Epoch 23/100\n",
      "810/810 [==============================] - 2s 3ms/step - loss: 0.0168\n",
      "Epoch 24/100\n",
      "810/810 [==============================] - 3s 3ms/step - loss: 0.0159\n",
      "Epoch 25/100\n",
      "810/810 [==============================] - 3s 3ms/step - loss: 0.0149\n",
      "Epoch 26/100\n",
      "810/810 [==============================] - 2s 3ms/step - loss: 0.0144\n",
      "Epoch 27/100\n",
      "810/810 [==============================] - 2s 3ms/step - loss: 0.0145\n",
      "Epoch 28/100\n",
      "810/810 [==============================] - 2s 3ms/step - loss: 0.0160\n",
      "Epoch 29/100\n",
      "810/810 [==============================] - 2s 3ms/step - loss: 0.0149\n",
      "Epoch 30/100\n",
      "810/810 [==============================] - 2s 3ms/step - loss: 0.0145\n",
      "Epoch 31/100\n",
      "810/810 [==============================] - 2s 3ms/step - loss: 0.0165\n",
      "Epoch 32/100\n",
      "810/810 [==============================] - 2s 3ms/step - loss: 0.0134\n",
      "Epoch 33/100\n",
      "810/810 [==============================] - 2s 3ms/step - loss: 0.0140\n",
      "Epoch 34/100\n",
      "810/810 [==============================] - 2s 3ms/step - loss: 0.0130\n",
      "Epoch 35/100\n",
      "810/810 [==============================] - 2s 3ms/step - loss: 0.0124\n",
      "Epoch 36/100\n",
      "810/810 [==============================] - 2s 3ms/step - loss: 0.0144\n",
      "Epoch 37/100\n",
      "810/810 [==============================] - 2s 3ms/step - loss: 0.0135\n",
      "Epoch 38/100\n",
      "810/810 [==============================] - 2s 3ms/step - loss: 0.0136\n",
      "Epoch 39/100\n",
      "810/810 [==============================] - 2s 3ms/step - loss: 0.0135\n",
      "Epoch 40/100\n",
      "810/810 [==============================] - 2s 3ms/step - loss: 0.0118\n",
      "Epoch 41/100\n",
      "810/810 [==============================] - 2s 3ms/step - loss: 0.0126\n",
      "Epoch 42/100\n",
      "810/810 [==============================] - 2s 3ms/step - loss: 0.0118\n",
      "Epoch 43/100\n",
      "810/810 [==============================] - 2s 3ms/step - loss: 0.0109\n",
      "Epoch 44/100\n",
      "810/810 [==============================] - 2s 3ms/step - loss: 0.0108\n",
      "Epoch 45/100\n",
      "810/810 [==============================] - 2s 3ms/step - loss: 0.0099\n",
      "Epoch 46/100\n",
      "810/810 [==============================] - 2s 3ms/step - loss: 0.0102\n",
      "Epoch 47/100\n",
      "810/810 [==============================] - 2s 3ms/step - loss: 0.0105\n",
      "Epoch 48/100\n",
      "810/810 [==============================] - 3s 4ms/step - loss: 0.0102\n",
      "Epoch 49/100\n",
      "810/810 [==============================] - 2s 3ms/step - loss: 0.0101\n",
      "Epoch 50/100\n",
      "810/810 [==============================] - 2s 3ms/step - loss: 0.0110\n",
      "Epoch 51/100\n",
      "810/810 [==============================] - 2s 3ms/step - loss: 0.0101\n",
      "Epoch 52/100\n",
      "810/810 [==============================] - 2s 3ms/step - loss: 0.0091\n",
      "Epoch 53/100\n",
      "810/810 [==============================] - 2s 3ms/step - loss: 0.0090\n",
      "Epoch 54/100\n",
      "810/810 [==============================] - 2s 3ms/step - loss: 0.0086\n",
      "Epoch 55/100\n",
      "810/810 [==============================] - 2s 3ms/step - loss: 0.0097\n",
      "Epoch 56/100\n",
      "810/810 [==============================] - 2s 3ms/step - loss: 0.0098\n",
      "Epoch 57/100\n",
      "810/810 [==============================] - 2s 3ms/step - loss: 0.0093\n",
      "Epoch 58/100\n",
      "810/810 [==============================] - 2s 3ms/step - loss: 0.0090\n",
      "Epoch 59/100\n",
      "810/810 [==============================] - 2s 3ms/step - loss: 0.0082\n",
      "Epoch 60/100\n",
      "810/810 [==============================] - 3s 3ms/step - loss: 0.0079\n",
      "Epoch 61/100\n",
      "810/810 [==============================] - 3s 3ms/step - loss: 0.0091\n",
      "Epoch 62/100\n",
      "810/810 [==============================] - 3s 3ms/step - loss: 0.0091\n",
      "Epoch 63/100\n",
      "810/810 [==============================] - 2s 3ms/step - loss: 0.0087\n",
      "Epoch 64/100\n",
      "810/810 [==============================] - 2s 3ms/step - loss: 0.0079\n",
      "Epoch 65/100\n",
      "810/810 [==============================] - 2s 3ms/step - loss: 0.0074\n",
      "Epoch 66/100\n",
      "810/810 [==============================] - 2s 3ms/step - loss: 0.0071\n",
      "Epoch 67/100\n",
      "810/810 [==============================] - 2s 3ms/step - loss: 0.0086\n",
      "Epoch 68/100\n",
      "810/810 [==============================] - 2s 3ms/step - loss: 0.0094\n",
      "Epoch 69/100\n",
      "810/810 [==============================] - 2s 3ms/step - loss: 0.0089\n",
      "Epoch 70/100\n",
      "810/810 [==============================] - 3s 3ms/step - loss: 0.0076\n",
      "Epoch 71/100\n",
      "810/810 [==============================] - 3s 3ms/step - loss: 0.0078\n",
      "Epoch 72/100\n",
      "810/810 [==============================] - 2s 3ms/step - loss: 0.0068\n",
      "Epoch 73/100\n",
      "810/810 [==============================] - 2s 3ms/step - loss: 0.0062\n",
      "Epoch 74/100\n",
      "810/810 [==============================] - 3s 3ms/step - loss: 0.0065\n",
      "Epoch 75/100\n",
      "810/810 [==============================] - 3s 3ms/step - loss: 0.0064\n",
      "Epoch 76/100\n",
      "810/810 [==============================] - 2s 3ms/step - loss: 0.0065\n",
      "Epoch 77/100\n",
      "810/810 [==============================] - 2s 3ms/step - loss: 0.0075\n",
      "Epoch 78/100\n",
      "810/810 [==============================] - 2s 3ms/step - loss: 0.0069\n",
      "Epoch 79/100\n",
      "810/810 [==============================] - 2s 3ms/step - loss: 0.0065\n",
      "Epoch 80/100\n",
      "810/810 [==============================] - 2s 3ms/step - loss: 0.0062\n",
      "Epoch 81/100\n",
      "810/810 [==============================] - 2s 3ms/step - loss: 0.0057\n",
      "Epoch 82/100\n",
      "810/810 [==============================] - 2s 3ms/step - loss: 0.0059\n",
      "Epoch 83/100\n",
      "810/810 [==============================] - 2s 3ms/step - loss: 0.0062\n",
      "Epoch 84/100\n",
      "810/810 [==============================] - 2s 3ms/step - loss: 0.0061\n",
      "Epoch 85/100\n",
      "810/810 [==============================] - 2s 3ms/step - loss: 0.0060\n",
      "Epoch 86/100\n",
      "810/810 [==============================] - 2s 3ms/step - loss: 0.0061\n",
      "Epoch 87/100\n",
      "810/810 [==============================] - 2s 3ms/step - loss: 0.0063\n",
      "Epoch 88/100\n",
      "810/810 [==============================] - 2s 3ms/step - loss: 0.0059\n",
      "Epoch 89/100\n",
      "810/810 [==============================] - 2s 3ms/step - loss: 0.0057\n",
      "Epoch 90/100\n",
      "810/810 [==============================] - 2s 3ms/step - loss: 0.0053\n",
      "Epoch 91/100\n",
      "810/810 [==============================] - 2s 3ms/step - loss: 0.0081\n",
      "Epoch 92/100\n",
      "810/810 [==============================] - 2s 3ms/step - loss: 0.0070\n",
      "Epoch 93/100\n",
      "810/810 [==============================] - 2s 3ms/step - loss: 0.0055\n",
      "Epoch 94/100\n",
      "810/810 [==============================] - 2s 3ms/step - loss: 0.0049\n",
      "Epoch 95/100\n",
      "810/810 [==============================] - 2s 3ms/step - loss: 0.0046\n",
      "Epoch 96/100\n",
      "810/810 [==============================] - 2s 3ms/step - loss: 0.0051\n",
      "Epoch 97/100\n",
      "810/810 [==============================] - 2s 3ms/step - loss: 0.0075\n",
      "Epoch 98/100\n",
      "810/810 [==============================] - 3s 3ms/step - loss: 0.0069\n",
      "Epoch 99/100\n",
      "810/810 [==============================] - 2s 3ms/step - loss: 0.0055\n",
      "Epoch 100/100\n",
      "810/810 [==============================] - 2s 3ms/step - loss: 0.0046\n"
     ]
    }
   ],
   "source": [
    "history2 = model2.fit(X_train, y_train, epochs=100, batch_size=10, verbose='auto', shuffle=False)"
   ]
  },
  {
   "cell_type": "code",
   "execution_count": 334,
   "metadata": {},
   "outputs": [
    {
     "data": {
      "image/png": "[encoded data removed]",
      "text/plain": [
       "<Figure size 432x288 with 1 Axes>"
      ]
     },
     "metadata": {
      "needs_background": "light"
     },
     "output_type": "display_data"
    }
   ],
   "source": [
    "plt.plot(history2.history['loss'], label='Train')\n",
    "plt.legend()\n",
    "plt.show()"
   ]
  },
  {
   "cell_type": "markdown",
   "metadata": {},
   "source": [
    "The loss versus epoch curve appear to reach the plateau with 50 epochs."
   ]
  },
  {
   "cell_type": "markdown",
   "metadata": {},
   "source": [
    "# Forecast - LSTM"
   ]
  },
  {
   "cell_type": "code",
   "execution_count": 360,
   "metadata": {},
   "outputs": [],
   "source": [
    "from sklearn.metrics import mean_squared_error"
   ]
  },
  {
   "cell_type": "markdown",
   "metadata": {},
   "source": [
    "## LSTM"
   ]
  },
  {
   "cell_type": "markdown",
   "metadata": {},
   "source": [
    "Here we can try to forcast the energy consumption for the year 2014 to 2016 using model 1 (without features)."
   ]
  },
  {
   "cell_type": "code",
   "execution_count": 347,
   "metadata": {},
   "outputs": [],
   "source": [
    "df_lags_2014_2016 = df_lags['2014':'2016']\n",
    "y_train = df_lags_2014_2016[['n_energy']].to_numpy()\n",
    "X_train = df_lags_2014_2016[['n_energy_lag1','n_energy_lag2','n_energy_lag3','n_energy_lag4','n_energy_lag5']].to_numpy()\n",
    "X_train = X_train.reshape((X_train.shape[0], 1, X_train.shape[1]))"
   ]
  },
  {
   "cell_type": "code",
   "execution_count": 351,
   "metadata": {},
   "outputs": [],
   "source": [
    "trainPredict1 = model1.predict(X_train)"
   ]
  },
  {
   "cell_type": "code",
   "execution_count": 358,
   "metadata": {},
   "outputs": [
    {
     "data": {
      "image/png": "[encoded data removed]",
      "text/plain": [
       "<Figure size 1080x288 with 1 Axes>"
      ]
     },
     "metadata": {
      "needs_background": "light"
     },
     "output_type": "display_data"
    }
   ],
   "source": [
    "plt.figure(figsize=(15,4))\n",
    "plt.plot(trainPredict1,label='predict')\n",
    "plt.plot(y_train,label='train')\n",
    "plt.legend()\n",
    "plt.show()"
   ]
  },
  {
   "cell_type": "code",
   "execution_count": 361,
   "metadata": {},
   "outputs": [
    {
     "name": "stdout",
     "output_type": "stream",
     "text": [
      "0.10915845399323972\n"
     ]
    }
   ],
   "source": [
    "rmse = np.sqrt(mean_squared_error(y_train, trainPredict1))\n",
    "print(rmse)"
   ]
  },
  {
   "cell_type": "markdown",
   "metadata": {},
   "source": [
    "## LSTM with features"
   ]
  },
  {
   "cell_type": "markdown",
   "metadata": {},
   "source": [
    "Here we can try to forcast the energy consumption for the year 2014 to 2016 using model 2 (with features)."
   ]
  },
  {
   "cell_type": "code",
   "execution_count": 355,
   "metadata": {},
   "outputs": [],
   "source": [
    "df_lags_2014_2016 = df_lags['2014':'2016']\n",
    "y_train = df_lags_2014_2016[['n_energy']].to_numpy()\n",
    "X_train = df_lags_2014_2016.drop(columns=['n_energy'],axis=1).to_numpy()\n",
    "X_train = X_train.reshape((X_train.shape[0], 1, X_train.shape[1]))"
   ]
  },
  {
   "cell_type": "code",
   "execution_count": 356,
   "metadata": {},
   "outputs": [],
   "source": [
    "trainPredict2 = model2.predict(X_train)"
   ]
  },
  {
   "cell_type": "code",
   "execution_count": 359,
   "metadata": {},
   "outputs": [
    {
     "data": {
      "image/png": "[encoded data removed]",
      "text/plain": [
       "<Figure size 1080x288 with 1 Axes>"
      ]
     },
     "metadata": {
      "needs_background": "light"
     },
     "output_type": "display_data"
    }
   ],
   "source": [
    "plt.figure(figsize=(15,4))\n",
    "plt.plot(trainPredict2,label='predict')\n",
    "plt.plot(y_train,label='train')\n",
    "plt.legend()\n",
    "plt.show()"
   ]
  },
  {
   "cell_type": "code",
   "execution_count": 362,
   "metadata": {},
   "outputs": [
    {
     "name": "stdout",
     "output_type": "stream",
     "text": [
      "0.20813314576488925\n"
     ]
    }
   ],
   "source": [
    "rmse = np.sqrt(mean_squared_error(y_train, trainPredict2))\n",
    "print(rmse)"
   ]
  },
  {
   "cell_type": "markdown",
   "metadata": {},
   "source": [
    "Our data show that without features can lead to better performance (i.e., model1 has lower rmse than model2). This is consistent with out ARIMA models."
   ]
  },
  {
   "cell_type": "markdown",
   "metadata": {},
   "source": [
    "# Rolling Forecast"
   ]
  },
  {
   "cell_type": "markdown",
   "metadata": {},
   "source": [
    "To compare with ARIMA models, we'll make predictions for the same range which is the first 100 points of the year 2014. Below, we extracted mean and stadard deviation of the energy scaler in the preprocessing steps. It will allow us to convert normalized unit back to energy unit."
   ]
  },
  {
   "cell_type": "code",
   "execution_count": 389,
   "metadata": {},
   "outputs": [],
   "source": [
    "mymean = 11371.08805763\n",
    "mystd = 2196.74458408"
   ]
  },
  {
   "cell_type": "markdown",
   "metadata": {},
   "source": [
    "First, we model LSTM without feature (model 1)."
   ]
  },
  {
   "cell_type": "code",
   "execution_count": 390,
   "metadata": {},
   "outputs": [],
   "source": [
    "df_lags_100 = df_lags['2014'][:100]\n",
    "y_train = df_lags_100[['n_energy']].to_numpy()\n",
    "X_train = df_lags_100[['n_energy_lag1','n_energy_lag2','n_energy_lag3','n_energy_lag4','n_energy_lag5']].to_numpy()\n",
    "X_train = X_train.reshape((X_train.shape[0], 1, X_train.shape[1]))"
   ]
  },
  {
   "cell_type": "code",
   "execution_count": 391,
   "metadata": {},
   "outputs": [],
   "source": [
    "trainPredict1 = model1.predict(X_train)"
   ]
  },
  {
   "cell_type": "code",
   "execution_count": 393,
   "metadata": {},
   "outputs": [
    {
     "data": {
      "image/png": "[encoded data removed]",
      "text/plain": [
       "<Figure size 1080x288 with 1 Axes>"
      ]
     },
     "metadata": {
      "needs_background": "light"
     },
     "output_type": "display_data"
    }
   ],
   "source": [
    "plt.figure(figsize=(15,4))\n",
    "plt.plot(trainPredict1*mystd+mymean,label='predict')\n",
    "plt.plot(y_train*mystd+mymean,label='train')\n",
    "plt.legend()\n",
    "plt.show()"
   ]
  },
  {
   "cell_type": "code",
   "execution_count": 396,
   "metadata": {},
   "outputs": [
    {
     "name": "stdout",
     "output_type": "stream",
     "text": [
      "202.25746350662024\n"
     ]
    }
   ],
   "source": [
    "rmse = np.sqrt(mean_squared_error(y_train*mystd+mymean, trainPredict1*mystd+mymean))\n",
    "print(rmse)"
   ]
  },
  {
   "cell_type": "markdown",
   "metadata": {},
   "source": [
    "Next, we model LSTM with feature (model 2)."
   ]
  },
  {
   "cell_type": "code",
   "execution_count": 397,
   "metadata": {},
   "outputs": [],
   "source": [
    "df_lags_100 = df_lags['2014'][:100]\n",
    "y_train = df_lags_100[['n_energy']].to_numpy()\n",
    "X_train = df_lags_100.drop(columns=['n_energy'],axis=1).to_numpy()\n",
    "X_train = X_train.reshape((X_train.shape[0], 1, X_train.shape[1]))"
   ]
  },
  {
   "cell_type": "code",
   "execution_count": 398,
   "metadata": {},
   "outputs": [],
   "source": [
    "trainPredict2 = model2.predict(X_train)"
   ]
  },
  {
   "cell_type": "code",
   "execution_count": 399,
   "metadata": {},
   "outputs": [
    {
     "data": {
      "image/png": "[encoded data removed]",
      "text/plain": [
       "<Figure size 1080x288 with 1 Axes>"
      ]
     },
     "metadata": {
      "needs_background": "light"
     },
     "output_type": "display_data"
    }
   ],
   "source": [
    "plt.figure(figsize=(15,4))\n",
    "plt.plot(trainPredict2*mystd+mymean,label='predict')\n",
    "plt.plot(y_train*mystd+mymean,label='train')\n",
    "plt.legend()\n",
    "plt.show()"
   ]
  },
  {
   "cell_type": "code",
   "execution_count": 400,
   "metadata": {},
   "outputs": [
    {
     "name": "stdout",
     "output_type": "stream",
     "text": [
      "465.4487061942178\n"
     ]
    }
   ],
   "source": [
    "rmse = np.sqrt(mean_squared_error(y_train*mystd+mymean, trainPredict2*mystd+mymean))\n",
    "print(rmse)"
   ]
  },
  {
   "cell_type": "markdown",
   "metadata": {},
   "source": [
    "Similarly, our data show that model 1 is better than model 2, with rmse 202.25 and 465.44, respectively. The LSTM without features is also better than other ARIMA models. The rmse with ARIMA models are 208.46 and 221.22, for without and with features, respectively.\n",
    "\n",
    "Bottom line - LSTM without feature is the best."
   ]
  },
  {
   "cell_type": "markdown",
   "metadata": {},
   "source": [
    "Note, with limited time and resources, these LSTM models are far from optimal and the network architecture should be explored."
   ]
  },
  {
   "cell_type": "code",
   "execution_count": null,
   "metadata": {},
   "outputs": [],
   "source": []
  }
 ],
 "metadata": {
  "kernelspec": {
   "display_name": "Python 3",
   "language": "python",
   "name": "python3"
  },
  "language_info": {
   "codemirror_mode": {
    "name": "ipython",
    "version": 3
   },
   "file_extension": ".py",
   "mimetype": "text/x-python",
   "name": "python",
   "nbconvert_exporter": "python",
   "pygments_lexer": "ipython3",
   "version": "3.7.6"
  }
 },
 "nbformat": 4,
 "nbformat_minor": 4
}
